{
  "cells": [
    {
      "cell_type": "markdown",
      "metadata": {},
      "source": [
        "\n# Basic usage of CDSS to generate a protocol recommendation.\n\nThis example demonstrates how to use the `DataLoader`, `DataProcessor`, and `CDSS`\nto load data and generate a 7-day protocol plan.\n"
      ]
    },
    {
      "cell_type": "code",
      "execution_count": null,
      "metadata": {
        "collapsed": false
      },
      "outputs": [],
      "source": [
        "import sys\nsys.path.append(\"..\")\nfrom ai_cdss.cdss import CDSS\nfrom ai_cdss.data_loader import DataLoaderMock\nfrom ai_cdss.data_processor import DataProcessor\n# from IPython.display import display\n\nprint(__doc__)\n\nPATIENT_LIST = [\n    775,  787,  788\n]\n\n# Parameters\nrgs_mode = \"app\"\nweights = [1,1,1]\nalpha = 0.5\n\nn = 12\ndays = 7\nprotocols_per_day = 5\n\n# Services\nloader = DataLoaderMock(\n    num_patients=5,\n    num_protocols=4,\n    num_sessions=10\n)\nprocessor = DataProcessor(\n    weights=weights,\n    alpha=alpha\n)\n\n# Execution\nsession = loader.load_session_data(patient_list=PATIENT_LIST)\ntimeseries = loader.load_timeseries_data(patient_list=PATIENT_LIST)\nppf = loader.load_ppf_data(patient_list=PATIENT_LIST)\ninit_metrics = loader.load_protocol_init()\n\n\nprotocol_similarity = loader.load_protocol_similarity()\n\nscores = processor.process_data(\n    session_data=session, \n    timeseries_data=timeseries, \n    ppf_data=ppf,\n    init_data=init_metrics)\n\n# CDSS\ncdss = CDSS(\n    scoring=scores,\n    n=n,\n    days=days,\n    protocols_per_day=protocols_per_day\n)\n\n# Results\n# patient_id = PATIENT_LIST[0]\npatient_id = 1\n\nrecommendation = cdss.recommend(patient_id=patient_id, protocol_similarity=protocol_similarity)\nprint(recommendation)"
      ]
    }
  ],
  "metadata": {
    "kernelspec": {
      "display_name": "Python 3",
      "language": "python",
      "name": "python3"
    },
    "language_info": {
      "codemirror_mode": {
        "name": "ipython",
        "version": 3
      },
      "file_extension": ".py",
      "mimetype": "text/x-python",
      "name": "python",
      "nbconvert_exporter": "python",
      "pygments_lexer": "ipython3",
      "version": "3.12.9"
    }
  },
  "nbformat": 4,
  "nbformat_minor": 0
}