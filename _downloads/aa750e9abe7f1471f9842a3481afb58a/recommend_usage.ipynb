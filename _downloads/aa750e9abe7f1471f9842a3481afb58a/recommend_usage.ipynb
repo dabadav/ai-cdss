{
  "cells": [
    {
      "cell_type": "markdown",
      "metadata": {},
      "source": [
        "\n# Basic usage of CDSS to generate a protocol recommendation.\n\nThis example demonstrates how to use the `DataLoader`, `DataProcessor`, and `CDSS`\nto load data and generate a 7-day protocol plan for testing/CI purposes.\n"
      ]
    },
    {
      "cell_type": "code",
      "execution_count": null,
      "metadata": {
        "collapsed": false
      },
      "outputs": [],
      "source": [
        "import sys\n\nsys.path.append(\"..\")\nimport pandas as pd\nfrom ai_cdss.cdss import CDSS\nfrom ai_cdss.constants import EWMA_ALPHA\nfrom ai_cdss.loaders.mock_loader import DataLoaderMock\nfrom ai_cdss.models import DataUnit, DataUnitName, DataUnitSet, Granularity\nfrom ai_cdss.processing.processor import DataProcessor\nfrom IPython.display import display\n\nprint(__doc__)\n\nPATIENT_LIST = [1, 2, 3]\n\n# Parameters\nrgs_mode = \"app\"\nweights = [1, 1, 1]\nalpha = EWMA_ALPHA\n\nn = 12\ndays = 7\nprotocols_per_day = 5\n\n# Services\nloader = DataLoaderMock(num_patients=5, num_protocols=5, num_sessions=10)\nprocessor = DataProcessor()\n\n# Execution\nsession = loader.load_session_data(patient_list=PATIENT_LIST)\ntimeseries = loader.load_timeseries_data(patient_list=PATIENT_LIST)\nppf = loader.load_ppf_data(patient_list=PATIENT_LIST)\npatient = loader.load_patient_data(patient_list=PATIENT_LIST)\nprotocol_similarity = loader.load_protocol_similarity()\n\n# Construct DataUnitSet for processing\nunits = [session, ppf, patient]\ndata_unit_set = DataUnitSet(units)\n\nscores = processor.process_data(data_unit_set, scoring_date=pd.Timestamp.today())\n\n# CDSS\ncdss = CDSS(scoring=scores, n=n, days=days, protocols_per_day=protocols_per_day)\n\n# Results\npatient_id = 1\nrecommendation = cdss.recommend(\n    patient_id=patient_id, protocol_similarity=protocol_similarity\n)\nrecommendation.to_csv(f\"recommendation_{patient_id}_new.csv\", index=False)\n\nwith pd.option_context(\"display.max_columns\", None):\n    display(recommendation)"
      ]
    }
  ],
  "metadata": {
    "kernelspec": {
      "display_name": "Python 3",
      "language": "python",
      "name": "python3"
    },
    "language_info": {
      "codemirror_mode": {
        "name": "ipython",
        "version": 3
      },
      "file_extension": ".py",
      "mimetype": "text/x-python",
      "name": "python",
      "nbconvert_exporter": "python",
      "pygments_lexer": "ipython3",
      "version": "3.12.11"
    }
  },
  "nbformat": 4,
  "nbformat_minor": 0
}