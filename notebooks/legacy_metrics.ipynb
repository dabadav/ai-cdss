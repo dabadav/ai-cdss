{
 "cells": [
  {
   "cell_type": "code",
   "execution_count": 9,
   "metadata": {},
   "outputs": [],
   "source": [
    "from rgs_interface.data.interface import fetch_rgs_data, fetch_timeseries_data, fetch_patients"
   ]
  },
  {
   "cell_type": "code",
   "execution_count": 10,
   "metadata": {},
   "outputs": [
    {
     "name": "stdout",
     "output_type": "stream",
     "text": [
      "Database engine created successfully\n",
      "Database engine closed\n"
     ]
    }
   ],
   "source": [
    "patients = fetch_patients()\n",
    "patient_ids = patients.PATIENT_ID.tolist()"
   ]
  },
  {
   "cell_type": "markdown",
   "metadata": {},
   "source": [
    "#### SESSION"
   ]
  },
  {
   "cell_type": "code",
   "execution_count": 11,
   "metadata": {},
   "outputs": [
    {
     "name": "stdout",
     "output_type": "stream",
     "text": [
      "Database engine created successfully\n",
      "Database engine closed\n",
      "Database engine created successfully\n",
      "Database engine closed\n"
     ]
    }
   ],
   "source": [
    "modes = [\"app\", \"plus\"]\n",
    "data = []\n",
    "\n",
    "for m in modes:\n",
    "    ss = fetch_rgs_data(\n",
    "        rgs_mode=m,\n",
    "        patient_ids=patient_ids\n",
    "    )\n",
    "    data.append(ss)"
   ]
  },
  {
   "cell_type": "code",
   "execution_count": 12,
   "metadata": {},
   "outputs": [],
   "source": [
    "import pandas as pd \n",
    "df = pd.concat(data)"
   ]
  },
  {
   "cell_type": "markdown",
   "metadata": {},
   "source": [
    "#### TIMESERIES "
   ]
  },
  {
   "cell_type": "code",
   "execution_count": 13,
   "metadata": {},
   "outputs": [
    {
     "name": "stdout",
     "output_type": "stream",
     "text": [
      "Database engine created successfully\n",
      "Database engine closed\n",
      "Database engine created successfully\n",
      "Database engine closed\n",
      "Database engine created successfully\n",
      "Database engine closed\n",
      "Database engine created successfully\n",
      "Database engine closed\n"
     ]
    }
   ],
   "source": [
    "data_ts = []\n",
    "\n",
    "for m in modes:\n",
    "    ts = fetch_timeseries_data(\n",
    "        rgs_mode=m,\n",
    "        patient_ids=patient_ids\n",
    "    )\n",
    "    data_ts.append(ts)"
   ]
  },
  {
   "cell_type": "code",
   "execution_count": 6,
   "metadata": {},
   "outputs": [],
   "source": [
    "df_ts = pd.concat(data_ts)"
   ]
  },
  {
   "cell_type": "markdown",
   "metadata": {},
   "source": [
    "#### METRICS"
   ]
  },
  {
   "cell_type": "markdown",
   "metadata": {},
   "source": [
    "`mean adherence`"
   ]
  },
  {
   "cell_type": "code",
   "execution_count": 28,
   "metadata": {},
   "outputs": [],
   "source": [
    "mean_adherence = df.groupby([\"PROTOCOL_ID\"])[\"ADHERENCE\"].mean()"
   ]
  },
  {
   "cell_type": "code",
   "execution_count": 29,
   "metadata": {},
   "outputs": [
    {
     "data": {
      "text/plain": [
       "PROTOCOL_ID\n",
       "200    0.532875\n",
       "201    0.814945\n",
       "202    0.874789\n",
       "203    0.763286\n",
       "204    0.799902\n",
       "205    0.797363\n",
       "206    0.702985\n",
       "208     0.75109\n",
       "209    0.743789\n",
       "210    0.710714\n",
       "211    0.888709\n",
       "213    0.542921\n",
       "214    0.860351\n",
       "215    0.887193\n",
       "216    0.864019\n",
       "217    0.856294\n",
       "218    0.854879\n",
       "219    0.793036\n",
       "220    0.540822\n",
       "221    0.787426\n",
       "222    0.843148\n",
       "223    0.863902\n",
       "224    0.933503\n",
       "225    0.837028\n",
       "226    0.751014\n",
       "227    0.798485\n",
       "228      0.5574\n",
       "229    0.192236\n",
       "230    0.646056\n",
       "231    0.891341\n",
       "232    0.207842\n",
       "233    0.361167\n",
       "234    0.260175\n",
       "301     0.87444\n",
       "302    0.870954\n",
       "303    0.824709\n",
       "304    0.867019\n",
       "307    0.821576\n",
       "309    0.768003\n",
       "310    0.419444\n",
       "311    0.617593\n",
       "Name: ADHERENCE, dtype: Float64"
      ]
     },
     "execution_count": 29,
     "metadata": {},
     "output_type": "execute_result"
    }
   ],
   "source": [
    "mean_adherence"
   ]
  },
  {
   "cell_type": "markdown",
   "metadata": {},
   "source": [
    "`mean dm`"
   ]
  },
  {
   "cell_type": "code",
   "execution_count": 30,
   "metadata": {},
   "outputs": [],
   "source": [
    "from ai_cdss.data_processor import DataProcessor\n",
    "processor = DataProcessor([1,1,1], alpha=0.5)"
   ]
  },
  {
   "cell_type": "code",
   "execution_count": 31,
   "metadata": {},
   "outputs": [],
   "source": [
    "df_ts = df_ts.sort_values(by=[\"PATIENT_ID\", \"PROTOCOL_ID\", \"SESSION_ID\", \"SECONDS_FROM_START\"])"
   ]
  },
  {
   "cell_type": "code",
   "execution_count": 32,
   "metadata": {},
   "outputs": [],
   "source": [
    "# Compute delta first (change between consecutive rows)\n",
    "df_ts[\"DM_DELTA\"] = df_ts.groupby([\"PATIENT_ID\", \"PROTOCOL_ID\"])[\"DM_VALUE\"].diff().fillna(0)\n",
    "df_ts[\"PE_DELTA\"] = df_ts.groupby([\"PATIENT_ID\", \"PROTOCOL_ID\"])[\"PE_VALUE\"].diff().fillna(0)"
   ]
  },
  {
   "cell_type": "code",
   "execution_count": 33,
   "metadata": {},
   "outputs": [
    {
     "data": {
      "image/png": "[encoded data removed]",
      "text/plain": [
       "<Figure size 640x480 with 1 Axes>"
      ]
     },
     "metadata": {},
     "output_type": "display_data"
    }
   ],
   "source": [
    "import matplotlib.pyplot as plt\n",
    "plt.hist(df_ts[\"DM_DELTA\"], bins=30)\n",
    "plt.show()"
   ]
  },
  {
   "cell_type": "code",
   "execution_count": 34,
   "metadata": {},
   "outputs": [
    {
     "name": "stderr",
     "output_type": "stream",
     "text": [
      "INFO:matplotlib.category:Using categorical units to plot a list of strings that are all parsable as floats or dates. If these strings should be plotted as numbers, cast to the appropriate data type before plotting.\n",
      "INFO:matplotlib.category:Using categorical units to plot a list of strings that are all parsable as floats or dates. If these strings should be plotted as numbers, cast to the appropriate data type before plotting.\n"
     ]
    },
    {
     "data": {
      "image/png": "[encoded data removed]",
      "text/plain": [
       "<Figure size 640x480 with 1 Axes>"
      ]
     },
     "metadata": {},
     "output_type": "display_data"
    }
   ],
   "source": [
    "mean_deltadm = df_ts.groupby([\"PROTOCOL_ID\"])[\"DM_DELTA\"].mean()\n",
    "protocol_ids = df_ts[\"PROTOCOL_ID\"].unique().astype(\"str\") \n",
    "plt.bar(x = protocol_ids, height=mean_deltadm)\n",
    "plt.xticks(rotation=270)\n",
    "# plt.title()\n",
    "plt.show()"
   ]
  },
  {
   "cell_type": "code",
   "execution_count": 35,
   "metadata": {},
   "outputs": [
    {
     "name": "stderr",
     "output_type": "stream",
     "text": [
      "INFO:matplotlib.category:Using categorical units to plot a list of strings that are all parsable as floats or dates. If these strings should be plotted as numbers, cast to the appropriate data type before plotting.\n",
      "INFO:matplotlib.category:Using categorical units to plot a list of strings that are all parsable as floats or dates. If these strings should be plotted as numbers, cast to the appropriate data type before plotting.\n"
     ]
    },
    {
     "data": {
      "image/png": "[encoded data removed]",
      "text/plain": [
       "<Figure size 640x480 with 1 Axes>"
      ]
     },
     "metadata": {},
     "output_type": "display_data"
    }
   ],
   "source": [
    "from scipy.stats import zscore\n",
    "\n",
    "z_scores = zscore(mean_deltadm)\n",
    "plt.bar(protocol_ids, z_scores)\n",
    "plt.xticks(rotation=90)\n",
    "plt.show()"
   ]
  },
  {
   "cell_type": "code",
   "execution_count": 38,
   "metadata": {},
   "outputs": [],
   "source": [
    "init = pd.merge(mean_adherence, mean_deltadm, on=\"PROTOCOL_ID\", how=\"left\")"
   ]
  },
  {
   "cell_type": "code",
   "execution_count": 41,
   "metadata": {},
   "outputs": [],
   "source": [
    "init = init.fillna(0)"
   ]
  },
  {
   "cell_type": "code",
   "execution_count": 42,
   "metadata": {},
   "outputs": [],
   "source": [
    "init.to_csv(\"init_metrics.csv\")"
   ]
  },
  {
   "cell_type": "code",
   "execution_count": 7,
   "metadata": {},
   "outputs": [],
   "source": [
    "test = pd.read_csv(\"init_metrics.csv\")"
   ]
  },
  {
   "cell_type": "code",
   "execution_count": 8,
   "metadata": {},
   "outputs": [
    {
     "data": {
      "application/vnd.microsoft.datawrangler.viewer.v0+json": {
       "columns": [
        {
         "name": "index",
         "rawType": "int64",
         "type": "integer"
        },
        {
         "name": "PROTOCOL_ID",
         "rawType": "int64",
         "type": "integer"
        },
        {
         "name": "ADHERENCE",
         "rawType": "float64",
         "type": "float"
        },
        {
         "name": "DM_DELTA",
         "rawType": "float64",
         "type": "float"
        }
       ],
       "conversionMethod": "pd.DataFrame",
       "ref": "9f9c3744-e00b-42f6-9eae-bae2219c99c2",
       "rows": [
        [
         "0",
         "201",
         "0.8149065219440559",
         "0.0007149322788603"
        ],
        [
         "1",
         "202",
         "0.8747118210660517",
         "0.0007092292068955"
        ],
        [
         "2",
         "204",
         "0.7999020532897702",
         "0.0035164574279736"
        ],
        [
         "3",
         "206",
         "0.7029854240865321",
         "0.0046037455041547"
        ],
        [
         "4",
         "208",
         "0.7510896674584323",
         "0.0024701807385801"
        ],
        [
         "5",
         "209",
         "0.743621687924242",
         "0.0091302333417572"
        ],
        [
         "6",
         "210",
         "0.7107141916798315",
         "0.0089712413542045"
        ],
        [
         "7",
         "211",
         "0.888709311990562",
         "0.0111957142857142"
        ],
        [
         "8",
         "214",
         "0.8605114093314093",
         "0.0012448433221782"
        ],
        [
         "9",
         "215",
         "0.8871443482032721",
         "0.0017719785852602"
        ],
        [
         "10",
         "217",
         "0.856638918850538",
         "0.0037169735163146"
        ],
        [
         "11",
         "218",
         "0.8548790056903264",
         "0.0012216956835273"
        ],
        [
         "12",
         "219",
         "0.7930360007572814",
         "0.0006837682672233"
        ],
        [
         "13",
         "221",
         "0.7874258696386356",
         "0.0007674483013293"
        ],
        [
         "14",
         "222",
         "0.8430804908978317",
         "0.0026545457024432"
        ],
        [
         "15",
         "223",
         "0.8639022261740104",
         "0.0011030387979367"
        ],
        [
         "16",
         "224",
         "0.9334827165299464",
         "0.0067928736221481"
        ],
        [
         "17",
         "226",
         "0.7510136586863106",
         "0.000183315361239"
        ],
        [
         "18",
         "229",
         "0.1922363123993558",
         "0.0050088098016336"
        ],
        [
         "19",
         "230",
         "0.6460555555555555",
         "0.0103541666666666"
        ],
        [
         "20",
         "231",
         "0.8911616161616163",
         "0.0025584153774027"
        ],
        [
         "21",
         "232",
         "0.2078419158361019",
         "0.0075910115024309"
        ],
        [
         "22",
         "233",
         "0.3611666666666667",
         "0.0077803278688524"
        ],
        [
         "23",
         "234",
         "0.2601754385964912",
         "0.0046913580246913"
        ],
        [
         "24",
         "301",
         "0.8744403908516812",
         "0.0010286329558143"
        ],
        [
         "25",
         "303",
         "0.8233765680185118",
         "0.0069646226415094"
        ],
        [
         "26",
         "304",
         "0.8688967032967032",
         "0.001843574984443"
        ],
        [
         "27",
         "307",
         "0.8215757575757576",
         "0.0008893725992317"
        ]
       ],
       "shape": {
        "columns": 3,
        "rows": 28
       }
      },
      "text/html": [
       "<div>\n",
       "<style scoped>\n",
       "    .dataframe tbody tr th:only-of-type {\n",
       "        vertical-align: middle;\n",
       "    }\n",
       "\n",
       "    .dataframe tbody tr th {\n",
       "        vertical-align: top;\n",
       "    }\n",
       "\n",
       "    .dataframe thead th {\n",
       "        text-align: right;\n",
       "    }\n",
       "</style>\n",
       "<table border=\"1\" class=\"dataframe\">\n",
       "  <thead>\n",
       "    <tr style=\"text-align: right;\">\n",
       "      <th></th>\n",
       "      <th>PROTOCOL_ID</th>\n",
       "      <th>ADHERENCE</th>\n",
       "      <th>DM_DELTA</th>\n",
       "    </tr>\n",
       "  </thead>\n",
       "  <tbody>\n",
       "    <tr>\n",
       "      <th>0</th>\n",
       "      <td>201</td>\n",
       "      <td>0.814907</td>\n",
       "      <td>0.000715</td>\n",
       "    </tr>\n",
       "    <tr>\n",
       "      <th>1</th>\n",
       "      <td>202</td>\n",
       "      <td>0.874712</td>\n",
       "      <td>0.000709</td>\n",
       "    </tr>\n",
       "    <tr>\n",
       "      <th>2</th>\n",
       "      <td>204</td>\n",
       "      <td>0.799902</td>\n",
       "      <td>0.003516</td>\n",
       "    </tr>\n",
       "    <tr>\n",
       "      <th>3</th>\n",
       "      <td>206</td>\n",
       "      <td>0.702985</td>\n",
       "      <td>0.004604</td>\n",
       "    </tr>\n",
       "    <tr>\n",
       "      <th>4</th>\n",
       "      <td>208</td>\n",
       "      <td>0.751090</td>\n",
       "      <td>0.002470</td>\n",
       "    </tr>\n",
       "    <tr>\n",
       "      <th>5</th>\n",
       "      <td>209</td>\n",
       "      <td>0.743622</td>\n",
       "      <td>0.009130</td>\n",
       "    </tr>\n",
       "    <tr>\n",
       "      <th>6</th>\n",
       "      <td>210</td>\n",
       "      <td>0.710714</td>\n",
       "      <td>0.008971</td>\n",
       "    </tr>\n",
       "    <tr>\n",
       "      <th>7</th>\n",
       "      <td>211</td>\n",
       "      <td>0.888709</td>\n",
       "      <td>0.011196</td>\n",
       "    </tr>\n",
       "    <tr>\n",
       "      <th>8</th>\n",
       "      <td>214</td>\n",
       "      <td>0.860511</td>\n",
       "      <td>0.001245</td>\n",
       "    </tr>\n",
       "    <tr>\n",
       "      <th>9</th>\n",
       "      <td>215</td>\n",
       "      <td>0.887144</td>\n",
       "      <td>0.001772</td>\n",
       "    </tr>\n",
       "    <tr>\n",
       "      <th>10</th>\n",
       "      <td>217</td>\n",
       "      <td>0.856639</td>\n",
       "      <td>0.003717</td>\n",
       "    </tr>\n",
       "    <tr>\n",
       "      <th>11</th>\n",
       "      <td>218</td>\n",
       "      <td>0.854879</td>\n",
       "      <td>0.001222</td>\n",
       "    </tr>\n",
       "    <tr>\n",
       "      <th>12</th>\n",
       "      <td>219</td>\n",
       "      <td>0.793036</td>\n",
       "      <td>0.000684</td>\n",
       "    </tr>\n",
       "    <tr>\n",
       "      <th>13</th>\n",
       "      <td>221</td>\n",
       "      <td>0.787426</td>\n",
       "      <td>0.000767</td>\n",
       "    </tr>\n",
       "    <tr>\n",
       "      <th>14</th>\n",
       "      <td>222</td>\n",
       "      <td>0.843080</td>\n",
       "      <td>0.002655</td>\n",
       "    </tr>\n",
       "    <tr>\n",
       "      <th>15</th>\n",
       "      <td>223</td>\n",
       "      <td>0.863902</td>\n",
       "      <td>0.001103</td>\n",
       "    </tr>\n",
       "    <tr>\n",
       "      <th>16</th>\n",
       "      <td>224</td>\n",
       "      <td>0.933483</td>\n",
       "      <td>0.006793</td>\n",
       "    </tr>\n",
       "    <tr>\n",
       "      <th>17</th>\n",
       "      <td>226</td>\n",
       "      <td>0.751014</td>\n",
       "      <td>0.000183</td>\n",
       "    </tr>\n",
       "    <tr>\n",
       "      <th>18</th>\n",
       "      <td>229</td>\n",
       "      <td>0.192236</td>\n",
       "      <td>0.005009</td>\n",
       "    </tr>\n",
       "    <tr>\n",
       "      <th>19</th>\n",
       "      <td>230</td>\n",
       "      <td>0.646056</td>\n",
       "      <td>0.010354</td>\n",
       "    </tr>\n",
       "    <tr>\n",
       "      <th>20</th>\n",
       "      <td>231</td>\n",
       "      <td>0.891162</td>\n",
       "      <td>0.002558</td>\n",
       "    </tr>\n",
       "    <tr>\n",
       "      <th>21</th>\n",
       "      <td>232</td>\n",
       "      <td>0.207842</td>\n",
       "      <td>0.007591</td>\n",
       "    </tr>\n",
       "    <tr>\n",
       "      <th>22</th>\n",
       "      <td>233</td>\n",
       "      <td>0.361167</td>\n",
       "      <td>0.007780</td>\n",
       "    </tr>\n",
       "    <tr>\n",
       "      <th>23</th>\n",
       "      <td>234</td>\n",
       "      <td>0.260175</td>\n",
       "      <td>0.004691</td>\n",
       "    </tr>\n",
       "    <tr>\n",
       "      <th>24</th>\n",
       "      <td>301</td>\n",
       "      <td>0.874440</td>\n",
       "      <td>0.001029</td>\n",
       "    </tr>\n",
       "    <tr>\n",
       "      <th>25</th>\n",
       "      <td>303</td>\n",
       "      <td>0.823377</td>\n",
       "      <td>0.006965</td>\n",
       "    </tr>\n",
       "    <tr>\n",
       "      <th>26</th>\n",
       "      <td>304</td>\n",
       "      <td>0.868897</td>\n",
       "      <td>0.001844</td>\n",
       "    </tr>\n",
       "    <tr>\n",
       "      <th>27</th>\n",
       "      <td>307</td>\n",
       "      <td>0.821576</td>\n",
       "      <td>0.000889</td>\n",
       "    </tr>\n",
       "  </tbody>\n",
       "</table>\n",
       "</div>"
      ],
      "text/plain": [
       "    PROTOCOL_ID  ADHERENCE  DM_DELTA\n",
       "0           201   0.814907  0.000715\n",
       "1           202   0.874712  0.000709\n",
       "2           204   0.799902  0.003516\n",
       "3           206   0.702985  0.004604\n",
       "4           208   0.751090  0.002470\n",
       "5           209   0.743622  0.009130\n",
       "6           210   0.710714  0.008971\n",
       "7           211   0.888709  0.011196\n",
       "8           214   0.860511  0.001245\n",
       "9           215   0.887144  0.001772\n",
       "10          217   0.856639  0.003717\n",
       "11          218   0.854879  0.001222\n",
       "12          219   0.793036  0.000684\n",
       "13          221   0.787426  0.000767\n",
       "14          222   0.843080  0.002655\n",
       "15          223   0.863902  0.001103\n",
       "16          224   0.933483  0.006793\n",
       "17          226   0.751014  0.000183\n",
       "18          229   0.192236  0.005009\n",
       "19          230   0.646056  0.010354\n",
       "20          231   0.891162  0.002558\n",
       "21          232   0.207842  0.007591\n",
       "22          233   0.361167  0.007780\n",
       "23          234   0.260175  0.004691\n",
       "24          301   0.874440  0.001029\n",
       "25          303   0.823377  0.006965\n",
       "26          304   0.868897  0.001844\n",
       "27          307   0.821576  0.000889"
      ]
     },
     "execution_count": 8,
     "metadata": {},
     "output_type": "execute_result"
    }
   ],
   "source": [
    "test"
   ]
  }
 ],
 "metadata": {
  "kernelspec": {
   "display_name": "test-cdss",
   "language": "python",
   "name": "python3"
  },
  "language_info": {
   "codemirror_mode": {
    "name": "ipython",
    "version": 3
   },
   "file_extension": ".py",
   "mimetype": "text/x-python",
   "name": "python",
   "nbconvert_exporter": "python",
   "pygments_lexer": "ipython3",
   "version": "3.12.9"
  }
 },
 "nbformat": 4,
 "nbformat_minor": 2
}
