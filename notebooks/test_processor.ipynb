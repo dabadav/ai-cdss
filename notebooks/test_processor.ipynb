{
 "cells": [
  {
   "cell_type": "code",
   "execution_count": 5,
   "metadata": {},
   "outputs": [
    {
     "name": "stdout",
     "output_type": "stream",
     "text": [
      "The autoreload extension is already loaded. To reload it, use:\n",
      "  %reload_ext autoreload\n"
     ]
    }
   ],
   "source": [
    "%load_ext autoreload\n",
    "%autoreload 2\n",
    "import pandas as pd\n",
    "from ai_cdss.data_loader import DataLoader\n",
    "from ai_cdss.data_processor import DataProcessor"
   ]
  },
  {
   "cell_type": "code",
   "execution_count": 6,
   "metadata": {},
   "outputs": [],
   "source": [
    "rgs_mode = \"app\"\n",
    "scoring_weights = [1,1,1]\n",
    "ewma_alpha = 0.5"
   ]
  },
  {
   "cell_type": "code",
   "execution_count": null,
   "metadata": {},
   "outputs": [],
   "source": [
    "patient_list = [775]"
   ]
  },
  {
   "cell_type": "code",
   "execution_count": 8,
   "metadata": {},
   "outputs": [],
   "source": [
    "loader = DataLoader(rgs_mode=rgs_mode)\n",
    "processor = DataProcessor(weights=scoring_weights, alpha=ewma_alpha)"
   ]
  },
  {
   "cell_type": "code",
   "execution_count": 9,
   "metadata": {},
   "outputs": [
    {
     "name": "stdout",
     "output_type": "stream",
     "text": [
      "Database engine created successfully\n"
     ]
    },
    {
     "name": "stderr",
     "output_type": "stream",
     "text": [
      "INFO:ai_cdss.data_loader:Session data loaded successfully.\n"
     ]
    },
    {
     "name": "stdout",
     "output_type": "stream",
     "text": [
      "Database engine closed\n",
      "Database engine created successfully\n",
      "Database engine closed\n",
      "Database engine created successfully\n",
      "Database engine closed\n"
     ]
    }
   ],
   "source": [
    "session = loader.load_session_data(patient_list=patient_list)\n",
    "timeseries = loader.load_timeseries_data(patient_list=patient_list)"
   ]
  },
  {
   "cell_type": "markdown",
   "metadata": {},
   "source": [
    "#### Timeseries"
   ]
  },
  {
   "cell_type": "markdown",
   "metadata": {},
   "source": [
    "`test_timeseries_dms_aggregation`"
   ]
  },
  {
   "cell_type": "code",
   "execution_count": 10,
   "metadata": {},
   "outputs": [],
   "source": [
    "timeseries_dms_agg = processor.aggregate_dms_by_time(timeseries)\n",
    "\n",
    "num_dms_timepoint = set(timeseries_dms_agg.groupby([\"PATIENT_ID\", \"SESSION_ID\", \"PROTOCOL_ID\", \"SECONDS_FROM_START\"])[\"DM_KEY\"].count().values)\n",
    "\n",
    "# Check only one dm per timepoint in Patient Sessions\n",
    "assert len(num_dms_timepoint) == 1\n",
    "assert len(num_dms_timepoint - {1}) == 0 "
   ]
  },
  {
   "cell_type": "markdown",
   "metadata": {},
   "source": [
    "`test_ewma_computation`"
   ]
  },
  {
   "cell_type": "code",
   "execution_count": 11,
   "metadata": {},
   "outputs": [],
   "source": [
    "def manual_ewma(values, alpha):\n",
    "    \"\"\"Manually compute EWMA with adjust=True.\"\"\"\n",
    "    ewma_values = []\n",
    "    for t in range(len(values)):\n",
    "        # Calculate weights\n",
    "        weights = [(1 - alpha) ** i for i in range(t + 1)]\n",
    "        # Calculate weighted sum\n",
    "        weighted_sum = sum(w * x for w, x in zip(weights, reversed(values[:t + 1])))\n",
    "        # Calculate EWMA\n",
    "        ewma = weighted_sum / sum(weights)\n",
    "        ewma_values.append(ewma)\n",
    "    return ewma_values\n",
    "\n",
    "# Test subset\n",
    "test_patient = timeseries_dms_agg.PATIENT_ID.unique()[0]\n",
    "test_protocol = timeseries_dms_agg.PROTOCOL_ID.unique()[0]\n",
    "\n",
    "# Manual result\n",
    "values = (\n",
    "    timeseries_dms_agg[timeseries_dms_agg[\"PATIENT_ID\"] == test_patient][timeseries_dms_agg[\"PROTOCOL_ID\"] == test_protocol][\"DM_VALUE\"].tolist()\n",
    ")\n",
    "result_manual = manual_ewma(values, processor.alpha)\n",
    "\n",
    "# Processor result\n",
    "timeseries_dms_agg_ewma = processor.compute_ewma(timeseries_dms_agg, \"DM_VALUE\", [\"PATIENT_ID\", \"PROTOCOL_ID\"])\n",
    "result_values = (\n",
    "    timeseries_dms_agg_ewma[timeseries_dms_agg_ewma[\"PATIENT_ID\"] == test_patient][timeseries_dms_agg_ewma[\"PROTOCOL_ID\"] == test_protocol][\"DM_VALUE\"].tolist()\n",
    ")\n",
    "\n",
    "# Compare manually computed and function-computed EWMA values using assert\n",
    "for manual, computed in zip(result_manual, result_values):\n",
    "    # Use assert with a small tolerance\n",
    "    assert abs(manual - computed) < 1e-6, f\"Mismatch: Manual={manual}, Computed={computed}\""
   ]
  },
  {
   "cell_type": "markdown",
   "metadata": {},
   "source": [
    "#### Session"
   ]
  },
  {
   "cell_type": "markdown",
   "metadata": {},
   "source": [
    "`test_single_session_data`"
   ]
  },
  {
   "cell_type": "code",
   "execution_count": 12,
   "metadata": {},
   "outputs": [],
   "source": [
    "num_data_per_session = session.groupby([\"PATIENT_ID\", \"SESSION_ID\"])[\"SESSION_ID\"].count().unique()\n",
    "# Check only one dm per timepoint in Patient Sessions\n",
    "assert len(num_data_per_session) == 1\n",
    "assert num_data_per_session[0] == 1"
   ]
  },
  {
   "cell_type": "markdown",
   "metadata": {},
   "source": [
    "`test_session_compute_adherence_ewma`"
   ]
  },
  {
   "cell_type": "code",
   "execution_count": 13,
   "metadata": {},
   "outputs": [],
   "source": [
    "# Manual result\n",
    "values = (\n",
    "    session[session[\"PATIENT_ID\"] == test_patient][session[\"PROTOCOL_ID\"] == test_protocol][\"ADHERENCE\"].tolist()\n",
    ")\n",
    "result_session_manual = manual_ewma(values, processor.alpha)\n",
    "\n",
    "# Processor result\n",
    "session_ewma_adherence = processor.compute_ewma(session, \"ADHERENCE\", [\"PATIENT_ID\", \"PROTOCOL_ID\"])\n",
    "result_session_values = (\n",
    "    session_ewma_adherence[session_ewma_adherence[\"PATIENT_ID\"] == test_patient][session_ewma_adherence[\"PROTOCOL_ID\"] == test_protocol][\"ADHERENCE\"].tolist()\n",
    ")\n",
    "\n",
    "# Compare manually computed and function-computed EWMA values using assert\n",
    "for manual, computed in zip(result_session_manual, result_session_values):\n",
    "    # Use assert with a small tolerance\n",
    "    assert abs(manual - computed) < 1e-6, f\"Mismatch: Manual={manual}, Computed={computed}\""
   ]
  },
  {
   "cell_type": "markdown",
   "metadata": {},
   "source": [
    "`test_session_timeseries_merge`"
   ]
  },
  {
   "cell_type": "code",
   "execution_count": 15,
   "metadata": {},
   "outputs": [
    {
     "name": "stdout",
     "output_type": "stream",
     "text": [
      "Differences found in unique SESSION_ID values:\n",
      "Values in `session_ewma_adherence` but not in `timeseries_dms_agg_ewma`:\n",
      "[16796, 16800, 16802, 17119, 17631, 17633, 17635, 17970, 17975, 19051, 19908, 19917, 21948, 21959, 21965, 22434, 22438, 22880, 22882, 23231, 24225, 24230, 24236, 24631]\n"
     ]
    },
    {
     "ename": "AssertionError",
     "evalue": "Series are different\n\nSeries length are different\n[left]:  62, RangeIndex(start=0, stop=62, step=1)\n[right]: 38, RangeIndex(start=0, stop=38, step=1)",
     "output_type": "error",
     "traceback": [
      "\u001b[31m---------------------------------------------------------------------------\u001b[39m",
      "\u001b[31mAssertionError\u001b[39m                            Traceback (most recent call last)",
      "\u001b[36mCell\u001b[39m\u001b[36m \u001b[39m\u001b[32mIn[15]\u001b[39m\u001b[32m, line 27\u001b[39m\n\u001b[32m     24\u001b[39m     \u001b[38;5;28mprint\u001b[39m(mismatched_timeseries.tolist())\n\u001b[32m     26\u001b[39m \u001b[38;5;66;03m# Raise the original error for further debugging\u001b[39;00m\n\u001b[32m---> \u001b[39m\u001b[32m27\u001b[39m \u001b[38;5;28;01mraise\u001b[39;00m e\n",
      "\u001b[36mCell\u001b[39m\u001b[36m \u001b[39m\u001b[32mIn[15]\u001b[39m\u001b[32m, line 7\u001b[39m\n\u001b[32m      3\u001b[39m timeseries_unique = timeseries[\u001b[33m\"\u001b[39m\u001b[33mSESSION_ID\u001b[39m\u001b[33m\"\u001b[39m].drop_duplicates().sort_values().reset_index(drop=\u001b[38;5;28;01mTrue\u001b[39;00m)\n\u001b[32m      5\u001b[39m \u001b[38;5;28;01mtry\u001b[39;00m:\n\u001b[32m      6\u001b[39m     \u001b[38;5;66;03m# Compare the two Series\u001b[39;00m\n\u001b[32m----> \u001b[39m\u001b[32m7\u001b[39m     \u001b[43mpd\u001b[49m\u001b[43m.\u001b[49m\u001b[43mtesting\u001b[49m\u001b[43m.\u001b[49m\u001b[43massert_series_equal\u001b[49m\u001b[43m(\u001b[49m\u001b[43msession_unique\u001b[49m\u001b[43m,\u001b[49m\u001b[43m \u001b[49m\u001b[43mtimeseries_unique\u001b[49m\u001b[43m,\u001b[49m\u001b[43m \u001b[49m\u001b[43mcheck_names\u001b[49m\u001b[43m=\u001b[49m\u001b[38;5;28;43;01mFalse\u001b[39;49;00m\u001b[43m)\u001b[49m\n\u001b[32m      8\u001b[39m     \u001b[38;5;28mprint\u001b[39m(\u001b[33m\"\u001b[39m\u001b[33mAll unique SESSION_ID values match!\u001b[39m\u001b[33m\"\u001b[39m)\n\u001b[32m     10\u001b[39m \u001b[38;5;28;01mexcept\u001b[39;00m \u001b[38;5;167;01mAssertionError\u001b[39;00m \u001b[38;5;28;01mas\u001b[39;00m e:\n",
      "    \u001b[31m[... skipping hidden 1 frame]\u001b[39m\n",
      "\u001b[36mFile \u001b[39m\u001b[32m~/miniconda3/envs/ai-cdss/lib/python3.12/site-packages/pandas/_testing/asserters.py:614\u001b[39m, in \u001b[36mraise_assert_detail\u001b[39m\u001b[34m(obj, message, left, right, diff, first_diff, index_values)\u001b[39m\n\u001b[32m    611\u001b[39m \u001b[38;5;28;01mif\u001b[39;00m first_diff \u001b[38;5;129;01mis\u001b[39;00m \u001b[38;5;129;01mnot\u001b[39;00m \u001b[38;5;28;01mNone\u001b[39;00m:\n\u001b[32m    612\u001b[39m     msg += \u001b[33mf\u001b[39m\u001b[33m\"\u001b[39m\u001b[38;5;130;01m\\n\u001b[39;00m\u001b[38;5;132;01m{\u001b[39;00mfirst_diff\u001b[38;5;132;01m}\u001b[39;00m\u001b[33m\"\u001b[39m\n\u001b[32m--> \u001b[39m\u001b[32m614\u001b[39m \u001b[38;5;28;01mraise\u001b[39;00m \u001b[38;5;167;01mAssertionError\u001b[39;00m(msg)\n",
      "\u001b[31mAssertionError\u001b[39m: Series are different\n\nSeries length are different\n[left]:  62, RangeIndex(start=0, stop=62, step=1)\n[right]: 38, RangeIndex(start=0, stop=38, step=1)"
     ]
    }
   ],
   "source": [
    "# Extract unique SESSION_ID values and sort them\n",
    "session_unique = session[\"SESSION_ID\"].drop_duplicates().sort_values().reset_index(drop=True)\n",
    "timeseries_unique = timeseries[\"SESSION_ID\"].drop_duplicates().sort_values().reset_index(drop=True)\n",
    "\n",
    "try:\n",
    "    # Compare the two Series\n",
    "    pd.testing.assert_series_equal(session_unique, timeseries_unique, check_names=False)\n",
    "    print(\"All unique SESSION_ID values match!\")\n",
    "\n",
    "except AssertionError as e:\n",
    "    print(\"Differences found in unique SESSION_ID values:\")\n",
    "    \n",
    "    # Find mismatched values\n",
    "    mismatched_session = session_unique[~session_unique.isin(timeseries_unique)]\n",
    "    mismatched_timeseries = timeseries_unique[~timeseries_unique.isin(session_unique)]\n",
    "    \n",
    "    # Print mismatched values\n",
    "    if not mismatched_session.empty:\n",
    "        print(\"Values in `session_ewma_adherence` but not in `timeseries_dms_agg_ewma`:\")\n",
    "        print(mismatched_session.tolist())\n",
    "    \n",
    "    if not mismatched_timeseries.empty:\n",
    "        print(\"Values in `timeseries_dms_agg_ewma` but not in `session_ewma_adherence`:\")\n",
    "        print(mismatched_timeseries.tolist())\n",
    "    \n",
    "    # Raise the original error for further debugging\n",
    "    raise e"
   ]
  }
 ],
 "metadata": {
  "kernelspec": {
   "display_name": "ai-cdss",
   "language": "python",
   "name": "python3"
  },
  "language_info": {
   "codemirror_mode": {
    "name": "ipython",
    "version": 3
   },
   "file_extension": ".py",
   "mimetype": "text/x-python",
   "name": "python",
   "nbconvert_exporter": "python",
   "pygments_lexer": "ipython3",
   "version": "3.12.9"
  }
 },
 "nbformat": 4,
 "nbformat_minor": 2
}
