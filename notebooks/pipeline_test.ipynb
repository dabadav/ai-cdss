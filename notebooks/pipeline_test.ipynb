{
 "cells": [
  {
   "cell_type": "code",
   "execution_count": 1,
   "metadata": {},
   "outputs": [],
   "source": [
    "import os\n",
    "import sys\n",
    "sys.path.append('../src')\n",
    "\n",
    "%load_ext autoreload\n",
    "%autoreload 2"
   ]
  },
  {
   "cell_type": "markdown",
   "metadata": {},
   "source": [
    "### Test Different Modules"
   ]
  },
  {
   "cell_type": "markdown",
   "metadata": {},
   "source": [
    "Input"
   ]
  },
  {
   "cell_type": "code",
   "execution_count": 2,
   "metadata": {},
   "outputs": [],
   "source": [
    "PATIENT_LIST = [\n",
    "    775,  787,  788, 1123, 1169, 1170, 1171, 1172, 1173, 1983, 2110, 2195,\n",
    "    2955, 2956, 2957, 2958, 2959, 2960, 2961, 2962, 2963, 3081, 3229, 3318, 3432\n",
    "]"
   ]
  },
  {
   "cell_type": "markdown",
   "metadata": {},
   "source": [
    "Settings"
   ]
  },
  {
   "cell_type": "code",
   "execution_count": 3,
   "metadata": {},
   "outputs": [],
   "source": [
    "clinical_score_path = \"../data/\"\n",
    "protocol_csv_path = \"../data/\""
   ]
  },
  {
   "cell_type": "code",
   "execution_count": 4,
   "metadata": {},
   "outputs": [],
   "source": [
    "max_values = {\n",
    "    'BARTHEL': 100,\n",
    "    'ASH_PROXIMAL': 4,\n",
    "    'MA_DISTAL': 4,\n",
    "    'FATIGUE': 63,\n",
    "    'VAS': 10,\n",
    "    'FM_A': 36,\n",
    "    'FM_B': 10,\n",
    "    'FM_C': 14,\n",
    "    'FM_D': 6,\n",
    "    'FM_TOTAL': 66,\n",
    "    'ACT_AU': 10,\n",
    "    'ACT_QOM': 10\n",
    "}\n",
    "\n",
    "latent_to_clinical_mapping_nest = {\n",
    "    # Functional Independence\n",
    "    \"BARTHEL\": [\"DAILY_LIVING_ACTIVITY\"],  # Barthel Index measures independence in ADLs.\n",
    "\n",
    "    # Motor Function (Spasticity & Strength)\n",
    "    \"ASH_PROXIMAL\": [\"BODY_PART_ARM\", \"BODY_PART_SHOULDER\", \"COORDINATION\"],  # Ashworth scale for proximal limb spasticity.\n",
    "    \"MA_DISTAL\": [\"BODY_PART_FINGER\", \"BODY_PART_WRIST\", \"GRASPING\", \"PINCHING\"],  # Motor Assessment for distal motor function.\n",
    "\n",
    "    # Fatigue & Pain\n",
    "    \"FATIGUE\": [\"DIFFICULTY_COGNITIVE\", \"DIFFICULTY_MOTOR\", \"PROCESSING_SPEED\", \"ATTENTION\"],  # Fatigue relates to cognitive/motor difficulty.\n",
    "    \"VAS\": [\"DIFFICULTY_COGNITIVE\", \"DIFFICULTY_MOTOR\"],  # Visual Analog Scale (VAS) for perceived effort.\n",
    "\n",
    "    # Fugl-Meyer Subscales (Motor Control & Coordination)\n",
    "    \"FM_A\": [\"BODY_PART_ARM\", \"BODY_PART_SHOULDER\", \"RANGE_OF_MOTION_H\", \"RANGE_OF_MOTION_V\"],  # Upper Limb Motor\n",
    "    \"FM_B\": [\"BODY_PART_WRIST\", \"PRONATION_SUPINATION\", \"RANGE_OF_MOTION_H\"],  # Wrist Motor\n",
    "    \"FM_C\": [\"BODY_PART_FINGER\", \"GRASPING\", \"PINCHING\"],  # Hand Motor\n",
    "    \"FM_D\": [\"COORDINATION\", \"RANGE_OF_MOTION_H\", \"RANGE_OF_MOTION_V\"],  # Coordination & Speed\n",
    "    \"FM_TOTAL\": [\"BODY_PART_ARM\", \"BODY_PART_WRIST\", \"BODY_PART_FINGER\", \"COORDINATION\"],  # Full Upper Limb Score\n",
    "\n",
    "    # Activity & Movement Quality\n",
    "    \"ACT_AU\": [\"BODY_PART_TRUNK\"],  # Activity Autonomy linked to balance.\n",
    "    \"ACT_QOM\": [\"COORDINATION\"],  # Quality of Movement related to balance & coordination.\n",
    "}"
   ]
  },
  {
   "cell_type": "markdown",
   "metadata": {},
   "source": [
    "### Pipeline"
   ]
  },
  {
   "cell_type": "markdown",
   "metadata": {},
   "source": [
    "Initialize Pipelinne"
   ]
  },
  {
   "cell_type": "code",
   "execution_count": 46,
   "metadata": {},
   "outputs": [],
   "source": [
    "from ai_cdss.services.pipeline import PipelineBase"
   ]
  },
  {
   "cell_type": "code",
   "execution_count": 47,
   "metadata": {},
   "outputs": [],
   "source": [
    "pipeline = PipelineBase(\n",
    "    patient_list = PATIENT_LIST,\n",
    "    clinical_score_path=clinical_score_path, \n",
    "    protocol_csv_path= protocol_csv_path, \n",
    "    mapping_dict = latent_to_clinical_mapping_nest, \n",
    "    max_subscales = max_values\n",
    ")"
   ]
  },
  {
   "cell_type": "markdown",
   "metadata": {},
   "source": [
    "Load Data "
   ]
  },
  {
   "cell_type": "code",
   "execution_count": 48,
   "metadata": {},
   "outputs": [
    {
     "name": "stdout",
     "output_type": "stream",
     "text": [
      "Database engine created successfully\n",
      "Data successfully saved to rgs_interaction.csv\n",
      "Database engine closed\n"
     ]
    }
   ],
   "source": [
    "pipeline.load_data()"
   ]
  },
  {
   "cell_type": "code",
   "execution_count": 206,
   "metadata": {},
   "outputs": [
    {
     "data": {
      "text/plain": [
       "<ai_cdss.services.pipeline.PipelineBase at 0x72549c9e4d70>"
      ]
     },
     "execution_count": 206,
     "metadata": {},
     "output_type": "execute_result"
    }
   ],
   "source": [
    "pipeline"
   ]
  },
  {
   "cell_type": "code",
   "execution_count": null,
   "metadata": {},
   "outputs": [],
   "source": [
    "n = 10\n",
    "top_n_protocols = (\n",
    "    pipeline.prescriptions.groupby('PATIENT_ID')\n",
    "    .apply(lambda x: x.nlargest(n, 'Score'), include_groups=True)\n",
    "    .reset_index(drop=True)\n",
    ")\n",
    "top_n_protocols\n"
   ]
  },
  {
   "cell_type": "code",
   "execution_count": null,
   "metadata": {},
   "outputs": [],
   "source": [
    "# Find top n protocols by score per patient_id\n",
    "scores.groupby(\"PATIENT_ID\").apply(lambda x: x.nlargest(1, \"Score\"))"
   ]
  },
  {
   "cell_type": "code",
   "execution_count": null,
   "metadata": {},
   "outputs": [],
   "source": [
    "pipeline.data_processor.get_protocol(protocol_path=\"../../data/protocol_attributes.csv\")"
   ]
  },
  {
   "cell_type": "code",
   "execution_count": null,
   "metadata": {},
   "outputs": [],
   "source": [
    "from ai_cdss.services.prescription import PrescriptionRecommender\n",
    "pipeline.prescription_recommender = PrescriptionRecommender()"
   ]
  },
  {
   "cell_type": "code",
   "execution_count": null,
   "metadata": {},
   "outputs": [],
   "source": [
    "pipeline.scores"
   ]
  },
  {
   "cell_type": "code",
   "execution_count": null,
   "metadata": {},
   "outputs": [],
   "source": [
    "rank = pipeline.prescription_recommender.rank_protocols(pipeline.prescriptions)"
   ]
  },
  {
   "cell_type": "code",
   "execution_count": null,
   "metadata": {},
   "outputs": [],
   "source": [
    "schedule.columns"
   ]
  },
  {
   "cell_type": "code",
   "execution_count": null,
   "metadata": {},
   "outputs": [],
   "source": [
    "result = pipeline.prescription_recommender.recommend_protocols(pipeline.prescriptions)"
   ]
  },
  {
   "cell_type": "code",
   "execution_count": null,
   "metadata": {},
   "outputs": [],
   "source": [
    "result"
   ]
  },
  {
   "cell_type": "code",
   "execution_count": null,
   "metadata": {},
   "outputs": [],
   "source": [
    "grouped = result.groupby(\"PATIENT_ID\").apply(lambda g: g.to_dict(orient=\"records\")).reset_index(name=\"PROTOCOLS\")\n"
   ]
  },
  {
   "cell_type": "code",
   "execution_count": null,
   "metadata": {},
   "outputs": [],
   "source": [
    "import msgspec\n",
    "import pandas as pd\n",
    "from typing import List\n",
    "\n",
    "class ProtocolRecommendation(msgspec.Struct):\n",
    "    PATIENT_ID: int\n",
    "    PROTOCOL_ID: int\n",
    "    PPF: float\n",
    "    ADHERENCE_EWMA: float\n",
    "    PARAMETER_VALUE_EWMA: float\n",
    "    PERFORMANCE_VALUE_EWMA: float\n",
    "    CONTRIBUTION: float\n",
    "    Score: float\n",
    "    DAYS: List[int]\n",
    "\n",
    "class PrescriptionRecommendation(msgspec.Struct):\n",
    "    PATIENT_ID: int\n",
    "    PROTOCOLS: List[ProtocolRecommendation]\n",
    "\n",
    "    @classmethod\n",
    "    def from_df(cls, df: pd.DataFrame) -> List[\"PrescriptionRecommendation\"]:\n",
    "        \"\"\"\n",
    "        Convert a long-format DataFrame into a list of PrescriptionRecommendation objects.\n",
    "        \"\"\"\n",
    "        grouped = df.groupby(\"PATIENT_ID\").apply(lambda g: g.to_dict(orient=\"records\")).reset_index(name=\"PROTOCOLS\")\n",
    "\n",
    "        return [\n",
    "            cls(\n",
    "                PATIENT_ID=row.PATIENT_ID,\n",
    "                PROTOCOLS=[ProtocolRecommendation(**p) for p in row.PROTOCOLS]\n",
    "            )\n",
    "            for _, row in grouped.iterrows()\n",
    "        ]\n",
    "\n",
    "# Apply conversion\n",
    "prescription_recommendations = PrescriptionRecommendation.from_df(result)"
   ]
  },
  {
   "cell_type": "code",
   "execution_count": null,
   "metadata": {},
   "outputs": [],
   "source": [
    "prescriptions = pipeline.prescriptions\n",
    "patient_profile = pipeline.patient_profiles"
   ]
  },
  {
   "cell_type": "code",
   "execution_count": null,
   "metadata": {},
   "outputs": [],
   "source": [
    "patient_profile"
   ]
  },
  {
   "cell_type": "code",
   "execution_count": null,
   "metadata": {},
   "outputs": [],
   "source": [
    "import pandas as pd\n",
    "\n",
    "# Define the real max values based on provided scales\n",
    "max_values = {\n",
    "    'BARTHEL': 100,\n",
    "    'ASH_PROXIMAL': 4,\n",
    "    'MA_DISTAL': 4,\n",
    "    'FATIGUE': 63,\n",
    "    'VAS': 10,\n",
    "    'FM_A': 36,\n",
    "    'FM_B': 10,\n",
    "    'FM_C': 14,\n",
    "    'FM_D': 6,\n",
    "    'FM_TOTAL': 66,\n",
    "    'ACT_AU': 10,\n",
    "    'ACT_QOM': 10\n",
    "}\n",
    "\n",
    "# Compute the deficit matrix: (1 - normalized score)\n",
    "deficit_matrix = 1 - (patient_profile / pd.Series(max_values))"
   ]
  },
  {
   "cell_type": "code",
   "execution_count": null,
   "metadata": {},
   "outputs": [],
   "source": [
    "deficit_matrix"
   ]
  },
  {
   "cell_type": "code",
   "execution_count": null,
   "metadata": {},
   "outputs": [],
   "source": [
    "feature_names = list(pipeline.protocol_profiles.columns)"
   ]
  },
  {
   "cell_type": "code",
   "execution_count": null,
   "metadata": {},
   "outputs": [],
   "source": [
    "import numpy as np\n",
    "# import matplotlib.pyplot as plt\n",
    "\n",
    "# Initialize total_contr as a zero array with the same shape as the contribution lists\n",
    "total_contr = np.zeros(12)\n",
    "\n",
    "# Iterate over each row in the DataFrame and sum the \"CONTRIBUTION\" column\n",
    "for i, row in p.iterrows():\n",
    "    contr = np.asarray(row[\"CONTRIBUTION\"])  # Convert the list to a NumPy array\n",
    "    total_contr += contr  # Element-wise summation\n",
    "\n",
    "total_contr  # This is now correctly summed\n",
    "\n",
    "# Normalize values so they sum to 1\n",
    "total_contr /= np.sum(total_contr)\n"
   ]
  },
  {
   "cell_type": "code",
   "execution_count": null,
   "metadata": {},
   "outputs": [],
   "source": [
    "feature_names"
   ]
  },
  {
   "cell_type": "code",
   "execution_count": null,
   "metadata": {},
   "outputs": [],
   "source": [
    "total_contr"
   ]
  },
  {
   "cell_type": "code",
   "execution_count": null,
   "metadata": {},
   "outputs": [],
   "source": [
    "top_n_protocols"
   ]
  },
  {
   "cell_type": "code",
   "execution_count": null,
   "metadata": {},
   "outputs": [],
   "source": [
    "top_n_protocols[[\"PATIENT_ID\", \"PROTOCOL_ID\"]].pivot(index=\"PATIENT_ID\", columns=\"PROTOCOL_ID\", values=\"PROTOCOL_ID\")"
   ]
  },
  {
   "cell_type": "code",
   "execution_count": null,
   "metadata": {},
   "outputs": [],
   "source": [
    "[{int(patient): top_n_protocols[top_n_protocols.PATIENT_ID == patient].PROTOCOL_ID.values} for patient in top_n_protocols.PATIENT_ID.unique()]"
   ]
  },
  {
   "cell_type": "code",
   "execution_count": null,
   "metadata": {},
   "outputs": [],
   "source": [
    "import pandas as pd\n",
    "import numpy as np\n",
    "\n",
    "# Create the dataframe from the provided image description\n",
    "data = {\n",
    "    \"PATIENT_ID\": [775, 775, 775, 775, 775, 787, 787, 787, 787, 787],\n",
    "    \"PROTOCOL_ID\": [222, 206, 224, 208, 214, 221, 223, 224, 211, 217],\n",
    "}\n",
    "\n",
    "df = pd.DataFrame(data)\n",
    "\n",
    "# Define parameters\n",
    "n = 5  # protocols per day\n",
    "m = 7  # number of days"
   ]
  },
  {
   "cell_type": "markdown",
   "metadata": {},
   "source": [
    "### MultiKeyDict"
   ]
  },
  {
   "cell_type": "code",
   "execution_count": 219,
   "metadata": {},
   "outputs": [],
   "source": [
    "from ai_cdss.services.data import MultiKeyDict\n",
    "\n",
    "mkd = MultiKeyDict()"
   ]
  },
  {
   "cell_type": "code",
   "execution_count": 221,
   "metadata": {},
   "outputs": [],
   "source": [
    "mkd['sub_a'] = ['attr_a', 'attr_b']"
   ]
  },
  {
   "cell_type": "code",
   "execution_count": 223,
   "metadata": {},
   "outputs": [],
   "source": [
    "mkd.to_yaml('fkfk.yaml')"
   ]
  },
  {
   "cell_type": "code",
   "execution_count": 234,
   "metadata": {},
   "outputs": [],
   "source": [
    "test = {'sub_a': ['attr_a', 'attr_b']}"
   ]
  },
  {
   "cell_type": "code",
   "execution_count": 235,
   "metadata": {},
   "outputs": [
    {
     "data": {
      "text/plain": [
       "{'sub_a': ['attr_a', 'attr_b']}"
      ]
     },
     "execution_count": 235,
     "metadata": {},
     "output_type": "execute_result"
    }
   ],
   "source": [
    "test"
   ]
  },
  {
   "cell_type": "code",
   "execution_count": 225,
   "metadata": {},
   "outputs": [
    {
     "data": {
      "text/plain": [
       "['attr_a', 'attr_b']"
      ]
     },
     "execution_count": 225,
     "metadata": {},
     "output_type": "execute_result"
    }
   ],
   "source": [
    "mkd.get('sub_a')"
   ]
  },
  {
   "cell_type": "markdown",
   "metadata": {},
   "source": [
    "### Fetch Data"
   ]
  },
  {
   "cell_type": "markdown",
   "metadata": {},
   "source": [
    "Session Data"
   ]
  },
  {
   "cell_type": "code",
   "execution_count": 297,
   "metadata": {},
   "outputs": [],
   "source": [
    "from ai_cdss.services.data import DataLoader\n",
    "loader = DataLoader(PATIENT_LIST)"
   ]
  },
  {
   "cell_type": "code",
   "execution_count": 298,
   "metadata": {},
   "outputs": [
    {
     "name": "stdout",
     "output_type": "stream",
     "text": [
      "Database engine created successfully\n",
      "Data successfully saved to rgs_interaction.csv\n",
      "Database engine closed\n"
     ]
    }
   ],
   "source": [
    "session = loader.load_session_data()"
   ]
  },
  {
   "cell_type": "markdown",
   "metadata": {},
   "source": [
    "Deficit Matrix"
   ]
  },
  {
   "cell_type": "code",
   "execution_count": 299,
   "metadata": {},
   "outputs": [],
   "source": [
    "import pandas as pd"
   ]
  },
  {
   "cell_type": "code",
   "execution_count": 300,
   "metadata": {},
   "outputs": [],
   "source": [
    "patient_df = loader.load_patient_data()"
   ]
  },
  {
   "cell_type": "code",
   "execution_count": 301,
   "metadata": {},
   "outputs": [],
   "source": [
    "from ai_cdss.services.data import ClinicalProcessor"
   ]
  },
  {
   "cell_type": "code",
   "execution_count": 302,
   "metadata": {},
   "outputs": [],
   "source": [
    "cp = ClinicalProcessor()"
   ]
  },
  {
   "cell_type": "code",
   "execution_count": 303,
   "metadata": {},
   "outputs": [],
   "source": [
    "deficit = cp.process(patient_df)"
   ]
  },
  {
   "cell_type": "markdown",
   "metadata": {},
   "source": [
    "Protocol Data"
   ]
  },
  {
   "cell_type": "markdown",
   "metadata": {},
   "source": [
    "- Fixed Attributes\n",
    "- Fixed Internal Subscales Names\n",
    "\n",
    "- Flexible Patients Excel Subscales"
   ]
  },
  {
   "cell_type": "code",
   "execution_count": 217,
   "metadata": {},
   "outputs": [],
   "source": [
    "protocol_df = loader.load_protocol_data()"
   ]
  },
  {
   "cell_type": "markdown",
   "metadata": {},
   "source": [
    "Mapping Dict"
   ]
  },
  {
   "cell_type": "code",
   "execution_count": 280,
   "metadata": {},
   "outputs": [],
   "source": [
    "mkd = MultiKeyDict.from_yaml('mapping.yaml')"
   ]
  },
  {
   "cell_type": "markdown",
   "metadata": {},
   "source": [
    "Mapping Function"
   ]
  },
  {
   "cell_type": "code",
   "execution_count": 294,
   "metadata": {},
   "outputs": [],
   "source": [
    "def map_latent_to_clinical(protocol_attributes, mapping_dict, agg_func=np.mean):\n",
    "    \"\"\"We need to collapse the protocol feature space into the clinical feature space.\n",
    "    \"\"\"\n",
    "    df_clinical = pd.DataFrame(index=protocol_attributes.index)\n",
    "\n",
    "    # Collapse using agg_func the protocol latent attributes    \n",
    "    for clinical_scale, features in mapping_dict.items():\n",
    "        df_clinical[clinical_scale] = protocol_attributes[features].apply(agg_func, axis=1)\n",
    "\n",
    "    df_clinical.index = protocol_attributes[\"PROTOCOL_ID\"]\n",
    "\n",
    "    return df_clinical"
   ]
  }
 ],
 "metadata": {
  "kernelspec": {
   "display_name": "ai-cdss",
   "language": "python",
   "name": "python3"
  },
  "language_info": {
   "codemirror_mode": {
    "name": "ipython",
    "version": 3
   },
   "file_extension": ".py",
   "mimetype": "text/x-python",
   "name": "python",
   "nbconvert_exporter": "python",
   "pygments_lexer": "ipython3",
   "version": "3.12.9"
  }
 },
 "nbformat": 4,
 "nbformat_minor": 2
}
