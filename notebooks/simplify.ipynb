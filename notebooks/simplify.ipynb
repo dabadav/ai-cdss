{
 "cells": [
  {
   "cell_type": "code",
   "execution_count": 69,
   "metadata": {},
   "outputs": [
    {
     "name": "stdout",
     "output_type": "stream",
     "text": [
      "The autoreload extension is already loaded. To reload it, use:\n",
      "  %reload_ext autoreload\n"
     ]
    }
   ],
   "source": [
    "%load_ext autoreload\n",
    "%autoreload 2\n",
    "from ai_cdss.data_loader import DataLoader\n",
    "from ai_cdss.data_processor import DataProcessor"
   ]
  },
  {
   "cell_type": "code",
   "execution_count": 70,
   "metadata": {},
   "outputs": [],
   "source": [
    "# import this\n",
    "from ai_cdss.cdss import CDSS"
   ]
  },
  {
   "cell_type": "code",
   "execution_count": 62,
   "metadata": {},
   "outputs": [
    {
     "name": "stdout",
     "output_type": "stream",
     "text": [
      "Database engine created successfully\n",
      "Database engine closed\n",
      "Database engine created successfully\n",
      "Database engine closed\n",
      "Database engine created successfully\n"
     ]
    },
    {
     "name": "stderr",
     "output_type": "stream",
     "text": [
      "INFO:ai_cdss.data_loader:Session data loaded successfully.\n",
      "WARNING:ai_cdss.data_loader:PPF missing for 1 patients: {755}\n"
     ]
    },
    {
     "name": "stdout",
     "output_type": "stream",
     "text": [
      "Database engine closed\n"
     ]
    }
   ],
   "source": [
    "patient_list = [\n",
    "    755, 788\n",
    "]\n",
    "\n",
    "loader = DataLoader(\"app\")\n",
    "processor = DataProcessor([1,1,1])\n",
    "timeseries = loader.load_timeseries_data(\n",
    "    patient_list\n",
    ")\n",
    "session = loader.load_session_data(\n",
    "    patient_list\n",
    ")\n",
    "ppf = loader.load_ppf_data(\n",
    "    [755]\n",
    ")\n",
    "scoring = processor.process_data(session, timeseries, ppf)\n",
    "\n",
    "cdss = CDSS(\n",
    "    scoring\n",
    ")"
   ]
  }
 ],
 "metadata": {
  "kernelspec": {
   "display_name": "test-cdss",
   "language": "python",
   "name": "python3"
  },
  "language_info": {
   "codemirror_mode": {
    "name": "ipython",
    "version": 3
   },
   "file_extension": ".py",
   "mimetype": "text/x-python",
   "name": "python",
   "nbconvert_exporter": "python",
   "pygments_lexer": "ipython3",
   "version": "3.12.9"
  }
 },
 "nbformat": 4,
 "nbformat_minor": 2
}
