{
 "cells": [
  {
   "cell_type": "code",
   "execution_count": 1,
   "metadata": {},
   "outputs": [],
   "source": [
    "%load_ext autoreload\n",
    "%autoreload 2\n",
    "from ai_cdss.services.pipeline import CDSS"
   ]
  },
  {
   "cell_type": "code",
   "execution_count": 7,
   "metadata": {},
   "outputs": [],
   "source": [
    "cdss = CDSS(\n",
    "    [103],\n",
    "    5\n",
    ")"
   ]
  },
  {
   "cell_type": "code",
   "execution_count": 10,
   "metadata": {},
   "outputs": [
    {
     "data": {
      "application/vnd.microsoft.datawrangler.viewer.v0+json": {
       "columns": [
        {
         "name": "index",
         "rawType": "int64",
         "type": "integer"
        },
        {
         "name": "PATIENT_ID",
         "rawType": "Int64",
         "type": "integer"
        },
        {
         "name": "HOSPITAL_ID",
         "rawType": "Int64",
         "type": "integer"
        },
        {
         "name": "PARETIC_SIDE",
         "rawType": "string",
         "type": "string"
        },
        {
         "name": "UPPER_EXTREMITY_TO_TRAIN",
         "rawType": "string",
         "type": "string"
        },
        {
         "name": "HAND_RAISING_CAPACITY",
         "rawType": "string",
         "type": "string"
        },
        {
         "name": "COGNITIVE_FUNCTION_LEVEL",
         "rawType": "string",
         "type": "string"
        },
        {
         "name": "HAS_HEMINEGLIGENCE",
         "rawType": "Int64",
         "type": "integer"
        },
        {
         "name": "GENDER",
         "rawType": "string",
         "type": "string"
        },
        {
         "name": "SKIN_COLOR",
         "rawType": "string",
         "type": "string"
        },
        {
         "name": "AGE",
         "rawType": "string",
         "type": "string"
        },
        {
         "name": "VIDEOGAME_EXP",
         "rawType": "string",
         "type": "string"
        },
        {
         "name": "COMPUTER_EXP",
         "rawType": "string",
         "type": "string"
        },
        {
         "name": "COMMENTS",
         "rawType": "string",
         "type": "string"
        },
        {
         "name": "PTN_HEIGHT_CM",
         "rawType": "Int64",
         "type": "integer"
        },
        {
         "name": "ARM_SIZE_CM",
         "rawType": "Int64",
         "type": "integer"
        },
        {
         "name": "PRESCRIPTION_ID",
         "rawType": "string",
         "type": "string"
        },
        {
         "name": "SESSION_ID",
         "rawType": "string",
         "type": "string"
        },
        {
         "name": "PROTOCOL_ID",
         "rawType": "string",
         "type": "string"
        },
        {
         "name": "PRESCRIPTION_STARTING_DATE",
         "rawType": "string",
         "type": "string"
        },
        {
         "name": "PRESCRIPTION_ENDING_DATE",
         "rawType": "string",
         "type": "string"
        },
        {
         "name": "SESSION_DATE",
         "rawType": "string",
         "type": "string"
        },
        {
         "name": "STARTING_HOUR",
         "rawType": "string",
         "type": "string"
        },
        {
         "name": "STARTING_TIME_CATEGORY",
         "rawType": "string",
         "type": "string"
        },
        {
         "name": "STATUS",
         "rawType": "string",
         "type": "string"
        },
        {
         "name": "PROTOCOL_TYPE",
         "rawType": "string",
         "type": "string"
        },
        {
         "name": "AR_MODE",
         "rawType": "string",
         "type": "string"
        },
        {
         "name": "WEEKDAY_INDEX",
         "rawType": "string",
         "type": "string"
        },
        {
         "name": "REAL_SESSION_DURATION",
         "rawType": "string",
         "type": "string"
        },
        {
         "name": "PRESCRIBED_SESSION_DURATION",
         "rawType": "string",
         "type": "string"
        },
        {
         "name": "SESSION_DURATION",
         "rawType": "string",
         "type": "string"
        },
        {
         "name": "ADHERENCE",
         "rawType": "string",
         "type": "string"
        },
        {
         "name": "TOTAL_SUCCESS",
         "rawType": "string",
         "type": "string"
        },
        {
         "name": "TOTAL_ERRORS",
         "rawType": "string",
         "type": "string"
        },
        {
         "name": "SCORE",
         "rawType": "string",
         "type": "string"
        },
        {
         "name": "USAGE",
         "rawType": "float64",
         "type": "float"
        }
       ],
       "conversionMethod": "pd.DataFrame",
       "ref": "a74aa596-e42e-454a-ae3b-cdc9a2420624",
       "rows": [
        [
         "0",
         "103",
         "7",
         "LEFT",
         "BOTH",
         "NONE",
         "LOW",
         "0",
         "MALE",
         "FDC3AD",
         null,
         null,
         null,
         null,
         "175",
         "22",
         null,
         null,
         null,
         null,
         null,
         null,
         null,
         null,
         null,
         null,
         null,
         null,
         null,
         null,
         null,
         null,
         null,
         null,
         null,
         null
        ]
       ],
       "shape": {
        "columns": 35,
        "rows": 1
       }
      },
      "text/html": [
       "<div>\n",
       "<style scoped>\n",
       "    .dataframe tbody tr th:only-of-type {\n",
       "        vertical-align: middle;\n",
       "    }\n",
       "\n",
       "    .dataframe tbody tr th {\n",
       "        vertical-align: top;\n",
       "    }\n",
       "\n",
       "    .dataframe thead th {\n",
       "        text-align: right;\n",
       "    }\n",
       "</style>\n",
       "<table border=\"1\" class=\"dataframe\">\n",
       "  <thead>\n",
       "    <tr style=\"text-align: right;\">\n",
       "      <th></th>\n",
       "      <th>PATIENT_ID</th>\n",
       "      <th>HOSPITAL_ID</th>\n",
       "      <th>PARETIC_SIDE</th>\n",
       "      <th>UPPER_EXTREMITY_TO_TRAIN</th>\n",
       "      <th>HAND_RAISING_CAPACITY</th>\n",
       "      <th>COGNITIVE_FUNCTION_LEVEL</th>\n",
       "      <th>HAS_HEMINEGLIGENCE</th>\n",
       "      <th>GENDER</th>\n",
       "      <th>SKIN_COLOR</th>\n",
       "      <th>AGE</th>\n",
       "      <th>...</th>\n",
       "      <th>AR_MODE</th>\n",
       "      <th>WEEKDAY_INDEX</th>\n",
       "      <th>REAL_SESSION_DURATION</th>\n",
       "      <th>PRESCRIBED_SESSION_DURATION</th>\n",
       "      <th>SESSION_DURATION</th>\n",
       "      <th>ADHERENCE</th>\n",
       "      <th>TOTAL_SUCCESS</th>\n",
       "      <th>TOTAL_ERRORS</th>\n",
       "      <th>SCORE</th>\n",
       "      <th>USAGE</th>\n",
       "    </tr>\n",
       "  </thead>\n",
       "  <tbody>\n",
       "    <tr>\n",
       "      <th>0</th>\n",
       "      <td>103</td>\n",
       "      <td>7</td>\n",
       "      <td>LEFT</td>\n",
       "      <td>BOTH</td>\n",
       "      <td>NONE</td>\n",
       "      <td>LOW</td>\n",
       "      <td>0</td>\n",
       "      <td>MALE</td>\n",
       "      <td>FDC3AD</td>\n",
       "      <td>&lt;NA&gt;</td>\n",
       "      <td>...</td>\n",
       "      <td>&lt;NA&gt;</td>\n",
       "      <td>&lt;NA&gt;</td>\n",
       "      <td>&lt;NA&gt;</td>\n",
       "      <td>&lt;NA&gt;</td>\n",
       "      <td>&lt;NA&gt;</td>\n",
       "      <td>&lt;NA&gt;</td>\n",
       "      <td>&lt;NA&gt;</td>\n",
       "      <td>&lt;NA&gt;</td>\n",
       "      <td>&lt;NA&gt;</td>\n",
       "      <td>NaN</td>\n",
       "    </tr>\n",
       "  </tbody>\n",
       "</table>\n",
       "<p>1 rows × 35 columns</p>\n",
       "</div>"
      ],
      "text/plain": [
       "   PATIENT_ID  HOSPITAL_ID PARETIC_SIDE UPPER_EXTREMITY_TO_TRAIN  \\\n",
       "0         103            7         LEFT                     BOTH   \n",
       "\n",
       "  HAND_RAISING_CAPACITY COGNITIVE_FUNCTION_LEVEL  HAS_HEMINEGLIGENCE GENDER  \\\n",
       "0                  NONE                      LOW                   0   MALE   \n",
       "\n",
       "  SKIN_COLOR   AGE  ... AR_MODE WEEKDAY_INDEX REAL_SESSION_DURATION  \\\n",
       "0     FDC3AD  <NA>  ...    <NA>          <NA>                  <NA>   \n",
       "\n",
       "   PRESCRIBED_SESSION_DURATION  SESSION_DURATION ADHERENCE TOTAL_SUCCESS  \\\n",
       "0                         <NA>              <NA>      <NA>          <NA>   \n",
       "\n",
       "  TOTAL_ERRORS SCORE USAGE  \n",
       "0         <NA>  <NA>   NaN  \n",
       "\n",
       "[1 rows x 35 columns]"
      ]
     },
     "execution_count": 10,
     "metadata": {},
     "output_type": "execute_result"
    }
   ],
   "source": [
    "cdss.session"
   ]
  },
  {
   "cell_type": "code",
   "execution_count": 9,
   "metadata": {},
   "outputs": [
    {
     "name": "stdout",
     "output_type": "stream",
     "text": [
      "Starting data loading...\n",
      "Database engine created successfully\n",
      "Database engine closed\n",
      "Database engine created successfully\n",
      "Database engine closed\n",
      "Database engine created successfully\n",
      "Database engine closed\n",
      "Processing data...\n"
     ]
    },
    {
     "ename": "ValueError",
     "evalue": "You are trying to merge on int64 and string columns for key 'PROTOCOL_ID'. If you wish to proceed you should use pd.concat",
     "output_type": "error",
     "traceback": [
      "\u001b[31m---------------------------------------------------------------------------\u001b[39m",
      "\u001b[31mValueError\u001b[39m                                Traceback (most recent call last)",
      "\u001b[36mCell\u001b[39m\u001b[36m \u001b[39m\u001b[32mIn[9]\u001b[39m\u001b[32m, line 1\u001b[39m\n\u001b[32m----> \u001b[39m\u001b[32m1\u001b[39m \u001b[43mcdss\u001b[49m\u001b[43m.\u001b[49m\u001b[43mrecommend\u001b[49m\u001b[43m(\u001b[49m\u001b[43m)\u001b[49m\n",
      "\u001b[36mFile \u001b[39m\u001b[32m~/Documents/AISN/ai-cdss/src/ai_cdss/services/pipeline.py:48\u001b[39m, in \u001b[36mCDSS.recommend\u001b[39m\u001b[34m(self)\u001b[39m\n\u001b[32m     45\u001b[39m \u001b[38;5;28mself\u001b[39m._load()\n\u001b[32m     47\u001b[39m \u001b[38;5;28mprint\u001b[39m(\u001b[33m\"\u001b[39m\u001b[33mProcessing data...\u001b[39m\u001b[33m\"\u001b[39m)\n\u001b[32m---> \u001b[39m\u001b[32m48\u001b[39m \u001b[38;5;28;43mself\u001b[39;49m\u001b[43m.\u001b[49m\u001b[43m_score\u001b[49m\u001b[43m(\u001b[49m\u001b[43m)\u001b[49m\n\u001b[32m     50\u001b[39m \u001b[38;5;28mprint\u001b[39m(\u001b[33m\"\u001b[39m\u001b[33mGenerate prescriptions...\u001b[39m\u001b[33m\"\u001b[39m)\n\u001b[32m     51\u001b[39m \u001b[38;5;28mself\u001b[39m._prescribe()\n",
      "\u001b[36mFile \u001b[39m\u001b[32m~/Documents/AISN/ai-cdss/src/ai_cdss/services/pipeline.py:82\u001b[39m, in \u001b[36mCDSS._score\u001b[39m\u001b[34m(self)\u001b[39m\n\u001b[32m     79\u001b[39m ppf_data = ppf_data[ppf_data.PATIENT_ID.isin(\u001b[38;5;28mself\u001b[39m.patient_list)]\n\u001b[32m     81\u001b[39m \u001b[38;5;66;03m# Merge all data in scoring df with all patient, protocol pairs\u001b[39;00m\n\u001b[32m---> \u001b[39m\u001b[32m82\u001b[39m rgs_data = \u001b[43mppf_data\u001b[49m\u001b[43m.\u001b[49m\u001b[43mmerge\u001b[49m\u001b[43m(\u001b[49m\u001b[43mrgs_data\u001b[49m\u001b[43m,\u001b[49m\u001b[43m \u001b[49m\u001b[43mon\u001b[49m\u001b[43m=\u001b[49m\u001b[43m[\u001b[49m\u001b[33;43m\"\u001b[39;49m\u001b[33;43mPATIENT_ID\u001b[39;49m\u001b[33;43m\"\u001b[39;49m\u001b[43m,\u001b[49m\u001b[43m \u001b[49m\u001b[33;43m\"\u001b[39;49m\u001b[33;43mPROTOCOL_ID\u001b[39;49m\u001b[33;43m\"\u001b[39;49m\u001b[43m]\u001b[49m\u001b[43m,\u001b[49m\u001b[43m \u001b[49m\u001b[43mhow\u001b[49m\u001b[43m=\u001b[49m\u001b[33;43m\"\u001b[39;49m\u001b[33;43mleft\u001b[39;49m\u001b[33;43m\"\u001b[39;49m\u001b[43m)\u001b[49m[[\u001b[33m\"\u001b[39m\u001b[33mPATIENT_ID\u001b[39m\u001b[33m\"\u001b[39m, \u001b[33m\"\u001b[39m\u001b[33mPROTOCOL_ID\u001b[39m\u001b[33m\"\u001b[39m, \u001b[33m\"\u001b[39m\u001b[33mUSAGE\u001b[39m\u001b[33m\"\u001b[39m, \u001b[33m\"\u001b[39m\u001b[33mPPF\u001b[39m\u001b[33m\"\u001b[39m, \u001b[33m\"\u001b[39m\u001b[33mCONTRIB\u001b[39m\u001b[33m\"\u001b[39m, \u001b[33m\"\u001b[39m\u001b[33mADHERENCE_EWMA\u001b[39m\u001b[33m\"\u001b[39m, \u001b[33m\"\u001b[39m\u001b[33mDM_VALUE_EWMA\u001b[39m\u001b[33m\"\u001b[39m]]\n\u001b[32m     84\u001b[39m \u001b[38;5;66;03m# Compute the linear combination of factors\u001b[39;00m\n\u001b[32m     85\u001b[39m rgs_data = compute_scoring(rgs_data, weights=[\u001b[32m1\u001b[39m,\u001b[32m1\u001b[39m,\u001b[32m1\u001b[39m])\n",
      "\u001b[36mFile \u001b[39m\u001b[32m~/miniconda3/envs/ai-cdss/lib/python3.12/site-packages/pandas/core/frame.py:10832\u001b[39m, in \u001b[36mDataFrame.merge\u001b[39m\u001b[34m(self, right, how, on, left_on, right_on, left_index, right_index, sort, suffixes, copy, indicator, validate)\u001b[39m\n\u001b[32m  10813\u001b[39m \u001b[38;5;129m@Substitution\u001b[39m(\u001b[33m\"\u001b[39m\u001b[33m\"\u001b[39m)\n\u001b[32m  10814\u001b[39m \u001b[38;5;129m@Appender\u001b[39m(_merge_doc, indents=\u001b[32m2\u001b[39m)\n\u001b[32m  10815\u001b[39m \u001b[38;5;28;01mdef\u001b[39;00m\u001b[38;5;250m \u001b[39m\u001b[34mmerge\u001b[39m(\n\u001b[32m   (...)\u001b[39m\u001b[32m  10828\u001b[39m     validate: MergeValidate | \u001b[38;5;28;01mNone\u001b[39;00m = \u001b[38;5;28;01mNone\u001b[39;00m,\n\u001b[32m  10829\u001b[39m ) -> DataFrame:\n\u001b[32m  10830\u001b[39m     \u001b[38;5;28;01mfrom\u001b[39;00m\u001b[38;5;250m \u001b[39m\u001b[34;01mpandas\u001b[39;00m\u001b[34;01m.\u001b[39;00m\u001b[34;01mcore\u001b[39;00m\u001b[34;01m.\u001b[39;00m\u001b[34;01mreshape\u001b[39;00m\u001b[34;01m.\u001b[39;00m\u001b[34;01mmerge\u001b[39;00m\u001b[38;5;250m \u001b[39m\u001b[38;5;28;01mimport\u001b[39;00m merge\n\u001b[32m> \u001b[39m\u001b[32m10832\u001b[39m     \u001b[38;5;28;01mreturn\u001b[39;00m \u001b[43mmerge\u001b[49m\u001b[43m(\u001b[49m\n\u001b[32m  10833\u001b[39m \u001b[43m        \u001b[49m\u001b[38;5;28;43mself\u001b[39;49m\u001b[43m,\u001b[49m\n\u001b[32m  10834\u001b[39m \u001b[43m        \u001b[49m\u001b[43mright\u001b[49m\u001b[43m,\u001b[49m\n\u001b[32m  10835\u001b[39m \u001b[43m        \u001b[49m\u001b[43mhow\u001b[49m\u001b[43m=\u001b[49m\u001b[43mhow\u001b[49m\u001b[43m,\u001b[49m\n\u001b[32m  10836\u001b[39m \u001b[43m        \u001b[49m\u001b[43mon\u001b[49m\u001b[43m=\u001b[49m\u001b[43mon\u001b[49m\u001b[43m,\u001b[49m\n\u001b[32m  10837\u001b[39m \u001b[43m        \u001b[49m\u001b[43mleft_on\u001b[49m\u001b[43m=\u001b[49m\u001b[43mleft_on\u001b[49m\u001b[43m,\u001b[49m\n\u001b[32m  10838\u001b[39m \u001b[43m        \u001b[49m\u001b[43mright_on\u001b[49m\u001b[43m=\u001b[49m\u001b[43mright_on\u001b[49m\u001b[43m,\u001b[49m\n\u001b[32m  10839\u001b[39m \u001b[43m        \u001b[49m\u001b[43mleft_index\u001b[49m\u001b[43m=\u001b[49m\u001b[43mleft_index\u001b[49m\u001b[43m,\u001b[49m\n\u001b[32m  10840\u001b[39m \u001b[43m        \u001b[49m\u001b[43mright_index\u001b[49m\u001b[43m=\u001b[49m\u001b[43mright_index\u001b[49m\u001b[43m,\u001b[49m\n\u001b[32m  10841\u001b[39m \u001b[43m        \u001b[49m\u001b[43msort\u001b[49m\u001b[43m=\u001b[49m\u001b[43msort\u001b[49m\u001b[43m,\u001b[49m\n\u001b[32m  10842\u001b[39m \u001b[43m        \u001b[49m\u001b[43msuffixes\u001b[49m\u001b[43m=\u001b[49m\u001b[43msuffixes\u001b[49m\u001b[43m,\u001b[49m\n\u001b[32m  10843\u001b[39m \u001b[43m        \u001b[49m\u001b[43mcopy\u001b[49m\u001b[43m=\u001b[49m\u001b[43mcopy\u001b[49m\u001b[43m,\u001b[49m\n\u001b[32m  10844\u001b[39m \u001b[43m        \u001b[49m\u001b[43mindicator\u001b[49m\u001b[43m=\u001b[49m\u001b[43mindicator\u001b[49m\u001b[43m,\u001b[49m\n\u001b[32m  10845\u001b[39m \u001b[43m        \u001b[49m\u001b[43mvalidate\u001b[49m\u001b[43m=\u001b[49m\u001b[43mvalidate\u001b[49m\u001b[43m,\u001b[49m\n\u001b[32m  10846\u001b[39m \u001b[43m    \u001b[49m\u001b[43m)\u001b[49m\n",
      "\u001b[36mFile \u001b[39m\u001b[32m~/miniconda3/envs/ai-cdss/lib/python3.12/site-packages/pandas/core/reshape/merge.py:170\u001b[39m, in \u001b[36mmerge\u001b[39m\u001b[34m(left, right, how, on, left_on, right_on, left_index, right_index, sort, suffixes, copy, indicator, validate)\u001b[39m\n\u001b[32m    155\u001b[39m     \u001b[38;5;28;01mreturn\u001b[39;00m _cross_merge(\n\u001b[32m    156\u001b[39m         left_df,\n\u001b[32m    157\u001b[39m         right_df,\n\u001b[32m   (...)\u001b[39m\u001b[32m    167\u001b[39m         copy=copy,\n\u001b[32m    168\u001b[39m     )\n\u001b[32m    169\u001b[39m \u001b[38;5;28;01melse\u001b[39;00m:\n\u001b[32m--> \u001b[39m\u001b[32m170\u001b[39m     op = \u001b[43m_MergeOperation\u001b[49m\u001b[43m(\u001b[49m\n\u001b[32m    171\u001b[39m \u001b[43m        \u001b[49m\u001b[43mleft_df\u001b[49m\u001b[43m,\u001b[49m\n\u001b[32m    172\u001b[39m \u001b[43m        \u001b[49m\u001b[43mright_df\u001b[49m\u001b[43m,\u001b[49m\n\u001b[32m    173\u001b[39m \u001b[43m        \u001b[49m\u001b[43mhow\u001b[49m\u001b[43m=\u001b[49m\u001b[43mhow\u001b[49m\u001b[43m,\u001b[49m\n\u001b[32m    174\u001b[39m \u001b[43m        \u001b[49m\u001b[43mon\u001b[49m\u001b[43m=\u001b[49m\u001b[43mon\u001b[49m\u001b[43m,\u001b[49m\n\u001b[32m    175\u001b[39m \u001b[43m        \u001b[49m\u001b[43mleft_on\u001b[49m\u001b[43m=\u001b[49m\u001b[43mleft_on\u001b[49m\u001b[43m,\u001b[49m\n\u001b[32m    176\u001b[39m \u001b[43m        \u001b[49m\u001b[43mright_on\u001b[49m\u001b[43m=\u001b[49m\u001b[43mright_on\u001b[49m\u001b[43m,\u001b[49m\n\u001b[32m    177\u001b[39m \u001b[43m        \u001b[49m\u001b[43mleft_index\u001b[49m\u001b[43m=\u001b[49m\u001b[43mleft_index\u001b[49m\u001b[43m,\u001b[49m\n\u001b[32m    178\u001b[39m \u001b[43m        \u001b[49m\u001b[43mright_index\u001b[49m\u001b[43m=\u001b[49m\u001b[43mright_index\u001b[49m\u001b[43m,\u001b[49m\n\u001b[32m    179\u001b[39m \u001b[43m        \u001b[49m\u001b[43msort\u001b[49m\u001b[43m=\u001b[49m\u001b[43msort\u001b[49m\u001b[43m,\u001b[49m\n\u001b[32m    180\u001b[39m \u001b[43m        \u001b[49m\u001b[43msuffixes\u001b[49m\u001b[43m=\u001b[49m\u001b[43msuffixes\u001b[49m\u001b[43m,\u001b[49m\n\u001b[32m    181\u001b[39m \u001b[43m        \u001b[49m\u001b[43mindicator\u001b[49m\u001b[43m=\u001b[49m\u001b[43mindicator\u001b[49m\u001b[43m,\u001b[49m\n\u001b[32m    182\u001b[39m \u001b[43m        \u001b[49m\u001b[43mvalidate\u001b[49m\u001b[43m=\u001b[49m\u001b[43mvalidate\u001b[49m\u001b[43m,\u001b[49m\n\u001b[32m    183\u001b[39m \u001b[43m    \u001b[49m\u001b[43m)\u001b[49m\n\u001b[32m    184\u001b[39m     \u001b[38;5;28;01mreturn\u001b[39;00m op.get_result(copy=copy)\n",
      "\u001b[36mFile \u001b[39m\u001b[32m~/miniconda3/envs/ai-cdss/lib/python3.12/site-packages/pandas/core/reshape/merge.py:807\u001b[39m, in \u001b[36m_MergeOperation.__init__\u001b[39m\u001b[34m(self, left, right, how, on, left_on, right_on, left_index, right_index, sort, suffixes, indicator, validate)\u001b[39m\n\u001b[32m    803\u001b[39m \u001b[38;5;28mself\u001b[39m._validate_tolerance(\u001b[38;5;28mself\u001b[39m.left_join_keys)\n\u001b[32m    805\u001b[39m \u001b[38;5;66;03m# validate the merge keys dtypes. We may need to coerce\u001b[39;00m\n\u001b[32m    806\u001b[39m \u001b[38;5;66;03m# to avoid incompatible dtypes\u001b[39;00m\n\u001b[32m--> \u001b[39m\u001b[32m807\u001b[39m \u001b[38;5;28;43mself\u001b[39;49m\u001b[43m.\u001b[49m\u001b[43m_maybe_coerce_merge_keys\u001b[49m\u001b[43m(\u001b[49m\u001b[43m)\u001b[49m\n\u001b[32m    809\u001b[39m \u001b[38;5;66;03m# If argument passed to validate,\u001b[39;00m\n\u001b[32m    810\u001b[39m \u001b[38;5;66;03m# check if columns specified as unique\u001b[39;00m\n\u001b[32m    811\u001b[39m \u001b[38;5;66;03m# are in fact unique.\u001b[39;00m\n\u001b[32m    812\u001b[39m \u001b[38;5;28;01mif\u001b[39;00m validate \u001b[38;5;129;01mis\u001b[39;00m \u001b[38;5;129;01mnot\u001b[39;00m \u001b[38;5;28;01mNone\u001b[39;00m:\n",
      "\u001b[36mFile \u001b[39m\u001b[32m~/miniconda3/envs/ai-cdss/lib/python3.12/site-packages/pandas/core/reshape/merge.py:1508\u001b[39m, in \u001b[36m_MergeOperation._maybe_coerce_merge_keys\u001b[39m\u001b[34m(self)\u001b[39m\n\u001b[32m   1502\u001b[39m     \u001b[38;5;66;03m# unless we are merging non-string-like with string-like\u001b[39;00m\n\u001b[32m   1503\u001b[39m     \u001b[38;5;28;01melif\u001b[39;00m (\n\u001b[32m   1504\u001b[39m         inferred_left \u001b[38;5;129;01min\u001b[39;00m string_types \u001b[38;5;129;01mand\u001b[39;00m inferred_right \u001b[38;5;129;01mnot\u001b[39;00m \u001b[38;5;129;01min\u001b[39;00m string_types\n\u001b[32m   1505\u001b[39m     ) \u001b[38;5;129;01mor\u001b[39;00m (\n\u001b[32m   1506\u001b[39m         inferred_right \u001b[38;5;129;01min\u001b[39;00m string_types \u001b[38;5;129;01mand\u001b[39;00m inferred_left \u001b[38;5;129;01mnot\u001b[39;00m \u001b[38;5;129;01min\u001b[39;00m string_types\n\u001b[32m   1507\u001b[39m     ):\n\u001b[32m-> \u001b[39m\u001b[32m1508\u001b[39m         \u001b[38;5;28;01mraise\u001b[39;00m \u001b[38;5;167;01mValueError\u001b[39;00m(msg)\n\u001b[32m   1510\u001b[39m \u001b[38;5;66;03m# datetimelikes must match exactly\u001b[39;00m\n\u001b[32m   1511\u001b[39m \u001b[38;5;28;01melif\u001b[39;00m needs_i8_conversion(lk.dtype) \u001b[38;5;129;01mand\u001b[39;00m \u001b[38;5;129;01mnot\u001b[39;00m needs_i8_conversion(rk.dtype):\n",
      "\u001b[31mValueError\u001b[39m: You are trying to merge on int64 and string columns for key 'PROTOCOL_ID'. If you wish to proceed you should use pd.concat"
     ]
    }
   ],
   "source": [
    "cdss.recommend()"
   ]
  },
  {
   "cell_type": "code",
   "execution_count": 18,
   "metadata": {},
   "outputs": [],
   "source": [
    "cdss.update_prescriptions(cdss.prescriptions, cdss.scoring)"
   ]
  },
  {
   "cell_type": "code",
   "execution_count": 19,
   "metadata": {},
   "outputs": [
    {
     "data": {
      "application/vnd.microsoft.datawrangler.viewer.v0+json": {
       "columns": [
        {
         "name": "index",
         "rawType": "int64",
         "type": "integer"
        },
        {
         "name": "PATIENT_ID",
         "rawType": "int64",
         "type": "integer"
        },
        {
         "name": "PROTOCOL_ID",
         "rawType": "int64",
         "type": "integer"
        },
        {
         "name": "USAGE",
         "rawType": "Int64",
         "type": "integer"
        },
        {
         "name": "PPF",
         "rawType": "float64",
         "type": "float"
        },
        {
         "name": "CONTRIB",
         "rawType": "object",
         "type": "string"
        },
        {
         "name": "ADHERENCE_EWMA",
         "rawType": "float64",
         "type": "float"
        },
        {
         "name": "DM_VALUE_EWMA",
         "rawType": "float64",
         "type": "float"
        },
        {
         "name": "SCORE",
         "rawType": "float64",
         "type": "float"
        },
        {
         "name": "DAYS",
         "rawType": "object",
         "type": "unknown"
        },
        {
         "name": "NEW_SCORE",
         "rawType": "float64",
         "type": "float"
        },
        {
         "name": "NEW_USAGE",
         "rawType": "Int64",
         "type": "integer"
        },
        {
         "name": "INTERCHANGE",
         "rawType": "bool",
         "type": "boolean"
        },
        {
         "name": "NEW_PROTOCOL_ID",
         "rawType": "int64",
         "type": "integer"
        }
       ],
       "conversionMethod": "pd.DataFrame",
       "ref": "45f225f3-3b69-471a-afc8-00a7d7427bf0",
       "rows": [
        [
         "0",
         "775",
         "222",
         "10",
         "0.632038455346321",
         "[0.022302696143133578, 0.07434232047711194, 0.055756740357833956, 0.07965248622547708, 0.15611887300193505, 0.0, 0.0, 0.0, 0.01239038674618532, 0.00844799096330818, 0.0, 0.22302696143133582]",
         "0.971875",
         "0.9999999969964847",
         "2.6039134523428054",
         "[3, 6, 7, 1]",
         "2.6039134523428054",
         "10",
         "False",
         "222"
        ],
        [
         "1",
         "775",
         "206",
         "12",
         "0.5286464783448132",
         "[0.013972368519644753, 0.13972368519644754, 0.0, 0.06653508818878455, 0.09780657963751328, 0.017465460649555953, 0.009314912346429836, 0.0, 0.03881213477679098, 0.005292563833198774, 0.0, 0.13972368519644754]",
         "1.0",
         "0.9671605587005615",
         "2.495807037045375",
         "[2, 3, 6, 1, 5]",
         "2.495807037045375",
         "12",
         "False",
         "206"
        ],
        [
         "2",
         "775",
         "224",
         "11",
         "0.632038455346321",
         "[0.022302696143133578, 0.07434232047711194, 0.055756740357833956, 0.07965248622547708, 0.15611887300193505, 0.0, 0.0, 0.0, 0.01239038674618532, 0.00844799096330818, 0.0, 0.22302696143133582]",
         "1.0",
         "0.6879631280899048",
         "2.320001583436226",
         "[4, 5, 6, 7]",
         "2.320001583436226",
         "11",
         "True",
         "201"
        ],
        [
         "3",
         "775",
         "208",
         "13",
         "0.4846645162068972",
         "[0.02088597029033065, 0.13923980193553767, 0.05221492572582663, 0.07459275103689518, 0.14620179203231454, 0.017404975241942216, 0.006961990096776883, 0.0, 0.02320663365592294, 0.003955676191350505, 0.0, 0.0]",
         "0.7613281249999999",
         "0.9619951773219917",
         "2.207987818528889",
         "[2, 1, 5, 7, 6, 3]",
         "2.207987818528889",
         "13",
         "True",
         "219"
        ],
        [
         "4",
         "775",
         "214",
         "5",
         "0.6174114293550534",
         "[0.014909525935815035, 0.04969841978605012, 0.07454762967907519, 0.10649661382725026, 0.2087333631014105, 0.0, 0.0, 0.0, 0.008283069964341685, 0.005647547702960245, 0.0, 0.14909525935815038]",
         "0.6216666666666667",
         "0.953474080462918",
         "2.192552176484638",
         "[1, 7, 4, 5, 2]",
         "2.192552176484638",
         "5",
         "True",
         "223"
        ]
       ],
       "shape": {
        "columns": 13,
        "rows": 5
       }
      },
      "text/html": [
       "<div>\n",
       "<style scoped>\n",
       "    .dataframe tbody tr th:only-of-type {\n",
       "        vertical-align: middle;\n",
       "    }\n",
       "\n",
       "    .dataframe tbody tr th {\n",
       "        vertical-align: top;\n",
       "    }\n",
       "\n",
       "    .dataframe thead th {\n",
       "        text-align: right;\n",
       "    }\n",
       "</style>\n",
       "<table border=\"1\" class=\"dataframe\">\n",
       "  <thead>\n",
       "    <tr style=\"text-align: right;\">\n",
       "      <th></th>\n",
       "      <th>PATIENT_ID</th>\n",
       "      <th>PROTOCOL_ID</th>\n",
       "      <th>USAGE</th>\n",
       "      <th>PPF</th>\n",
       "      <th>CONTRIB</th>\n",
       "      <th>ADHERENCE_EWMA</th>\n",
       "      <th>DM_VALUE_EWMA</th>\n",
       "      <th>SCORE</th>\n",
       "      <th>DAYS</th>\n",
       "      <th>NEW_SCORE</th>\n",
       "      <th>NEW_USAGE</th>\n",
       "      <th>INTERCHANGE</th>\n",
       "      <th>NEW_PROTOCOL_ID</th>\n",
       "    </tr>\n",
       "  </thead>\n",
       "  <tbody>\n",
       "    <tr>\n",
       "      <th>0</th>\n",
       "      <td>775</td>\n",
       "      <td>222</td>\n",
       "      <td>10</td>\n",
       "      <td>0.632038</td>\n",
       "      <td>[0.022302696143133578, 0.07434232047711194, 0....</td>\n",
       "      <td>0.971875</td>\n",
       "      <td>1.000000</td>\n",
       "      <td>2.603913</td>\n",
       "      <td>[3, 6, 7, 1]</td>\n",
       "      <td>2.603913</td>\n",
       "      <td>10</td>\n",
       "      <td>False</td>\n",
       "      <td>222</td>\n",
       "    </tr>\n",
       "    <tr>\n",
       "      <th>1</th>\n",
       "      <td>775</td>\n",
       "      <td>206</td>\n",
       "      <td>12</td>\n",
       "      <td>0.528646</td>\n",
       "      <td>[0.013972368519644753, 0.13972368519644754, 0....</td>\n",
       "      <td>1.000000</td>\n",
       "      <td>0.967161</td>\n",
       "      <td>2.495807</td>\n",
       "      <td>[2, 3, 6, 1, 5]</td>\n",
       "      <td>2.495807</td>\n",
       "      <td>12</td>\n",
       "      <td>False</td>\n",
       "      <td>206</td>\n",
       "    </tr>\n",
       "    <tr>\n",
       "      <th>2</th>\n",
       "      <td>775</td>\n",
       "      <td>224</td>\n",
       "      <td>11</td>\n",
       "      <td>0.632038</td>\n",
       "      <td>[0.022302696143133578, 0.07434232047711194, 0....</td>\n",
       "      <td>1.000000</td>\n",
       "      <td>0.687963</td>\n",
       "      <td>2.320002</td>\n",
       "      <td>[4, 5, 6, 7]</td>\n",
       "      <td>2.320002</td>\n",
       "      <td>11</td>\n",
       "      <td>True</td>\n",
       "      <td>201</td>\n",
       "    </tr>\n",
       "    <tr>\n",
       "      <th>3</th>\n",
       "      <td>775</td>\n",
       "      <td>208</td>\n",
       "      <td>13</td>\n",
       "      <td>0.484665</td>\n",
       "      <td>[0.02088597029033065, 0.13923980193553767, 0.0...</td>\n",
       "      <td>0.761328</td>\n",
       "      <td>0.961995</td>\n",
       "      <td>2.207988</td>\n",
       "      <td>[2, 1, 5, 7, 6, 3]</td>\n",
       "      <td>2.207988</td>\n",
       "      <td>13</td>\n",
       "      <td>True</td>\n",
       "      <td>219</td>\n",
       "    </tr>\n",
       "    <tr>\n",
       "      <th>4</th>\n",
       "      <td>775</td>\n",
       "      <td>214</td>\n",
       "      <td>5</td>\n",
       "      <td>0.617411</td>\n",
       "      <td>[0.014909525935815035, 0.04969841978605012, 0....</td>\n",
       "      <td>0.621667</td>\n",
       "      <td>0.953474</td>\n",
       "      <td>2.192552</td>\n",
       "      <td>[1, 7, 4, 5, 2]</td>\n",
       "      <td>2.192552</td>\n",
       "      <td>5</td>\n",
       "      <td>True</td>\n",
       "      <td>223</td>\n",
       "    </tr>\n",
       "  </tbody>\n",
       "</table>\n",
       "</div>"
      ],
      "text/plain": [
       "   PATIENT_ID  PROTOCOL_ID  USAGE       PPF  \\\n",
       "0         775          222     10  0.632038   \n",
       "1         775          206     12  0.528646   \n",
       "2         775          224     11  0.632038   \n",
       "3         775          208     13  0.484665   \n",
       "4         775          214      5  0.617411   \n",
       "\n",
       "                                             CONTRIB  ADHERENCE_EWMA  \\\n",
       "0  [0.022302696143133578, 0.07434232047711194, 0....        0.971875   \n",
       "1  [0.013972368519644753, 0.13972368519644754, 0....        1.000000   \n",
       "2  [0.022302696143133578, 0.07434232047711194, 0....        1.000000   \n",
       "3  [0.02088597029033065, 0.13923980193553767, 0.0...        0.761328   \n",
       "4  [0.014909525935815035, 0.04969841978605012, 0....        0.621667   \n",
       "\n",
       "   DM_VALUE_EWMA     SCORE                DAYS  NEW_SCORE  NEW_USAGE  \\\n",
       "0       1.000000  2.603913        [3, 6, 7, 1]   2.603913         10   \n",
       "1       0.967161  2.495807     [2, 3, 6, 1, 5]   2.495807         12   \n",
       "2       0.687963  2.320002        [4, 5, 6, 7]   2.320002         11   \n",
       "3       0.961995  2.207988  [2, 1, 5, 7, 6, 3]   2.207988         13   \n",
       "4       0.953474  2.192552     [1, 7, 4, 5, 2]   2.192552          5   \n",
       "\n",
       "   INTERCHANGE  NEW_PROTOCOL_ID  \n",
       "0        False              222  \n",
       "1        False              206  \n",
       "2         True              201  \n",
       "3         True              219  \n",
       "4         True              223  "
      ]
     },
     "execution_count": 19,
     "metadata": {},
     "output_type": "execute_result"
    }
   ],
   "source": [
    "cdss.prescriptions"
   ]
  }
 ],
 "metadata": {
  "kernelspec": {
   "display_name": "ai-cdss",
   "language": "python",
   "name": "python3"
  },
  "language_info": {
   "codemirror_mode": {
    "name": "ipython",
    "version": 3
   },
   "file_extension": ".py",
   "mimetype": "text/x-python",
   "name": "python",
   "nbconvert_exporter": "python",
   "pygments_lexer": "ipython3",
   "version": "3.12.9"
  }
 },
 "nbformat": 4,
 "nbformat_minor": 2
}
