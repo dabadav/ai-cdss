{
 "cells": [
  {
   "cell_type": "code",
   "execution_count": 4,
   "metadata": {},
   "outputs": [],
   "source": [
    "from pathlib import Path\n",
    "import pandas as pd\n",
    "from ai_cdss.processing import ClinicalSubscales, ProtocolToClinicalMapper, compute_ppf, merge_data, compute_protocol_similarity\n",
    "import shutil\n",
    "from ai_cdss.ppf import load_patient_subscales, load_protocol_attributes\n"
   ]
  },
  {
   "cell_type": "code",
   "execution_count": 2,
   "metadata": {},
   "outputs": [],
   "source": [
    "\n",
    "# Default data directory\n",
    "DEFAULT_DATA_DIR = Path.home() / \".ai_cdss\" / \"data\"\n",
    "DEFAULT_DATA_DIR.mkdir(parents=True, exist_ok=True)\n"
   ]
  },
  {
   "cell_type": "code",
   "execution_count": 54,
   "metadata": {},
   "outputs": [],
   "source": [
    "\n",
    "import numpy as np\n",
    "def feature_contributions(df_A, df_B):\n",
    "    # Convert to numpy\n",
    "    A = df_A.to_numpy()\n",
    "    B = df_B.to_numpy()\n",
    "\n",
    "    # Compute row-wise norms\n",
    "    A_norms = np.linalg.norm(A, axis=1, keepdims=True)\n",
    "    B_norms = np.linalg.norm(B, axis=1, keepdims=True)\n",
    "    \n",
    "    # Replace zero norms with a small value to avoid NaN (division by zero)\n",
    "    A_norms[A_norms == 0] = 1e-10\n",
    "    B_norms[B_norms == 0] = 1e-10\n",
    "\n",
    "    # Normalize each row to unit vectors\n",
    "    A_norm = A / A_norms\n",
    "    B_norm = B / B_norms\n",
    "\n",
    "    # Compute feature contributions\n",
    "    contributions = A_norm[:, np.newaxis, :] * B_norm[np.newaxis, :, :]\n",
    "\n",
    "    return contributions\n",
    "\n",
    "def compute_ppf(patient_deficiency, protocol_mapped):\n",
    "    \"\"\" Compute the patient-protocol feature matrix (PPF) and feature contributions.\n",
    "    \"\"\"\n",
    "    contributions = feature_contributions(patient_deficiency, protocol_mapped)\n",
    "    # ppf = np.sum(contributions, axis=2)\n",
    "    # ppf = pd.DataFrame(ppf, index=patient_deficiency.index, columns=protocol_mapped.index)\n",
    "\n",
    "    # contributions = pd.DataFrame(contributions.tolist(), index=patient_deficiency.index, columns=protocol_mapped.index)\n",
    "    \n",
    "    # ppf_long = ppf.stack().reset_index()\n",
    "    # ppf_long.columns = [\"PATIENT_ID\", \"PROTOCOL_ID\", \"PPF\"]\n",
    "\n",
    "    # contrib_long = contributions.stack().reset_index()\n",
    "    # contrib_long.columns = [\"PATIENT_ID\", \"PROTOCOL_ID\", \"CONTRIB\"]\n",
    "\n",
    "    # return ppf_long, contrib_long\n",
    "    return protocol_mapped.columns, contributions"
   ]
  },
  {
   "cell_type": "code",
   "execution_count": 55,
   "metadata": {},
   "outputs": [],
   "source": [
    "# Get platform-appropriate application data directory\n",
    "output_dir = Path.home() / \".ai_cdss\" / \"output\"\n",
    "output_dir.mkdir(parents=True, exist_ok=True)\n",
    "\n",
    "patient = load_patient_subscales()\n",
    "protocol = load_protocol_attributes()\n",
    "\n",
    "patient_deficiency = ClinicalSubscales().compute_deficit_matrix(patient)\n",
    "protocol_mapped    = ProtocolToClinicalMapper().map_protocol_features(protocol)\n",
    "\n",
    "ppf, contrib = compute_ppf(patient_deficiency, protocol_mapped)\n",
    "# ppf_contrib = merge_data(ppf, contrib)\n",
    "# ppf_contrib.set_index('PATIENT_ID', inplace=True)"
   ]
  }
 ],
 "metadata": {
  "kernelspec": {
   "display_name": "ai-cdss",
   "language": "python",
   "name": "python3"
  },
  "language_info": {
   "codemirror_mode": {
    "name": "ipython",
    "version": 3
   },
   "file_extension": ".py",
   "mimetype": "text/x-python",
   "name": "python",
   "nbconvert_exporter": "python",
   "pygments_lexer": "ipython3",
   "version": "3.12.9"
  }
 },
 "nbformat": 4,
 "nbformat_minor": 2
}
