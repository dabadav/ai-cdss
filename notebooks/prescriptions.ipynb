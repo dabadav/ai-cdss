{
 "cells": [
  {
   "cell_type": "code",
   "execution_count": 114,
   "metadata": {},
   "outputs": [],
   "source": [
    "import pandas as pd"
   ]
  },
  {
   "cell_type": "code",
   "execution_count": 115,
   "metadata": {},
   "outputs": [],
   "source": [
    "data = pd.read_csv(\"../../data/rgs_app_2025-03-04.csv\", dtype_backend=\"numpy_nullable\")"
   ]
  },
  {
   "cell_type": "code",
   "execution_count": 116,
   "metadata": {},
   "outputs": [],
   "source": [
    "data = data.dropna(subset=\"PRESCRIPTION_ID\")"
   ]
  },
  {
   "cell_type": "code",
   "execution_count": 117,
   "metadata": {},
   "outputs": [],
   "source": [
    "filtered = data.sort_values(by=[\"PATIENT_ID\", \"PROTOCOL_ID\", \"SESSION_ID\"]).iloc[:,[0,15]+list(range(16, 20))+[26]]"
   ]
  },
  {
   "cell_type": "code",
   "execution_count": 118,
   "metadata": {},
   "outputs": [],
   "source": [
    "patient_775 = filtered[filtered[\"PATIENT_ID\"] == 775]"
   ]
  },
  {
   "cell_type": "code",
   "execution_count": 119,
   "metadata": {},
   "outputs": [],
   "source": [
    "ps = patient_775[\"PRESCRIPTION_ID\"].unique().tolist()"
   ]
  },
  {
   "cell_type": "code",
   "execution_count": 120,
   "metadata": {},
   "outputs": [
    {
     "data": {
      "text/plain": [
       "1"
      ]
     },
     "execution_count": 120,
     "metadata": {},
     "output_type": "execute_result"
    }
   ],
   "source": [
    "patient_775[patient_775[\"PRESCRIPTION_ID\"] == ps[0]][\"PRESCRIPTION_ENDING_DATE\"].unique().__len__()"
   ]
  },
  {
   "cell_type": "code",
   "execution_count": 121,
   "metadata": {},
   "outputs": [
    {
     "data": {
      "application/vnd.microsoft.datawrangler.viewer.v0+json": {
       "columns": [
        {
         "name": "index",
         "rawType": "int64",
         "type": "integer"
        },
        {
         "name": "PATIENT_ID",
         "rawType": "Int64",
         "type": "integer"
        },
        {
         "name": "PRESCRIPTION_ID",
         "rawType": "Float64",
         "type": "float"
        },
        {
         "name": "SESSION_ID",
         "rawType": "Float64",
         "type": "float"
        },
        {
         "name": "PROTOCOL_ID",
         "rawType": "Float64",
         "type": "float"
        },
        {
         "name": "PRESCRIPTION_STARTING_DATE",
         "rawType": "string",
         "type": "string"
        },
        {
         "name": "PRESCRIPTION_ENDING_DATE",
         "rawType": "string",
         "type": "string"
        },
        {
         "name": "WEEKDAY",
         "rawType": "string",
         "type": "string"
        }
       ],
       "conversionMethod": "pd.DataFrame",
       "ref": "117f9d93-05f8-4d6e-8510-413e288db7f5",
       "rows": [
        [
         "8",
         "204",
         "136298.0",
         "43964.0",
         "205.0",
         "2024-09-10 10:43:43",
         "2100-01-01 00:00:00",
         "TUESDAY"
        ],
        [
         "9",
         "204",
         "136298.0",
         "43976.0",
         "205.0",
         "2024-09-10 10:43:43",
         "2100-01-01 00:00:00",
         "TUESDAY"
        ],
        [
         "10",
         "204",
         "136298.0",
         "44072.0",
         "205.0",
         "2024-09-10 10:43:43",
         "2100-01-01 00:00:00",
         "TUESDAY"
        ],
        [
         "16",
         "204",
         "136299.0",
         "44096.0",
         "205.0",
         "2024-09-10 10:43:43",
         "2100-01-01 00:00:00",
         "WEDNESDAY"
        ],
        [
         "17",
         "204",
         "136299.0",
         "44117.0",
         "205.0",
         "2024-09-10 10:43:43",
         "2100-01-01 00:00:00",
         "WEDNESDAY"
        ],
        [
         "18",
         "204",
         "136299.0",
         "44129.0",
         "205.0",
         "2024-09-10 10:43:43",
         "2100-01-01 00:00:00",
         "WEDNESDAY"
        ],
        [
         "19",
         "204",
         "136299.0",
         "44131.0",
         "205.0",
         "2024-09-10 10:43:43",
         "2100-01-01 00:00:00",
         "WEDNESDAY"
        ],
        [
         "20",
         "204",
         "136299.0",
         "44178.0",
         "205.0",
         "2024-09-10 10:43:43",
         "2100-01-01 00:00:00",
         "WEDNESDAY"
        ],
        [
         "28",
         "204",
         "136300.0",
         "44239.0",
         "205.0",
         "2024-09-10 10:43:43",
         "2100-01-01 00:00:00",
         "THURSDAY"
        ],
        [
         "29",
         "204",
         "136300.0",
         "44272.0",
         "205.0",
         "2024-09-10 10:43:43",
         "2100-01-01 00:00:00",
         "THURSDAY"
        ],
        [
         "30",
         "204",
         "136300.0",
         "44273.0",
         "205.0",
         "2024-09-10 10:43:43",
         "2100-01-01 00:00:00",
         "THURSDAY"
        ],
        [
         "31",
         "204",
         "136300.0",
         "44283.0",
         "205.0",
         "2024-09-10 10:43:43",
         "2100-01-01 00:00:00",
         "THURSDAY"
        ],
        [
         "37",
         "204",
         "136301.0",
         "44415.0",
         "205.0",
         "2024-09-10 10:43:43",
         "2100-01-01 00:00:00",
         "FRIDAY"
        ],
        [
         "38",
         "204",
         "136301.0",
         "44417.0",
         "205.0",
         "2024-09-10 10:43:43",
         "2100-01-01 00:00:00",
         "FRIDAY"
        ],
        [
         "39",
         "204",
         "136301.0",
         "44435.0",
         "205.0",
         "2024-09-10 10:43:43",
         "2100-01-01 00:00:00",
         "FRIDAY"
        ],
        [
         "47",
         "204",
         "136302.0",
         "44556.0",
         "205.0",
         "2024-09-10 10:43:43",
         "2100-01-01 00:00:00",
         "SATURDAY"
        ],
        [
         "48",
         "204",
         "136302.0",
         "44562.0",
         "205.0",
         "2024-09-10 10:43:43",
         "2100-01-01 00:00:00",
         "SATURDAY"
        ],
        [
         "54",
         "204",
         "136303.0",
         "44641.0",
         "205.0",
         "2024-09-10 10:43:43",
         "2100-01-01 00:00:00",
         "SUNDAY"
        ],
        [
         "55",
         "204",
         "136303.0",
         "44682.0",
         "205.0",
         "2024-09-10 10:43:43",
         "2100-01-01 00:00:00",
         "SUNDAY"
        ],
        [
         "56",
         "204",
         "136303.0",
         "44683.0",
         "205.0",
         "2024-09-10 10:43:43",
         "2100-01-01 00:00:00",
         "SUNDAY"
        ],
        [
         "64",
         "204",
         "136297.0",
         "44764.0",
         "205.0",
         "2024-09-10 10:43:43",
         "2100-01-01 00:00:00",
         "MONDAY"
        ],
        [
         "65",
         "204",
         "136297.0",
         "44784.0",
         "205.0",
         "2024-09-10 10:43:43",
         "2100-01-01 00:00:00",
         "MONDAY"
        ],
        [
         "76",
         "204",
         "136298.0",
         "44861.0",
         "205.0",
         "2024-09-10 10:43:43",
         "2100-01-01 00:00:00",
         "TUESDAY"
        ],
        [
         "77",
         "204",
         "136298.0",
         "44882.0",
         "205.0",
         "2024-09-10 10:43:43",
         "2100-01-01 00:00:00",
         "TUESDAY"
        ],
        [
         "78",
         "204",
         "136298.0",
         "44894.0",
         "205.0",
         "2024-09-10 10:43:43",
         "2100-01-01 00:00:00",
         "TUESDAY"
        ],
        [
         "90",
         "204",
         "136299.0",
         "44998.0",
         "205.0",
         "2024-09-10 10:43:43",
         "2100-01-01 00:00:00",
         "WEDNESDAY"
        ],
        [
         "101",
         "204",
         "136300.0",
         "45165.0",
         "205.0",
         "2024-09-10 10:43:43",
         "2100-01-01 00:00:00",
         "THURSDAY"
        ],
        [
         "102",
         "204",
         "136300.0",
         "45184.0",
         "205.0",
         "2024-09-10 10:43:43",
         "2100-01-01 00:00:00",
         "THURSDAY"
        ],
        [
         "103",
         "204",
         "136300.0",
         "45233.0",
         "205.0",
         "2024-09-10 10:43:43",
         "2100-01-01 00:00:00",
         "THURSDAY"
        ],
        [
         "111",
         "204",
         "136301.0",
         "45312.0",
         "205.0",
         "2024-09-10 10:43:43",
         "2100-01-01 00:00:00",
         "FRIDAY"
        ],
        [
         "112",
         "204",
         "136301.0",
         "45358.0",
         "205.0",
         "2024-09-10 10:43:43",
         "2100-01-01 00:00:00",
         "FRIDAY"
        ],
        [
         "120",
         "204",
         "136302.0",
         "45421.0",
         "205.0",
         "2024-09-10 10:43:43",
         "2100-01-01 00:00:00",
         "SATURDAY"
        ],
        [
         "121",
         "204",
         "136302.0",
         "45451.0",
         "205.0",
         "2024-09-10 10:43:43",
         "2100-01-01 00:00:00",
         "SATURDAY"
        ],
        [
         "127",
         "204",
         "136303.0",
         "45488.0",
         "205.0",
         "2024-09-10 10:43:43",
         "2100-01-01 00:00:00",
         "SUNDAY"
        ],
        [
         "128",
         "204",
         "136303.0",
         "45511.0",
         "205.0",
         "2024-09-10 10:43:43",
         "2100-01-01 00:00:00",
         "SUNDAY"
        ],
        [
         "136",
         "204",
         "136297.0",
         "45572.0",
         "205.0",
         "2024-09-10 10:43:43",
         "2100-01-01 00:00:00",
         "MONDAY"
        ],
        [
         "137",
         "204",
         "136297.0",
         "45606.0",
         "205.0",
         "2024-09-10 10:43:43",
         "2100-01-01 00:00:00",
         "MONDAY"
        ],
        [
         "145",
         "204",
         "136298.0",
         "45713.0",
         "205.0",
         "2024-09-10 10:43:43",
         "2100-01-01 00:00:00",
         "TUESDAY"
        ],
        [
         "146",
         "204",
         "136298.0",
         "45743.0",
         "205.0",
         "2024-09-10 10:43:43",
         "2100-01-01 00:00:00",
         "TUESDAY"
        ],
        [
         "153",
         "204",
         "136299.0",
         "45853.0",
         "205.0",
         "2024-09-10 10:43:43",
         "2100-01-01 00:00:00",
         "WEDNESDAY"
        ],
        [
         "154",
         "204",
         "136299.0",
         "45856.0",
         "205.0",
         "2024-09-10 10:43:43",
         "2100-01-01 00:00:00",
         "WEDNESDAY"
        ],
        [
         "155",
         "204",
         "136299.0",
         "45891.0",
         "205.0",
         "2024-09-10 10:43:43",
         "2100-01-01 00:00:00",
         "WEDNESDAY"
        ],
        [
         "156",
         "204",
         "136299.0",
         "45948.0",
         "205.0",
         "2024-09-10 10:43:43",
         "2100-01-01 00:00:00",
         "WEDNESDAY"
        ],
        [
         "165",
         "204",
         "136300.0",
         "46016.0",
         "205.0",
         "2024-09-10 10:43:43",
         "2100-01-01 00:00:00",
         "THURSDAY"
        ],
        [
         "166",
         "204",
         "136300.0",
         "46018.0",
         "205.0",
         "2024-09-10 10:43:43",
         "2100-01-01 00:00:00",
         "THURSDAY"
        ],
        [
         "167",
         "204",
         "136300.0",
         "46064.0",
         "205.0",
         "2024-09-10 10:43:43",
         "2100-01-01 00:00:00",
         "THURSDAY"
        ],
        [
         "174",
         "204",
         "136301.0",
         "46213.0",
         "205.0",
         "2024-09-10 10:43:43",
         "2100-01-01 00:00:00",
         "FRIDAY"
        ],
        [
         "175",
         "204",
         "136301.0",
         "46233.0",
         "205.0",
         "2024-09-10 10:43:43",
         "2100-01-01 00:00:00",
         "FRIDAY"
        ],
        [
         "182",
         "204",
         "136302.0",
         "46414.0",
         "205.0",
         "2024-09-10 10:43:43",
         "2100-01-01 00:00:00",
         "SATURDAY"
        ],
        [
         "183",
         "204",
         "136302.0",
         "46435.0",
         "205.0",
         "2024-09-10 10:43:43",
         "2100-01-01 00:00:00",
         "SATURDAY"
        ]
       ],
       "shape": {
        "columns": 7,
        "rows": 5580
       }
      },
      "text/html": [
       "<div>\n",
       "<style scoped>\n",
       "    .dataframe tbody tr th:only-of-type {\n",
       "        vertical-align: middle;\n",
       "    }\n",
       "\n",
       "    .dataframe tbody tr th {\n",
       "        vertical-align: top;\n",
       "    }\n",
       "\n",
       "    .dataframe thead th {\n",
       "        text-align: right;\n",
       "    }\n",
       "</style>\n",
       "<table border=\"1\" class=\"dataframe\">\n",
       "  <thead>\n",
       "    <tr style=\"text-align: right;\">\n",
       "      <th></th>\n",
       "      <th>PATIENT_ID</th>\n",
       "      <th>PRESCRIPTION_ID</th>\n",
       "      <th>SESSION_ID</th>\n",
       "      <th>PROTOCOL_ID</th>\n",
       "      <th>PRESCRIPTION_STARTING_DATE</th>\n",
       "      <th>PRESCRIPTION_ENDING_DATE</th>\n",
       "      <th>WEEKDAY</th>\n",
       "    </tr>\n",
       "  </thead>\n",
       "  <tbody>\n",
       "    <tr>\n",
       "      <th>8</th>\n",
       "      <td>204</td>\n",
       "      <td>136298.0</td>\n",
       "      <td>43964.0</td>\n",
       "      <td>205.0</td>\n",
       "      <td>2024-09-10 10:43:43</td>\n",
       "      <td>2100-01-01 00:00:00</td>\n",
       "      <td>TUESDAY</td>\n",
       "    </tr>\n",
       "    <tr>\n",
       "      <th>9</th>\n",
       "      <td>204</td>\n",
       "      <td>136298.0</td>\n",
       "      <td>43976.0</td>\n",
       "      <td>205.0</td>\n",
       "      <td>2024-09-10 10:43:43</td>\n",
       "      <td>2100-01-01 00:00:00</td>\n",
       "      <td>TUESDAY</td>\n",
       "    </tr>\n",
       "    <tr>\n",
       "      <th>10</th>\n",
       "      <td>204</td>\n",
       "      <td>136298.0</td>\n",
       "      <td>44072.0</td>\n",
       "      <td>205.0</td>\n",
       "      <td>2024-09-10 10:43:43</td>\n",
       "      <td>2100-01-01 00:00:00</td>\n",
       "      <td>TUESDAY</td>\n",
       "    </tr>\n",
       "    <tr>\n",
       "      <th>16</th>\n",
       "      <td>204</td>\n",
       "      <td>136299.0</td>\n",
       "      <td>44096.0</td>\n",
       "      <td>205.0</td>\n",
       "      <td>2024-09-10 10:43:43</td>\n",
       "      <td>2100-01-01 00:00:00</td>\n",
       "      <td>WEDNESDAY</td>\n",
       "    </tr>\n",
       "    <tr>\n",
       "      <th>17</th>\n",
       "      <td>204</td>\n",
       "      <td>136299.0</td>\n",
       "      <td>44117.0</td>\n",
       "      <td>205.0</td>\n",
       "      <td>2024-09-10 10:43:43</td>\n",
       "      <td>2100-01-01 00:00:00</td>\n",
       "      <td>WEDNESDAY</td>\n",
       "    </tr>\n",
       "    <tr>\n",
       "      <th>...</th>\n",
       "      <td>...</td>\n",
       "      <td>...</td>\n",
       "      <td>...</td>\n",
       "      <td>...</td>\n",
       "      <td>...</td>\n",
       "      <td>...</td>\n",
       "      <td>...</td>\n",
       "    </tr>\n",
       "    <tr>\n",
       "      <th>5563</th>\n",
       "      <td>3318</td>\n",
       "      <td>147955.0</td>\n",
       "      <td>55336.0</td>\n",
       "      <td>225.0</td>\n",
       "      <td>2024-11-18 15:04:59</td>\n",
       "      <td>2100-01-01 00:00:00</td>\n",
       "      <td>SUNDAY</td>\n",
       "    </tr>\n",
       "    <tr>\n",
       "      <th>5568</th>\n",
       "      <td>3318</td>\n",
       "      <td>147949.0</td>\n",
       "      <td>55350.0</td>\n",
       "      <td>225.0</td>\n",
       "      <td>2024-11-18 15:04:59</td>\n",
       "      <td>2100-01-01 00:00:00</td>\n",
       "      <td>MONDAY</td>\n",
       "    </tr>\n",
       "    <tr>\n",
       "      <th>5572</th>\n",
       "      <td>3318</td>\n",
       "      <td>147950.0</td>\n",
       "      <td>55362.0</td>\n",
       "      <td>225.0</td>\n",
       "      <td>2024-11-18 15:04:59</td>\n",
       "      <td>2100-01-01 00:00:00</td>\n",
       "      <td>TUESDAY</td>\n",
       "    </tr>\n",
       "    <tr>\n",
       "      <th>5576</th>\n",
       "      <td>3318</td>\n",
       "      <td>147951.0</td>\n",
       "      <td>55371.0</td>\n",
       "      <td>225.0</td>\n",
       "      <td>2024-11-18 15:04:59</td>\n",
       "      <td>2100-01-01 00:00:00</td>\n",
       "      <td>WEDNESDAY</td>\n",
       "    </tr>\n",
       "    <tr>\n",
       "      <th>5579</th>\n",
       "      <td>3318</td>\n",
       "      <td>147952.0</td>\n",
       "      <td>55399.0</td>\n",
       "      <td>225.0</td>\n",
       "      <td>2024-11-18 15:04:59</td>\n",
       "      <td>2100-01-01 00:00:00</td>\n",
       "      <td>THURSDAY</td>\n",
       "    </tr>\n",
       "  </tbody>\n",
       "</table>\n",
       "<p>5580 rows × 7 columns</p>\n",
       "</div>"
      ],
      "text/plain": [
       "      PATIENT_ID  PRESCRIPTION_ID  SESSION_ID  PROTOCOL_ID  \\\n",
       "8            204         136298.0     43964.0        205.0   \n",
       "9            204         136298.0     43976.0        205.0   \n",
       "10           204         136298.0     44072.0        205.0   \n",
       "16           204         136299.0     44096.0        205.0   \n",
       "17           204         136299.0     44117.0        205.0   \n",
       "...          ...              ...         ...          ...   \n",
       "5563        3318         147955.0     55336.0        225.0   \n",
       "5568        3318         147949.0     55350.0        225.0   \n",
       "5572        3318         147950.0     55362.0        225.0   \n",
       "5576        3318         147951.0     55371.0        225.0   \n",
       "5579        3318         147952.0     55399.0        225.0   \n",
       "\n",
       "     PRESCRIPTION_STARTING_DATE PRESCRIPTION_ENDING_DATE    WEEKDAY  \n",
       "8           2024-09-10 10:43:43      2100-01-01 00:00:00    TUESDAY  \n",
       "9           2024-09-10 10:43:43      2100-01-01 00:00:00    TUESDAY  \n",
       "10          2024-09-10 10:43:43      2100-01-01 00:00:00    TUESDAY  \n",
       "16          2024-09-10 10:43:43      2100-01-01 00:00:00  WEDNESDAY  \n",
       "17          2024-09-10 10:43:43      2100-01-01 00:00:00  WEDNESDAY  \n",
       "...                         ...                      ...        ...  \n",
       "5563        2024-11-18 15:04:59      2100-01-01 00:00:00     SUNDAY  \n",
       "5568        2024-11-18 15:04:59      2100-01-01 00:00:00     MONDAY  \n",
       "5572        2024-11-18 15:04:59      2100-01-01 00:00:00    TUESDAY  \n",
       "5576        2024-11-18 15:04:59      2100-01-01 00:00:00  WEDNESDAY  \n",
       "5579        2024-11-18 15:04:59      2100-01-01 00:00:00   THURSDAY  \n",
       "\n",
       "[5580 rows x 7 columns]"
      ]
     },
     "execution_count": 121,
     "metadata": {},
     "output_type": "execute_result"
    }
   ],
   "source": [
    "filtered"
   ]
  },
  {
   "cell_type": "code",
   "execution_count": 123,
   "metadata": {},
   "outputs": [],
   "source": [
    "# Check if all prescriptions ending are the same\n",
    "cl = filtered[\"PATIENT_ID\"].unique().tolist()\n",
    "for c in cl:\n",
    "    df = filtered[filtered[\"PATIENT_ID\"] == c]\n",
    "    ps = df[\"PRESCRIPTION_ID\"].unique().tolist()\n",
    "    for p in ps:\n",
    "        assert df[df[\"PRESCRIPTION_ID\"] == p][\"PRESCRIPTION_ENDING_DATE\"].unique().__len__() == 1, f\"Prescription {p} of patient {c} has different ending dates\""
   ]
  },
  {
   "cell_type": "code",
   "execution_count": 106,
   "metadata": {},
   "outputs": [],
   "source": [
    "class Session:\n",
    "    def __init__(self, df):\n",
    "        self._df = df\n",
    "\n",
    "    def __getattr__(self, name):\n",
    "        attr = getattr(self._df, name)\n",
    "        # Wrap return value only if it's a DataFrame\n",
    "        if callable(attr):\n",
    "            def method(*args, **kwargs):\n",
    "                result = attr(*args, **kwargs)\n",
    "                if isinstance(result, pd.DataFrame):\n",
    "                    return Session(result)\n",
    "                return result\n",
    "            return method\n",
    "        else:\n",
    "            return attr\n",
    "\n",
    "    def __repr__(self):\n",
    "        return repr(self._df)\n",
    "\n",
    "    def get(self, id):\n",
    "        return self._df[self._df[\"PATIENT_ID\"] == id]\n"
   ]
  }
 ],
 "metadata": {
  "kernelspec": {
   "display_name": "ai-cdss",
   "language": "python",
   "name": "python3"
  },
  "language_info": {
   "codemirror_mode": {
    "name": "ipython",
    "version": 3
   },
   "file_extension": ".py",
   "mimetype": "text/x-python",
   "name": "python",
   "nbconvert_exporter": "python",
   "pygments_lexer": "ipython3",
   "version": "3.12.9"
  }
 },
 "nbformat": 4,
 "nbformat_minor": 2
}
