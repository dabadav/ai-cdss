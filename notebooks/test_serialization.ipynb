{
 "cells": [
  {
   "cell_type": "code",
   "execution_count": 26,
   "metadata": {},
   "outputs": [],
   "source": [
    "import pandas as pd\n",
    "\n",
    "from ai_cdss.ppf import load_patient_subscales\n",
    "\n",
    "data = pd.read_parquet(\"recommendation.parquet\")\n",
    "protocol_attributes = load_patient_subscales()\n",
    "attribute_keys = list(protocol_attributes.columns)"
   ]
  },
  {
   "cell_type": "code",
   "execution_count": 27,
   "metadata": {},
   "outputs": [
    {
     "data": {
      "text/plain": [
       "['BARTHEL',\n",
       " 'ASH_PROXIMAL',\n",
       " 'MA_DISTAL',\n",
       " 'FATIGUE',\n",
       " 'VAS',\n",
       " 'FM_A',\n",
       " 'FM_B',\n",
       " 'FM_C',\n",
       " 'FM_D',\n",
       " 'FM_TOTAL',\n",
       " 'ACT_AU',\n",
       " 'ACT_QOM']"
      ]
     },
     "execution_count": 27,
     "metadata": {},
     "output_type": "execute_result"
    }
   ],
   "source": [
    "attribute_keys"
   ]
  },
  {
   "cell_type": "code",
   "execution_count": 28,
   "metadata": {},
   "outputs": [],
   "source": [
    "from pydantic import BaseModel, Field\n",
    "from typing import List\n",
    "\n",
    "class RecommendationOut(BaseModel):\n",
    "    patient_id: int = Field(alias=\"PATIENT_ID\")\n",
    "    protocol_id: int = Field(alias=\"PROTOCOL_ID\")\n",
    "    ppf: float = Field(alias=\"PPF\")\n",
    "    adherence: float = Field(alias=\"ADHERENCE\")\n",
    "    dm_value: float = Field(alias=\"DM_VALUE\")\n",
    "    pe_value: float = Field(alias=\"PE_VALUE\")\n",
    "    usage: int = Field(alias=\"USAGE\")\n",
    "    contrib: List[float] = Field(alias=\"CONTRIB\")\n",
    "    days: List[int] = Field(alias=\"DAYS\")\n",
    "    score: float = Field(alias=\"SCORE\")\n"
   ]
  },
  {
   "cell_type": "code",
   "execution_count": 21,
   "metadata": {},
   "outputs": [],
   "source": [
    "serial =  [RecommendationOut(**row) for row in data.to_dict(orient=\"records\")]"
   ]
  },
  {
   "cell_type": "code",
   "execution_count": 18,
   "metadata": {},
   "outputs": [
    {
     "data": {
      "text/plain": [
       "RecommendationOut(patient_id=775, protocol_id=208, ppf=0.48466451620689727, adherence=0.6746910866910866, dm_value=0.994969902537775, pe_value=0.9742054045128621, usage=242, contrib=[0.02088597029033065, 0.13923980193553767, 0.05221492572582663, 0.07459275103689518, 0.14620179203231454, 0.017404975241942216, 0.006961990096776883, 0.0, 0.02320663365592294, 0.003955676191350505, 0.0, 0.0], days=[0, 2, 4], score=2.1543255054357586)"
      ]
     },
     "execution_count": 18,
     "metadata": {},
     "output_type": "execute_result"
    }
   ],
   "source": [
    "serial[1]"
   ]
  }
 ],
 "metadata": {
  "kernelspec": {
   "display_name": "ai-cdss",
   "language": "python",
   "name": "python3"
  },
  "language_info": {
   "codemirror_mode": {
    "name": "ipython",
    "version": 3
   },
   "file_extension": ".py",
   "mimetype": "text/x-python",
   "name": "python",
   "nbconvert_exporter": "python",
   "pygments_lexer": "ipython3",
   "version": "3.12.9"
  }
 },
 "nbformat": 4,
 "nbformat_minor": 2
}
