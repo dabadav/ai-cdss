{
 "cells": [
  {
   "cell_type": "markdown",
   "metadata": {},
   "source": [
    "### Validate CDSS Against NEST Study"
   ]
  },
  {
   "cell_type": "markdown",
   "metadata": {},
   "source": [
    "For each patient week we compare the clinicians decisions took vs the decisions the CDSS engine would have taken.\n",
    "\n",
    "---"
   ]
  },
  {
   "cell_type": "code",
   "execution_count": 1,
   "metadata": {},
   "outputs": [],
   "source": [
    "nest_patient = [\n",
    "    775,  787,  788, 1123, 1169, 1170, 1171, 1172, 1173, 1983, 2110, 2195,\n",
    "    2955, 2956, 2957, 2958, 2959, 2960, 2961, 2962, 2963, 3081, 3229, 3318, 3432\n",
    "]"
   ]
  },
  {
   "cell_type": "code",
   "execution_count": 2,
   "metadata": {},
   "outputs": [],
   "source": [
    "rgs_mode = \"app\"\n",
    "scoring_weights = [1,1,1]\n",
    "ewma_alpha = 0.5\n",
    "\n",
    "n = 12\n",
    "days = 7\n",
    "protocols_per_day = 5"
   ]
  },
  {
   "cell_type": "markdown",
   "metadata": {},
   "source": [
    "### 1. Load Data"
   ]
  },
  {
   "cell_type": "code",
   "execution_count": 3,
   "metadata": {},
   "outputs": [],
   "source": [
    "from ai_cdss.data_loader import DataLoader\n",
    "from ai_cdss.data_processor import DataProcessor"
   ]
  },
  {
   "cell_type": "code",
   "execution_count": 4,
   "metadata": {},
   "outputs": [],
   "source": [
    "loader = DataLoader(rgs_mode=rgs_mode)\n",
    "processor = DataProcessor(weights=scoring_weights, alpha=ewma_alpha)"
   ]
  },
  {
   "cell_type": "code",
   "execution_count": 5,
   "metadata": {},
   "outputs": [
    {
     "name": "stdout",
     "output_type": "stream",
     "text": [
      "Database engine created successfully\n"
     ]
    },
    {
     "name": "stderr",
     "output_type": "stream",
     "text": [
      "INFO:ai_cdss.data_loader:Session data loaded successfully.\n"
     ]
    },
    {
     "name": "stdout",
     "output_type": "stream",
     "text": [
      "Database engine closed\n",
      "Database engine created successfully\n",
      "Database engine closed\n",
      "Database engine created successfully\n",
      "Database engine closed\n"
     ]
    },
    {
     "name": "stderr",
     "output_type": "stream",
     "text": [
      "INFO:ai_cdss.data_loader:PPF data loaded successfully.\n",
      "INFO:ai_cdss.data_loader:Protocol similarity data loaded successfully.\n"
     ]
    }
   ],
   "source": [
    "session = loader.load_session_data(patient_list=nest_patient)\n",
    "timeseries = loader.load_timeseries_data(patient_list=nest_patient)\n",
    "ppf = loader.load_ppf_data(patient_list=nest_patient)\n",
    "protocol_similarity = loader.load_protocol_similarity()"
   ]
  },
  {
   "cell_type": "code",
   "execution_count": 6,
   "metadata": {},
   "outputs": [],
   "source": [
    "session_clean = session.drop(session.columns[1:15], axis=1)"
   ]
  },
  {
   "cell_type": "code",
   "execution_count": 7,
   "metadata": {},
   "outputs": [],
   "source": [
    "# Get nest data merged with metrics semi computed\n",
    "data = processor.merge_session_and_timeseries(session_data=session_clean, timeseries_data=timeseries)"
   ]
  },
  {
   "cell_type": "code",
   "execution_count": 8,
   "metadata": {},
   "outputs": [
    {
     "name": "stderr",
     "output_type": "stream",
     "text": [
      "/home/dav/Documents/AISN/ai-cdss/src/ai_cdss/processing.py:186: FutureWarning: The behavior of DataFrame concatenation with empty or all-NA entries is deprecated. In a future version, this will no longer exclude empty or all-NA columns when determining the result dtypes. To retain the old behavior, exclude the relevant entries before the concat operation.\n",
      "  sessions_df = pd.concat([session, df_missing], ignore_index=True)\n"
     ]
    }
   ],
   "source": [
    "from ai_cdss.processing import expand_session_batch\n",
    "session_all = expand_session_batch(session)\n",
    "session_all_clean = session_all.drop(session_all.columns[1:15], axis=1)"
   ]
  },
  {
   "cell_type": "markdown",
   "metadata": {},
   "source": [
    "### 1.2 Weekly Data"
   ]
  },
  {
   "cell_type": "code",
   "execution_count": 9,
   "metadata": {},
   "outputs": [],
   "source": [
    "import pandas as pd\n",
    "\n",
    "def iterate_cumulative_weekly_data(df):\n",
    "    \"\"\"\n",
    "    Iterates over patient session data on a cumulative weekly basis.\n",
    "\n",
    "    Parameters:\n",
    "        df (pd.DataFrame): DataFrame containing session records with 'SESSION_DATE'.\n",
    "\n",
    "    Yields:\n",
    "        tuple: (week_number, cumulative_dataframe)\n",
    "    \"\"\"\n",
    "    # Ensure SESSION_DATE is in datetime format\n",
    "    df = df.copy()  # Create a new DataFrame to avoid modifying the original\n",
    "    df[\"SESSION_DATE\"] = pd.to_datetime(df[\"SESSION_DATE\"], errors=\"coerce\")\n",
    "\n",
    "    # Drop rows where SESSION_DATE is NaT (missing)\n",
    "    df = df.dropna(subset=[\"SESSION_DATE\"]).copy()\n",
    "\n",
    "    # Create 'YEAR_WEEK' column safely\n",
    "    df.loc[:, \"YEAR_WEEK\"] = df[\"SESSION_DATE\"].dt.strftime('%Y-%W')\n",
    "\n",
    "    # Sort by date to ensure cumulative computation is correct\n",
    "    df = df.sort_values(by=\"SESSION_DATE\").copy()\n",
    "\n",
    "    # Track cumulative data\n",
    "    cumulative_df = pd.DataFrame()\n",
    "\n",
    "    # Ensure unique weeks are sorted correctly\n",
    "    for week in sorted(df[\"YEAR_WEEK\"].dropna().astype(str).unique()):\n",
    "        # Select all data up to the current week\n",
    "        current_data = df[df[\"YEAR_WEEK\"] <= week]\n",
    "        \n",
    "        # Append to cumulative dataset\n",
    "        cumulative_df = pd.concat([cumulative_df, current_data]).drop_duplicates()\n",
    "\n",
    "        yield week, cumulative_df.copy()  # Return a copy to prevent modification issues\n",
    "\n",
    "def iterate_weekly_data(df):\n",
    "    \"\"\"\n",
    "    Iterates over weekly patient session data.\n",
    "\n",
    "    Parameters:\n",
    "        df (pd.DataFrame): DataFrame containing session records with a 'SESSION_DATE' column.\n",
    "\n",
    "    Yields:\n",
    "        tuple: (week_number, weekly_dataframe)\n",
    "    \"\"\"\n",
    "    # Ensure SESSION_DATE is datetime format\n",
    "    df[\"SESSION_DATE\"] = pd.to_datetime(df[\"SESSION_DATE\"])\n",
    "\n",
    "    # Create a 'YEAR_WEEK' column to group by year and week\n",
    "    df[\"YEAR_WEEK\"] = df[\"SESSION_DATE\"].dt.strftime('%Y-%W')\n",
    "\n",
    "    # Iterate through each week's data\n",
    "    for week, weekly_df in df.groupby(\"YEAR_WEEK\"):\n",
    "        yield week, weekly_df"
   ]
  },
  {
   "cell_type": "code",
   "execution_count": 12,
   "metadata": {},
   "outputs": [],
   "source": [
    "from ai_cdss.cdss import CDSS\n",
    "import matplotlib.pyplot as plt"
   ]
  },
  {
   "cell_type": "code",
   "execution_count": 22,
   "metadata": {},
   "outputs": [
    {
     "name": "stdout",
     "output_type": "stream",
     "text": [
      "2024-13\n"
     ]
    },
    {
     "data": {
      "image/png": "[encoded data removed]",
      "text/plain": [
       "<Figure size 640x480 with 1 Axes>"
      ]
     },
     "metadata": {},
     "output_type": "display_data"
    },
    {
     "data": {
      "application/vnd.microsoft.datawrangler.viewer.v0+json": {
       "columns": [
        {
         "name": "index",
         "rawType": "int64",
         "type": "integer"
        },
        {
         "name": "PATIENT_ID",
         "rawType": "int64",
         "type": "integer"
        },
        {
         "name": "PROTOCOL_ID",
         "rawType": "int64",
         "type": "integer"
        },
        {
         "name": "PPF",
         "rawType": "float64",
         "type": "float"
        },
        {
         "name": "CONTRIB",
         "rawType": "object",
         "type": "unknown"
        },
        {
         "name": "ADHERENCE",
         "rawType": "float64",
         "type": "float"
        },
        {
         "name": "DM_VALUE",
         "rawType": "float64",
         "type": "float"
        },
        {
         "name": "PE_VALUE",
         "rawType": "float64",
         "type": "float"
        },
        {
         "name": "USAGE",
         "rawType": "Int64",
         "type": "integer"
        },
        {
         "name": "DAYS",
         "rawType": "object",
         "type": "unknown"
        },
        {
         "name": "SCORE",
         "rawType": "float64",
         "type": "float"
        }
       ],
       "conversionMethod": "pd.DataFrame",
       "ref": "66d571ae-db37-4021-856d-5455b2f089d8",
       "rows": [
        [
         "38",
         "775",
         "206",
         "0.5286464783448132",
         "[0.01397237 0.13972369 0.         0.06653509 0.09780658 0.01746546\n 0.00931491 0.         0.03881213 0.00529256 0.         0.13972369]",
         "1.0",
         "0.0",
         "0.0",
         "1",
         "[4]",
         "1.5286464783448133"
        ],
        [
         "45",
         "775",
         "222",
         "0.632038455346321",
         "[0.0223027  0.07434232 0.05575674 0.07965249 0.15611887 0.\n 0.         0.         0.01239039 0.00844799 0.         0.22302696]",
         "1.0",
         "0.0",
         "0.0",
         "1",
         "[4]",
         "1.632038455346321"
        ],
        [
         "46",
         "775",
         "224",
         "0.632038455346321",
         "[0.0223027  0.07434232 0.05575674 0.07965249 0.15611887 0.\n 0.         0.         0.01239039 0.00844799 0.         0.22302696]",
         "1.0",
         "0.5789891344158222",
         "0.7007134659992674",
         "13",
         "[4]",
         "2.211027589762143"
        ]
       ],
       "shape": {
        "columns": 10,
        "rows": 3
       }
      },
      "text/html": [
       "<div>\n",
       "<style scoped>\n",
       "    .dataframe tbody tr th:only-of-type {\n",
       "        vertical-align: middle;\n",
       "    }\n",
       "\n",
       "    .dataframe tbody tr th {\n",
       "        vertical-align: top;\n",
       "    }\n",
       "\n",
       "    .dataframe thead th {\n",
       "        text-align: right;\n",
       "    }\n",
       "</style>\n",
       "<table border=\"1\" class=\"dataframe\">\n",
       "  <thead>\n",
       "    <tr style=\"text-align: right;\">\n",
       "      <th></th>\n",
       "      <th>PATIENT_ID</th>\n",
       "      <th>PROTOCOL_ID</th>\n",
       "      <th>PPF</th>\n",
       "      <th>CONTRIB</th>\n",
       "      <th>ADHERENCE</th>\n",
       "      <th>DM_VALUE</th>\n",
       "      <th>PE_VALUE</th>\n",
       "      <th>USAGE</th>\n",
       "      <th>DAYS</th>\n",
       "      <th>SCORE</th>\n",
       "    </tr>\n",
       "  </thead>\n",
       "  <tbody>\n",
       "    <tr>\n",
       "      <th>38</th>\n",
       "      <td>775</td>\n",
       "      <td>206</td>\n",
       "      <td>0.528646</td>\n",
       "      <td>[0.013972368519644753, 0.13972368519644754, 0....</td>\n",
       "      <td>1.0</td>\n",
       "      <td>0.000000</td>\n",
       "      <td>0.000000</td>\n",
       "      <td>1</td>\n",
       "      <td>[4]</td>\n",
       "      <td>1.528646</td>\n",
       "    </tr>\n",
       "    <tr>\n",
       "      <th>45</th>\n",
       "      <td>775</td>\n",
       "      <td>222</td>\n",
       "      <td>0.632038</td>\n",
       "      <td>[0.022302696143133578, 0.07434232047711194, 0....</td>\n",
       "      <td>1.0</td>\n",
       "      <td>0.000000</td>\n",
       "      <td>0.000000</td>\n",
       "      <td>1</td>\n",
       "      <td>[4]</td>\n",
       "      <td>1.632038</td>\n",
       "    </tr>\n",
       "    <tr>\n",
       "      <th>46</th>\n",
       "      <td>775</td>\n",
       "      <td>224</td>\n",
       "      <td>0.632038</td>\n",
       "      <td>[0.022302696143133578, 0.07434232047711194, 0....</td>\n",
       "      <td>1.0</td>\n",
       "      <td>0.578989</td>\n",
       "      <td>0.700713</td>\n",
       "      <td>13</td>\n",
       "      <td>[4]</td>\n",
       "      <td>2.211028</td>\n",
       "    </tr>\n",
       "  </tbody>\n",
       "</table>\n",
       "</div>"
      ],
      "text/plain": [
       "    PATIENT_ID  PROTOCOL_ID       PPF  \\\n",
       "38         775          206  0.528646   \n",
       "45         775          222  0.632038   \n",
       "46         775          224  0.632038   \n",
       "\n",
       "                                              CONTRIB  ADHERENCE  DM_VALUE  \\\n",
       "38  [0.013972368519644753, 0.13972368519644754, 0....        1.0  0.000000   \n",
       "45  [0.022302696143133578, 0.07434232047711194, 0....        1.0  0.000000   \n",
       "46  [0.022302696143133578, 0.07434232047711194, 0....        1.0  0.578989   \n",
       "\n",
       "    PE_VALUE  USAGE DAYS     SCORE  \n",
       "38  0.000000      1  [4]  1.528646  \n",
       "45  0.000000      1  [4]  1.632038  \n",
       "46  0.700713     13  [4]  2.211028  "
      ]
     },
     "metadata": {},
     "output_type": "display_data"
    },
    {
     "name": "stdout",
     "output_type": "stream",
     "text": [
      "-----------------\n"
     ]
    },
    {
     "data": {
      "application/vnd.microsoft.datawrangler.viewer.v0+json": {
       "columns": [
        {
         "name": "index",
         "rawType": "int64",
         "type": "integer"
        },
        {
         "name": "PATIENT_ID",
         "rawType": "int64",
         "type": "integer"
        },
        {
         "name": "PROTOCOL_ID",
         "rawType": "int64",
         "type": "integer"
        },
        {
         "name": "PPF",
         "rawType": "float64",
         "type": "float"
        },
        {
         "name": "CONTRIB",
         "rawType": "object",
         "type": "unknown"
        },
        {
         "name": "ADHERENCE",
         "rawType": "float64",
         "type": "float"
        },
        {
         "name": "DM_VALUE",
         "rawType": "float64",
         "type": "float"
        },
        {
         "name": "PE_VALUE",
         "rawType": "float64",
         "type": "float"
        },
        {
         "name": "USAGE",
         "rawType": "int64",
         "type": "integer"
        },
        {
         "name": "DAYS",
         "rawType": "object",
         "type": "unknown"
        },
        {
         "name": "SCORE",
         "rawType": "float64",
         "type": "float"
        }
       ],
       "conversionMethod": "pd.DataFrame",
       "ref": "c1f238f5-5ffd-44f8-83d6-3ec2c01a1438",
       "rows": [
        [
         "0",
         "775",
         "201",
         "0.632038455346321",
         "[0.0223027  0.07434232 0.05575674 0.07965249 0.15611887 0.\n 0.         0.         0.01239039 0.00844799 0.         0.22302696]",
         "0.0",
         "0.0",
         "0.0",
         "0",
         "[4]",
         "0.632038455346321"
        ],
        [
         "1",
         "775",
         "219",
         "0.6313709539339453",
         "[0.01678424 0.16784244 0.04196061 0.05994373 0.11748971 0.01398687\n 0.0111895  0.         0.02797374 0.00635767 0.         0.16784244]",
         "0.0",
         "0.0",
         "0.0",
         "0",
         "[4]",
         "0.6313709539339453"
        ],
        [
         "2",
         "775",
         "224",
         "0.632038455346321",
         "[0.0223027  0.07434232 0.05575674 0.07965249 0.15611887 0.\n 0.         0.         0.01239039 0.00844799 0.         0.22302696]",
         "1.0",
         "0.5789891344158222",
         "0.7007134659992674",
         "13",
         "[4]",
         "2.211027589762143"
        ]
       ],
       "shape": {
        "columns": 10,
        "rows": 3
       }
      },
      "text/html": [
       "<div>\n",
       "<style scoped>\n",
       "    .dataframe tbody tr th:only-of-type {\n",
       "        vertical-align: middle;\n",
       "    }\n",
       "\n",
       "    .dataframe tbody tr th {\n",
       "        vertical-align: top;\n",
       "    }\n",
       "\n",
       "    .dataframe thead th {\n",
       "        text-align: right;\n",
       "    }\n",
       "</style>\n",
       "<table border=\"1\" class=\"dataframe\">\n",
       "  <thead>\n",
       "    <tr style=\"text-align: right;\">\n",
       "      <th></th>\n",
       "      <th>PATIENT_ID</th>\n",
       "      <th>PROTOCOL_ID</th>\n",
       "      <th>PPF</th>\n",
       "      <th>CONTRIB</th>\n",
       "      <th>ADHERENCE</th>\n",
       "      <th>DM_VALUE</th>\n",
       "      <th>PE_VALUE</th>\n",
       "      <th>USAGE</th>\n",
       "      <th>DAYS</th>\n",
       "      <th>SCORE</th>\n",
       "    </tr>\n",
       "  </thead>\n",
       "  <tbody>\n",
       "    <tr>\n",
       "      <th>0</th>\n",
       "      <td>775</td>\n",
       "      <td>201</td>\n",
       "      <td>0.632038</td>\n",
       "      <td>[0.022302696143133578, 0.07434232047711194, 0....</td>\n",
       "      <td>0.0</td>\n",
       "      <td>0.000000</td>\n",
       "      <td>0.000000</td>\n",
       "      <td>0</td>\n",
       "      <td>[4]</td>\n",
       "      <td>0.632038</td>\n",
       "    </tr>\n",
       "    <tr>\n",
       "      <th>1</th>\n",
       "      <td>775</td>\n",
       "      <td>219</td>\n",
       "      <td>0.631371</td>\n",
       "      <td>[0.016784244244057927, 0.16784244244057928, 0....</td>\n",
       "      <td>0.0</td>\n",
       "      <td>0.000000</td>\n",
       "      <td>0.000000</td>\n",
       "      <td>0</td>\n",
       "      <td>[4]</td>\n",
       "      <td>0.631371</td>\n",
       "    </tr>\n",
       "    <tr>\n",
       "      <th>2</th>\n",
       "      <td>775</td>\n",
       "      <td>224</td>\n",
       "      <td>0.632038</td>\n",
       "      <td>[0.022302696143133578, 0.07434232047711194, 0....</td>\n",
       "      <td>1.0</td>\n",
       "      <td>0.578989</td>\n",
       "      <td>0.700713</td>\n",
       "      <td>13</td>\n",
       "      <td>[4]</td>\n",
       "      <td>2.211028</td>\n",
       "    </tr>\n",
       "  </tbody>\n",
       "</table>\n",
       "</div>"
      ],
      "text/plain": [
       "   PATIENT_ID  PROTOCOL_ID       PPF  \\\n",
       "0         775          201  0.632038   \n",
       "1         775          219  0.631371   \n",
       "2         775          224  0.632038   \n",
       "\n",
       "                                             CONTRIB  ADHERENCE  DM_VALUE  \\\n",
       "0  [0.022302696143133578, 0.07434232047711194, 0....        0.0  0.000000   \n",
       "1  [0.016784244244057927, 0.16784244244057928, 0....        0.0  0.000000   \n",
       "2  [0.022302696143133578, 0.07434232047711194, 0....        1.0  0.578989   \n",
       "\n",
       "   PE_VALUE  USAGE DAYS     SCORE  \n",
       "0  0.000000      0  [4]  0.632038  \n",
       "1  0.000000      0  [4]  0.631371  \n",
       "2  0.700713     13  [4]  2.211028  "
      ]
     },
     "metadata": {},
     "output_type": "display_data"
    },
    {
     "name": "stdout",
     "output_type": "stream",
     "text": [
      "2024-14\n"
     ]
    },
    {
     "data": {
      "image/png": "[encoded data removed]",
      "text/plain": [
       "<Figure size 640x480 with 1 Axes>"
      ]
     },
     "metadata": {},
     "output_type": "display_data"
    },
    {
     "data": {
      "application/vnd.microsoft.datawrangler.viewer.v0+json": {
       "columns": [
        {
         "name": "index",
         "rawType": "int64",
         "type": "integer"
        },
        {
         "name": "PATIENT_ID",
         "rawType": "int64",
         "type": "integer"
        },
        {
         "name": "PROTOCOL_ID",
         "rawType": "int64",
         "type": "integer"
        },
        {
         "name": "PPF",
         "rawType": "float64",
         "type": "float"
        },
        {
         "name": "CONTRIB",
         "rawType": "object",
         "type": "unknown"
        },
        {
         "name": "ADHERENCE",
         "rawType": "float64",
         "type": "float"
        },
        {
         "name": "DM_VALUE",
         "rawType": "float64",
         "type": "float"
        },
        {
         "name": "PE_VALUE",
         "rawType": "float64",
         "type": "float"
        },
        {
         "name": "USAGE",
         "rawType": "Int64",
         "type": "integer"
        },
        {
         "name": "DAYS",
         "rawType": "object",
         "type": "unknown"
        },
        {
         "name": "SCORE",
         "rawType": "float64",
         "type": "float"
        }
       ],
       "conversionMethod": "pd.DataFrame",
       "ref": "4fe84b90-aa07-4dec-a225-190733643ef2",
       "rows": [
        [
         "38",
         "775",
         "206",
         "0.5286464783448132",
         "[0.01397237 0.13972369 0.         0.06653509 0.09780658 0.01746546\n 0.00931491 0.         0.03881213 0.00529256 0.         0.13972369]",
         "1.0",
         "0.0",
         "0.0",
         "3",
         "[0, 4]",
         "1.5286464783448133"
        ],
        [
         "31",
         "775",
         "214",
         "0.6174114293550534",
         "[0.01490953 0.04969842 0.07454763 0.10649661 0.20873336 0.\n 0.         0.         0.00828307 0.00564755 0.         0.14909526]",
         "1.0",
         "0.4492792608461683",
         "0.5003821017156479",
         "43",
         "[2]",
         "2.066690690201222"
        ],
        [
         "45",
         "775",
         "222",
         "0.632038455346321",
         "[0.0223027  0.07434232 0.05575674 0.07965249 0.15611887 0.\n 0.         0.         0.01239039 0.00844799 0.         0.22302696]",
         "1.0",
         "1.0",
         "0.9534892929017003",
         "56",
         "[0, 4]",
         "2.632038455346321"
        ],
        [
         "46",
         "775",
         "224",
         "0.632038455346321",
         "[0.0223027  0.07434232 0.05575674 0.07965249 0.15611887 0.\n 0.         0.         0.01239039 0.00844799 0.         0.22302696]",
         "1.0",
         "0.7175200615159795",
         "0.9460955457436365",
         "31",
         "[0, 4]",
         "2.3495585168623006"
        ],
        [
         "48",
         "775",
         "227",
         "0.09741856534123819",
         "[0.03404921 0.         0.         0.         0.         0.01418717\n 0.01134974 0.         0.03783245 0.         0.         0.        ]",
         "1.0",
         "0.0",
         "0.0",
         "1",
         "[2]",
         "1.0974185653412383"
        ]
       ],
       "shape": {
        "columns": 10,
        "rows": 5
       }
      },
      "text/html": [
       "<div>\n",
       "<style scoped>\n",
       "    .dataframe tbody tr th:only-of-type {\n",
       "        vertical-align: middle;\n",
       "    }\n",
       "\n",
       "    .dataframe tbody tr th {\n",
       "        vertical-align: top;\n",
       "    }\n",
       "\n",
       "    .dataframe thead th {\n",
       "        text-align: right;\n",
       "    }\n",
       "</style>\n",
       "<table border=\"1\" class=\"dataframe\">\n",
       "  <thead>\n",
       "    <tr style=\"text-align: right;\">\n",
       "      <th></th>\n",
       "      <th>PATIENT_ID</th>\n",
       "      <th>PROTOCOL_ID</th>\n",
       "      <th>PPF</th>\n",
       "      <th>CONTRIB</th>\n",
       "      <th>ADHERENCE</th>\n",
       "      <th>DM_VALUE</th>\n",
       "      <th>PE_VALUE</th>\n",
       "      <th>USAGE</th>\n",
       "      <th>DAYS</th>\n",
       "      <th>SCORE</th>\n",
       "    </tr>\n",
       "  </thead>\n",
       "  <tbody>\n",
       "    <tr>\n",
       "      <th>38</th>\n",
       "      <td>775</td>\n",
       "      <td>206</td>\n",
       "      <td>0.528646</td>\n",
       "      <td>[0.013972368519644753, 0.13972368519644754, 0....</td>\n",
       "      <td>1.0</td>\n",
       "      <td>0.000000</td>\n",
       "      <td>0.000000</td>\n",
       "      <td>3</td>\n",
       "      <td>[0, 4]</td>\n",
       "      <td>1.528646</td>\n",
       "    </tr>\n",
       "    <tr>\n",
       "      <th>31</th>\n",
       "      <td>775</td>\n",
       "      <td>214</td>\n",
       "      <td>0.617411</td>\n",
       "      <td>[0.014909525935815035, 0.04969841978605012, 0....</td>\n",
       "      <td>1.0</td>\n",
       "      <td>0.449279</td>\n",
       "      <td>0.500382</td>\n",
       "      <td>43</td>\n",
       "      <td>[2]</td>\n",
       "      <td>2.066691</td>\n",
       "    </tr>\n",
       "    <tr>\n",
       "      <th>45</th>\n",
       "      <td>775</td>\n",
       "      <td>222</td>\n",
       "      <td>0.632038</td>\n",
       "      <td>[0.022302696143133578, 0.07434232047711194, 0....</td>\n",
       "      <td>1.0</td>\n",
       "      <td>1.000000</td>\n",
       "      <td>0.953489</td>\n",
       "      <td>56</td>\n",
       "      <td>[0, 4]</td>\n",
       "      <td>2.632038</td>\n",
       "    </tr>\n",
       "    <tr>\n",
       "      <th>46</th>\n",
       "      <td>775</td>\n",
       "      <td>224</td>\n",
       "      <td>0.632038</td>\n",
       "      <td>[0.022302696143133578, 0.07434232047711194, 0....</td>\n",
       "      <td>1.0</td>\n",
       "      <td>0.717520</td>\n",
       "      <td>0.946096</td>\n",
       "      <td>31</td>\n",
       "      <td>[0, 4]</td>\n",
       "      <td>2.349559</td>\n",
       "    </tr>\n",
       "    <tr>\n",
       "      <th>48</th>\n",
       "      <td>775</td>\n",
       "      <td>227</td>\n",
       "      <td>0.097419</td>\n",
       "      <td>[0.03404920730373373, 0.0, 0.0, 0.0, 0.0, 0.01...</td>\n",
       "      <td>1.0</td>\n",
       "      <td>0.000000</td>\n",
       "      <td>0.000000</td>\n",
       "      <td>1</td>\n",
       "      <td>[2]</td>\n",
       "      <td>1.097419</td>\n",
       "    </tr>\n",
       "  </tbody>\n",
       "</table>\n",
       "</div>"
      ],
      "text/plain": [
       "    PATIENT_ID  PROTOCOL_ID       PPF  \\\n",
       "38         775          206  0.528646   \n",
       "31         775          214  0.617411   \n",
       "45         775          222  0.632038   \n",
       "46         775          224  0.632038   \n",
       "48         775          227  0.097419   \n",
       "\n",
       "                                              CONTRIB  ADHERENCE  DM_VALUE  \\\n",
       "38  [0.013972368519644753, 0.13972368519644754, 0....        1.0  0.000000   \n",
       "31  [0.014909525935815035, 0.04969841978605012, 0....        1.0  0.449279   \n",
       "45  [0.022302696143133578, 0.07434232047711194, 0....        1.0  1.000000   \n",
       "46  [0.022302696143133578, 0.07434232047711194, 0....        1.0  0.717520   \n",
       "48  [0.03404920730373373, 0.0, 0.0, 0.0, 0.0, 0.01...        1.0  0.000000   \n",
       "\n",
       "    PE_VALUE  USAGE    DAYS     SCORE  \n",
       "38  0.000000      3  [0, 4]  1.528646  \n",
       "31  0.500382     43     [2]  2.066691  \n",
       "45  0.953489     56  [0, 4]  2.632038  \n",
       "46  0.946096     31  [0, 4]  2.349559  \n",
       "48  0.000000      1     [2]  1.097419  "
      ]
     },
     "metadata": {},
     "output_type": "display_data"
    },
    {
     "name": "stdout",
     "output_type": "stream",
     "text": [
      "-----------------\n"
     ]
    },
    {
     "data": {
      "application/vnd.microsoft.datawrangler.viewer.v0+json": {
       "columns": [
        {
         "name": "index",
         "rawType": "int64",
         "type": "integer"
        },
        {
         "name": "PATIENT_ID",
         "rawType": "int64",
         "type": "integer"
        },
        {
         "name": "PROTOCOL_ID",
         "rawType": "int64",
         "type": "integer"
        },
        {
         "name": "PPF",
         "rawType": "float64",
         "type": "float"
        },
        {
         "name": "CONTRIB",
         "rawType": "object",
         "type": "unknown"
        },
        {
         "name": "ADHERENCE",
         "rawType": "float64",
         "type": "float"
        },
        {
         "name": "DM_VALUE",
         "rawType": "float64",
         "type": "float"
        },
        {
         "name": "PE_VALUE",
         "rawType": "float64",
         "type": "float"
        },
        {
         "name": "USAGE",
         "rawType": "int64",
         "type": "integer"
        },
        {
         "name": "DAYS",
         "rawType": "object",
         "type": "unknown"
        },
        {
         "name": "SCORE",
         "rawType": "float64",
         "type": "float"
        }
       ],
       "conversionMethod": "pd.DataFrame",
       "ref": "ef9a81a5-9220-47b4-ad07-e1c5ac546394",
       "rows": [
        [
         "0",
         "775",
         "214",
         "0.6174114293550534",
         "[0.01490953 0.04969842 0.07454763 0.10649661 0.20873336 0.\n 0.         0.         0.00828307 0.00564755 0.         0.14909526]",
         "1.0",
         "0.4492792608461683",
         "0.5003821017156479",
         "43",
         "[2]",
         "2.066690690201222"
        ],
        [
         "1",
         "775",
         "219",
         "0.6313709539339453",
         "[0.01678424 0.16784244 0.04196061 0.05994373 0.11748971 0.01398687\n 0.0111895  0.         0.02797374 0.00635767 0.         0.16784244]",
         "0.0",
         "0.0",
         "0.0",
         "0",
         "[0, 4]",
         "0.6313709539339453"
        ],
        [
         "2",
         "775",
         "222",
         "0.632038455346321",
         "[0.0223027  0.07434232 0.05575674 0.07965249 0.15611887 0.\n 0.         0.         0.01239039 0.00844799 0.         0.22302696]",
         "1.0",
         "1.0",
         "0.9534892929017003",
         "56",
         "[0, 4]",
         "2.632038455346321"
        ],
        [
         "3",
         "775",
         "224",
         "0.632038455346321",
         "[0.0223027  0.07434232 0.05575674 0.07965249 0.15611887 0.\n 0.         0.         0.01239039 0.00844799 0.         0.22302696]",
         "1.0",
         "0.7175200615159795",
         "0.9460955457436365",
         "31",
         "[0, 4]",
         "2.3495585168623006"
        ],
        [
         "4",
         "775",
         "225",
         "0.08465493220420263",
         "[0.04036527 0.         0.         0.         0.         0.00840943\n 0.01345509 0.         0.02242515 0.         0.         0.        ]",
         "0.0",
         "0.0",
         "0.0",
         "0",
         "[2]",
         "0.08465493220420263"
        ]
       ],
       "shape": {
        "columns": 10,
        "rows": 5
       }
      },
      "text/html": [
       "<div>\n",
       "<style scoped>\n",
       "    .dataframe tbody tr th:only-of-type {\n",
       "        vertical-align: middle;\n",
       "    }\n",
       "\n",
       "    .dataframe tbody tr th {\n",
       "        vertical-align: top;\n",
       "    }\n",
       "\n",
       "    .dataframe thead th {\n",
       "        text-align: right;\n",
       "    }\n",
       "</style>\n",
       "<table border=\"1\" class=\"dataframe\">\n",
       "  <thead>\n",
       "    <tr style=\"text-align: right;\">\n",
       "      <th></th>\n",
       "      <th>PATIENT_ID</th>\n",
       "      <th>PROTOCOL_ID</th>\n",
       "      <th>PPF</th>\n",
       "      <th>CONTRIB</th>\n",
       "      <th>ADHERENCE</th>\n",
       "      <th>DM_VALUE</th>\n",
       "      <th>PE_VALUE</th>\n",
       "      <th>USAGE</th>\n",
       "      <th>DAYS</th>\n",
       "      <th>SCORE</th>\n",
       "    </tr>\n",
       "  </thead>\n",
       "  <tbody>\n",
       "    <tr>\n",
       "      <th>0</th>\n",
       "      <td>775</td>\n",
       "      <td>214</td>\n",
       "      <td>0.617411</td>\n",
       "      <td>[0.014909525935815035, 0.04969841978605012, 0....</td>\n",
       "      <td>1.0</td>\n",
       "      <td>0.449279</td>\n",
       "      <td>0.500382</td>\n",
       "      <td>43</td>\n",
       "      <td>[2]</td>\n",
       "      <td>2.066691</td>\n",
       "    </tr>\n",
       "    <tr>\n",
       "      <th>1</th>\n",
       "      <td>775</td>\n",
       "      <td>219</td>\n",
       "      <td>0.631371</td>\n",
       "      <td>[0.016784244244057927, 0.16784244244057928, 0....</td>\n",
       "      <td>0.0</td>\n",
       "      <td>0.000000</td>\n",
       "      <td>0.000000</td>\n",
       "      <td>0</td>\n",
       "      <td>[0, 4]</td>\n",
       "      <td>0.631371</td>\n",
       "    </tr>\n",
       "    <tr>\n",
       "      <th>2</th>\n",
       "      <td>775</td>\n",
       "      <td>222</td>\n",
       "      <td>0.632038</td>\n",
       "      <td>[0.022302696143133578, 0.07434232047711194, 0....</td>\n",
       "      <td>1.0</td>\n",
       "      <td>1.000000</td>\n",
       "      <td>0.953489</td>\n",
       "      <td>56</td>\n",
       "      <td>[0, 4]</td>\n",
       "      <td>2.632038</td>\n",
       "    </tr>\n",
       "    <tr>\n",
       "      <th>3</th>\n",
       "      <td>775</td>\n",
       "      <td>224</td>\n",
       "      <td>0.632038</td>\n",
       "      <td>[0.022302696143133578, 0.07434232047711194, 0....</td>\n",
       "      <td>1.0</td>\n",
       "      <td>0.717520</td>\n",
       "      <td>0.946096</td>\n",
       "      <td>31</td>\n",
       "      <td>[0, 4]</td>\n",
       "      <td>2.349559</td>\n",
       "    </tr>\n",
       "    <tr>\n",
       "      <th>4</th>\n",
       "      <td>775</td>\n",
       "      <td>225</td>\n",
       "      <td>0.084655</td>\n",
       "      <td>[0.040365265686772116, 0.0, 0.0, 0.0, 0.0, 0.0...</td>\n",
       "      <td>0.0</td>\n",
       "      <td>0.000000</td>\n",
       "      <td>0.000000</td>\n",
       "      <td>0</td>\n",
       "      <td>[2]</td>\n",
       "      <td>0.084655</td>\n",
       "    </tr>\n",
       "  </tbody>\n",
       "</table>\n",
       "</div>"
      ],
      "text/plain": [
       "   PATIENT_ID  PROTOCOL_ID       PPF  \\\n",
       "0         775          214  0.617411   \n",
       "1         775          219  0.631371   \n",
       "2         775          222  0.632038   \n",
       "3         775          224  0.632038   \n",
       "4         775          225  0.084655   \n",
       "\n",
       "                                             CONTRIB  ADHERENCE  DM_VALUE  \\\n",
       "0  [0.014909525935815035, 0.04969841978605012, 0....        1.0  0.449279   \n",
       "1  [0.016784244244057927, 0.16784244244057928, 0....        0.0  0.000000   \n",
       "2  [0.022302696143133578, 0.07434232047711194, 0....        1.0  1.000000   \n",
       "3  [0.022302696143133578, 0.07434232047711194, 0....        1.0  0.717520   \n",
       "4  [0.040365265686772116, 0.0, 0.0, 0.0, 0.0, 0.0...        0.0  0.000000   \n",
       "\n",
       "   PE_VALUE  USAGE    DAYS     SCORE  \n",
       "0  0.500382     43     [2]  2.066691  \n",
       "1  0.000000      0  [0, 4]  0.631371  \n",
       "2  0.953489     56  [0, 4]  2.632038  \n",
       "3  0.946096     31  [0, 4]  2.349559  \n",
       "4  0.000000      0     [2]  0.084655  "
      ]
     },
     "metadata": {},
     "output_type": "display_data"
    },
    {
     "name": "stdout",
     "output_type": "stream",
     "text": [
      "2024-15\n"
     ]
    },
    {
     "data": {
      "image/png": "[encoded data removed]",
      "text/plain": [
       "<Figure size 640x480 with 1 Axes>"
      ]
     },
     "metadata": {},
     "output_type": "display_data"
    },
    {
     "data": {
      "application/vnd.microsoft.datawrangler.viewer.v0+json": {
       "columns": [
        {
         "name": "index",
         "rawType": "int64",
         "type": "integer"
        },
        {
         "name": "PATIENT_ID",
         "rawType": "int64",
         "type": "integer"
        },
        {
         "name": "PROTOCOL_ID",
         "rawType": "int64",
         "type": "integer"
        },
        {
         "name": "PPF",
         "rawType": "float64",
         "type": "float"
        },
        {
         "name": "CONTRIB",
         "rawType": "object",
         "type": "unknown"
        },
        {
         "name": "ADHERENCE",
         "rawType": "float64",
         "type": "float"
        },
        {
         "name": "DM_VALUE",
         "rawType": "float64",
         "type": "float"
        },
        {
         "name": "PE_VALUE",
         "rawType": "float64",
         "type": "float"
        },
        {
         "name": "USAGE",
         "rawType": "Int64",
         "type": "integer"
        },
        {
         "name": "DAYS",
         "rawType": "object",
         "type": "unknown"
        },
        {
         "name": "SCORE",
         "rawType": "float64",
         "type": "float"
        }
       ],
       "conversionMethod": "pd.DataFrame",
       "ref": "e47aea5a-c01f-43e9-9180-aac789275301",
       "rows": [
        [
         "38",
         "775",
         "206",
         "0.5286464783448132",
         "[0.01397237 0.13972369 0.         0.06653509 0.09780658 0.01746546\n 0.00931491 0.         0.03881213 0.00529256 0.         0.13972369]",
         "1.0",
         "0.04719579464565007",
         "0.2721349497600537",
         "20",
         "[0, 4]",
         "1.5758422729904633"
        ],
        [
         "31",
         "775",
         "214",
         "0.6174114293550534",
         "[0.01490953 0.04969842 0.07454763 0.10649661 0.20873336 0.\n 0.         0.         0.00828307 0.00564755 0.         0.14909526]",
         "1.0",
         "0.4492792608461683",
         "0.5003821017156479",
         "43",
         "[2]",
         "2.066690690201222"
        ],
        [
         "45",
         "775",
         "222",
         "0.632038455346321",
         "[0.0223027  0.07434232 0.05575674 0.07965249 0.15611887 0.\n 0.         0.         0.01239039 0.00844799 0.         0.22302696]",
         "1.0",
         "1.0",
         "0.9999999990659701",
         "90",
         "[0, 4]",
         "2.632038455346321"
        ],
        [
         "46",
         "775",
         "224",
         "0.632038455346321",
         "[0.0223027  0.07434232 0.05575674 0.07965249 0.15611887 0.\n 0.         0.         0.01239039 0.00844799 0.         0.22302696]",
         "1.0",
         "0.4727931254797033",
         "0.5138757464495498",
         "38",
         "[0, 4]",
         "2.1048315808260245"
        ],
        [
         "48",
         "775",
         "227",
         "0.09741856534123819",
         "[0.03404921 0.         0.         0.         0.         0.01418717\n 0.01134974 0.         0.03783245 0.         0.         0.        ]",
         "1.0",
         "0.0",
         "0.0",
         "1",
         "[2]",
         "1.0974185653412383"
        ]
       ],
       "shape": {
        "columns": 10,
        "rows": 5
       }
      },
      "text/html": [
       "<div>\n",
       "<style scoped>\n",
       "    .dataframe tbody tr th:only-of-type {\n",
       "        vertical-align: middle;\n",
       "    }\n",
       "\n",
       "    .dataframe tbody tr th {\n",
       "        vertical-align: top;\n",
       "    }\n",
       "\n",
       "    .dataframe thead th {\n",
       "        text-align: right;\n",
       "    }\n",
       "</style>\n",
       "<table border=\"1\" class=\"dataframe\">\n",
       "  <thead>\n",
       "    <tr style=\"text-align: right;\">\n",
       "      <th></th>\n",
       "      <th>PATIENT_ID</th>\n",
       "      <th>PROTOCOL_ID</th>\n",
       "      <th>PPF</th>\n",
       "      <th>CONTRIB</th>\n",
       "      <th>ADHERENCE</th>\n",
       "      <th>DM_VALUE</th>\n",
       "      <th>PE_VALUE</th>\n",
       "      <th>USAGE</th>\n",
       "      <th>DAYS</th>\n",
       "      <th>SCORE</th>\n",
       "    </tr>\n",
       "  </thead>\n",
       "  <tbody>\n",
       "    <tr>\n",
       "      <th>38</th>\n",
       "      <td>775</td>\n",
       "      <td>206</td>\n",
       "      <td>0.528646</td>\n",
       "      <td>[0.013972368519644753, 0.13972368519644754, 0....</td>\n",
       "      <td>1.0</td>\n",
       "      <td>0.047196</td>\n",
       "      <td>0.272135</td>\n",
       "      <td>20</td>\n",
       "      <td>[0, 4]</td>\n",
       "      <td>1.575842</td>\n",
       "    </tr>\n",
       "    <tr>\n",
       "      <th>31</th>\n",
       "      <td>775</td>\n",
       "      <td>214</td>\n",
       "      <td>0.617411</td>\n",
       "      <td>[0.014909525935815035, 0.04969841978605012, 0....</td>\n",
       "      <td>1.0</td>\n",
       "      <td>0.449279</td>\n",
       "      <td>0.500382</td>\n",
       "      <td>43</td>\n",
       "      <td>[2]</td>\n",
       "      <td>2.066691</td>\n",
       "    </tr>\n",
       "    <tr>\n",
       "      <th>45</th>\n",
       "      <td>775</td>\n",
       "      <td>222</td>\n",
       "      <td>0.632038</td>\n",
       "      <td>[0.022302696143133578, 0.07434232047711194, 0....</td>\n",
       "      <td>1.0</td>\n",
       "      <td>1.000000</td>\n",
       "      <td>1.000000</td>\n",
       "      <td>90</td>\n",
       "      <td>[0, 4]</td>\n",
       "      <td>2.632038</td>\n",
       "    </tr>\n",
       "    <tr>\n",
       "      <th>46</th>\n",
       "      <td>775</td>\n",
       "      <td>224</td>\n",
       "      <td>0.632038</td>\n",
       "      <td>[0.022302696143133578, 0.07434232047711194, 0....</td>\n",
       "      <td>1.0</td>\n",
       "      <td>0.472793</td>\n",
       "      <td>0.513876</td>\n",
       "      <td>38</td>\n",
       "      <td>[0, 4]</td>\n",
       "      <td>2.104832</td>\n",
       "    </tr>\n",
       "    <tr>\n",
       "      <th>48</th>\n",
       "      <td>775</td>\n",
       "      <td>227</td>\n",
       "      <td>0.097419</td>\n",
       "      <td>[0.03404920730373373, 0.0, 0.0, 0.0, 0.0, 0.01...</td>\n",
       "      <td>1.0</td>\n",
       "      <td>0.000000</td>\n",
       "      <td>0.000000</td>\n",
       "      <td>1</td>\n",
       "      <td>[2]</td>\n",
       "      <td>1.097419</td>\n",
       "    </tr>\n",
       "  </tbody>\n",
       "</table>\n",
       "</div>"
      ],
      "text/plain": [
       "    PATIENT_ID  PROTOCOL_ID       PPF  \\\n",
       "38         775          206  0.528646   \n",
       "31         775          214  0.617411   \n",
       "45         775          222  0.632038   \n",
       "46         775          224  0.632038   \n",
       "48         775          227  0.097419   \n",
       "\n",
       "                                              CONTRIB  ADHERENCE  DM_VALUE  \\\n",
       "38  [0.013972368519644753, 0.13972368519644754, 0....        1.0  0.047196   \n",
       "31  [0.014909525935815035, 0.04969841978605012, 0....        1.0  0.449279   \n",
       "45  [0.022302696143133578, 0.07434232047711194, 0....        1.0  1.000000   \n",
       "46  [0.022302696143133578, 0.07434232047711194, 0....        1.0  0.472793   \n",
       "48  [0.03404920730373373, 0.0, 0.0, 0.0, 0.0, 0.01...        1.0  0.000000   \n",
       "\n",
       "    PE_VALUE  USAGE    DAYS     SCORE  \n",
       "38  0.272135     20  [0, 4]  1.575842  \n",
       "31  0.500382     43     [2]  2.066691  \n",
       "45  1.000000     90  [0, 4]  2.632038  \n",
       "46  0.513876     38  [0, 4]  2.104832  \n",
       "48  0.000000      1     [2]  1.097419  "
      ]
     },
     "metadata": {},
     "output_type": "display_data"
    },
    {
     "name": "stdout",
     "output_type": "stream",
     "text": [
      "-----------------\n"
     ]
    },
    {
     "data": {
      "application/vnd.microsoft.datawrangler.viewer.v0+json": {
       "columns": [
        {
         "name": "index",
         "rawType": "int64",
         "type": "integer"
        },
        {
         "name": "PATIENT_ID",
         "rawType": "int64",
         "type": "integer"
        },
        {
         "name": "PROTOCOL_ID",
         "rawType": "int64",
         "type": "integer"
        },
        {
         "name": "PPF",
         "rawType": "float64",
         "type": "float"
        },
        {
         "name": "CONTRIB",
         "rawType": "object",
         "type": "unknown"
        },
        {
         "name": "ADHERENCE",
         "rawType": "float64",
         "type": "float"
        },
        {
         "name": "DM_VALUE",
         "rawType": "float64",
         "type": "float"
        },
        {
         "name": "PE_VALUE",
         "rawType": "float64",
         "type": "float"
        },
        {
         "name": "USAGE",
         "rawType": "int64",
         "type": "integer"
        },
        {
         "name": "DAYS",
         "rawType": "object",
         "type": "unknown"
        },
        {
         "name": "SCORE",
         "rawType": "float64",
         "type": "float"
        }
       ],
       "conversionMethod": "pd.DataFrame",
       "ref": "6ca5ebe8-4803-4236-93d6-1623a40af7cb",
       "rows": [
        [
         "0",
         "775",
         "214",
         "0.6174114293550534",
         "[0.01490953 0.04969842 0.07454763 0.10649661 0.20873336 0.\n 0.         0.         0.00828307 0.00564755 0.         0.14909526]",
         "1.0",
         "0.4492792608461683",
         "0.5003821017156479",
         "43",
         "[2]",
         "2.066690690201222"
        ],
        [
         "1",
         "775",
         "219",
         "0.6313709539339453",
         "[0.01678424 0.16784244 0.04196061 0.05994373 0.11748971 0.01398687\n 0.0111895  0.         0.02797374 0.00635767 0.         0.16784244]",
         "0.0",
         "0.0",
         "0.0",
         "0",
         "[0, 4]",
         "0.6313709539339453"
        ],
        [
         "2",
         "775",
         "222",
         "0.632038455346321",
         "[0.0223027  0.07434232 0.05575674 0.07965249 0.15611887 0.\n 0.         0.         0.01239039 0.00844799 0.         0.22302696]",
         "1.0",
         "1.0",
         "0.9999999990659701",
         "90",
         "[0, 4]",
         "2.632038455346321"
        ],
        [
         "3",
         "775",
         "224",
         "0.632038455346321",
         "[0.0223027  0.07434232 0.05575674 0.07965249 0.15611887 0.\n 0.         0.         0.01239039 0.00844799 0.         0.22302696]",
         "1.0",
         "0.4727931254797033",
         "0.5138757464495498",
         "38",
         "[0, 4]",
         "2.1048315808260245"
        ],
        [
         "4",
         "775",
         "225",
         "0.08465493220420263",
         "[0.04036527 0.         0.         0.         0.         0.00840943\n 0.01345509 0.         0.02242515 0.         0.         0.        ]",
         "0.0",
         "0.0",
         "0.0",
         "0",
         "[2]",
         "0.08465493220420263"
        ]
       ],
       "shape": {
        "columns": 10,
        "rows": 5
       }
      },
      "text/html": [
       "<div>\n",
       "<style scoped>\n",
       "    .dataframe tbody tr th:only-of-type {\n",
       "        vertical-align: middle;\n",
       "    }\n",
       "\n",
       "    .dataframe tbody tr th {\n",
       "        vertical-align: top;\n",
       "    }\n",
       "\n",
       "    .dataframe thead th {\n",
       "        text-align: right;\n",
       "    }\n",
       "</style>\n",
       "<table border=\"1\" class=\"dataframe\">\n",
       "  <thead>\n",
       "    <tr style=\"text-align: right;\">\n",
       "      <th></th>\n",
       "      <th>PATIENT_ID</th>\n",
       "      <th>PROTOCOL_ID</th>\n",
       "      <th>PPF</th>\n",
       "      <th>CONTRIB</th>\n",
       "      <th>ADHERENCE</th>\n",
       "      <th>DM_VALUE</th>\n",
       "      <th>PE_VALUE</th>\n",
       "      <th>USAGE</th>\n",
       "      <th>DAYS</th>\n",
       "      <th>SCORE</th>\n",
       "    </tr>\n",
       "  </thead>\n",
       "  <tbody>\n",
       "    <tr>\n",
       "      <th>0</th>\n",
       "      <td>775</td>\n",
       "      <td>214</td>\n",
       "      <td>0.617411</td>\n",
       "      <td>[0.014909525935815035, 0.04969841978605012, 0....</td>\n",
       "      <td>1.0</td>\n",
       "      <td>0.449279</td>\n",
       "      <td>0.500382</td>\n",
       "      <td>43</td>\n",
       "      <td>[2]</td>\n",
       "      <td>2.066691</td>\n",
       "    </tr>\n",
       "    <tr>\n",
       "      <th>1</th>\n",
       "      <td>775</td>\n",
       "      <td>219</td>\n",
       "      <td>0.631371</td>\n",
       "      <td>[0.016784244244057927, 0.16784244244057928, 0....</td>\n",
       "      <td>0.0</td>\n",
       "      <td>0.000000</td>\n",
       "      <td>0.000000</td>\n",
       "      <td>0</td>\n",
       "      <td>[0, 4]</td>\n",
       "      <td>0.631371</td>\n",
       "    </tr>\n",
       "    <tr>\n",
       "      <th>2</th>\n",
       "      <td>775</td>\n",
       "      <td>222</td>\n",
       "      <td>0.632038</td>\n",
       "      <td>[0.022302696143133578, 0.07434232047711194, 0....</td>\n",
       "      <td>1.0</td>\n",
       "      <td>1.000000</td>\n",
       "      <td>1.000000</td>\n",
       "      <td>90</td>\n",
       "      <td>[0, 4]</td>\n",
       "      <td>2.632038</td>\n",
       "    </tr>\n",
       "    <tr>\n",
       "      <th>3</th>\n",
       "      <td>775</td>\n",
       "      <td>224</td>\n",
       "      <td>0.632038</td>\n",
       "      <td>[0.022302696143133578, 0.07434232047711194, 0....</td>\n",
       "      <td>1.0</td>\n",
       "      <td>0.472793</td>\n",
       "      <td>0.513876</td>\n",
       "      <td>38</td>\n",
       "      <td>[0, 4]</td>\n",
       "      <td>2.104832</td>\n",
       "    </tr>\n",
       "    <tr>\n",
       "      <th>4</th>\n",
       "      <td>775</td>\n",
       "      <td>225</td>\n",
       "      <td>0.084655</td>\n",
       "      <td>[0.040365265686772116, 0.0, 0.0, 0.0, 0.0, 0.0...</td>\n",
       "      <td>0.0</td>\n",
       "      <td>0.000000</td>\n",
       "      <td>0.000000</td>\n",
       "      <td>0</td>\n",
       "      <td>[2]</td>\n",
       "      <td>0.084655</td>\n",
       "    </tr>\n",
       "  </tbody>\n",
       "</table>\n",
       "</div>"
      ],
      "text/plain": [
       "   PATIENT_ID  PROTOCOL_ID       PPF  \\\n",
       "0         775          214  0.617411   \n",
       "1         775          219  0.631371   \n",
       "2         775          222  0.632038   \n",
       "3         775          224  0.632038   \n",
       "4         775          225  0.084655   \n",
       "\n",
       "                                             CONTRIB  ADHERENCE  DM_VALUE  \\\n",
       "0  [0.014909525935815035, 0.04969841978605012, 0....        1.0  0.449279   \n",
       "1  [0.016784244244057927, 0.16784244244057928, 0....        0.0  0.000000   \n",
       "2  [0.022302696143133578, 0.07434232047711194, 0....        1.0  1.000000   \n",
       "3  [0.022302696143133578, 0.07434232047711194, 0....        1.0  0.472793   \n",
       "4  [0.040365265686772116, 0.0, 0.0, 0.0, 0.0, 0.0...        0.0  0.000000   \n",
       "\n",
       "   PE_VALUE  USAGE    DAYS     SCORE  \n",
       "0  0.500382     43     [2]  2.066691  \n",
       "1  0.000000      0  [0, 4]  0.631371  \n",
       "2  1.000000     90  [0, 4]  2.632038  \n",
       "3  0.513876     38  [0, 4]  2.104832  \n",
       "4  0.000000      0     [2]  0.084655  "
      ]
     },
     "metadata": {},
     "output_type": "display_data"
    },
    {
     "name": "stdout",
     "output_type": "stream",
     "text": [
      "2024-16\n"
     ]
    },
    {
     "data": {
      "image/png": "[encoded data removed]",
      "text/plain": [
       "<Figure size 640x480 with 1 Axes>"
      ]
     },
     "metadata": {},
     "output_type": "display_data"
    },
    {
     "data": {
      "application/vnd.microsoft.datawrangler.viewer.v0+json": {
       "columns": [
        {
         "name": "index",
         "rawType": "int64",
         "type": "integer"
        },
        {
         "name": "PATIENT_ID",
         "rawType": "int64",
         "type": "integer"
        },
        {
         "name": "PROTOCOL_ID",
         "rawType": "int64",
         "type": "integer"
        },
        {
         "name": "PPF",
         "rawType": "float64",
         "type": "float"
        },
        {
         "name": "CONTRIB",
         "rawType": "object",
         "type": "unknown"
        },
        {
         "name": "ADHERENCE",
         "rawType": "float64",
         "type": "float"
        },
        {
         "name": "DM_VALUE",
         "rawType": "float64",
         "type": "float"
        },
        {
         "name": "PE_VALUE",
         "rawType": "float64",
         "type": "float"
        },
        {
         "name": "USAGE",
         "rawType": "Int64",
         "type": "integer"
        },
        {
         "name": "DAYS",
         "rawType": "object",
         "type": "unknown"
        },
        {
         "name": "SCORE",
         "rawType": "float64",
         "type": "float"
        }
       ],
       "conversionMethod": "pd.DataFrame",
       "ref": "701bf95b-5867-456a-936a-04cb66e9f574",
       "rows": [
        [
         "38",
         "775",
         "206",
         "0.5286464783448132",
         "[0.01397237 0.13972369 0.         0.06653509 0.09780658 0.01746546\n 0.00931491 0.         0.03881213 0.00529256 0.         0.13972369]",
         "1.0",
         "0.903402539204528",
         "0.9888169031016608",
         "34",
         "[0, 4]",
         "2.432049017549341"
        ],
        [
         "33",
         "775",
         "208",
         "0.48466451620689727",
         "[0.02088597 0.1392398  0.05221493 0.07459275 0.14620179 0.01740498\n 0.00696199 0.         0.02320663 0.00395568 0.         0.        ]",
         "1.0",
         "0.6858364663754338",
         "0.6185837433535303",
         "30",
         "[4]",
         "2.170500982582331"
        ],
        [
         "31",
         "775",
         "214",
         "0.6174114293550534",
         "[0.01490953 0.04969842 0.07454763 0.10649661 0.20873336 0.\n 0.         0.         0.00828307 0.00564755 0.         0.14909526]",
         "1.0",
         "0.9496400958712492",
         "0.6867182415460924",
         "77",
         "[2]",
         "2.5670515252263026"
        ],
        [
         "45",
         "775",
         "222",
         "0.632038455346321",
         "[0.0223027  0.07434232 0.05575674 0.07965249 0.15611887 0.\n 0.         0.         0.01239039 0.00844799 0.         0.22302696]",
         "0.7714285714285715",
         "0.9998046875",
         "0.8727205829843878",
         "123",
         "[0, 4]",
         "2.4032717142748927"
        ],
        [
         "46",
         "775",
         "224",
         "0.632038455346321",
         "[0.0223027  0.07434232 0.05575674 0.07965249 0.15611887 0.\n 0.         0.         0.01239039 0.00844799 0.         0.22302696]",
         "1.0",
         "0.6416859341433009",
         "0.8197040408918216",
         "49",
         "[0, 4]",
         "2.2737243894896215"
        ],
        [
         "48",
         "775",
         "227",
         "0.09741856534123819",
         "[0.03404921 0.         0.         0.         0.         0.01418717\n 0.01134974 0.         0.03783245 0.         0.         0.        ]",
         "1.0",
         "0.0",
         "0.0",
         "2",
         "[2]",
         "1.0974185653412383"
        ]
       ],
       "shape": {
        "columns": 10,
        "rows": 6
       }
      },
      "text/html": [
       "<div>\n",
       "<style scoped>\n",
       "    .dataframe tbody tr th:only-of-type {\n",
       "        vertical-align: middle;\n",
       "    }\n",
       "\n",
       "    .dataframe tbody tr th {\n",
       "        vertical-align: top;\n",
       "    }\n",
       "\n",
       "    .dataframe thead th {\n",
       "        text-align: right;\n",
       "    }\n",
       "</style>\n",
       "<table border=\"1\" class=\"dataframe\">\n",
       "  <thead>\n",
       "    <tr style=\"text-align: right;\">\n",
       "      <th></th>\n",
       "      <th>PATIENT_ID</th>\n",
       "      <th>PROTOCOL_ID</th>\n",
       "      <th>PPF</th>\n",
       "      <th>CONTRIB</th>\n",
       "      <th>ADHERENCE</th>\n",
       "      <th>DM_VALUE</th>\n",
       "      <th>PE_VALUE</th>\n",
       "      <th>USAGE</th>\n",
       "      <th>DAYS</th>\n",
       "      <th>SCORE</th>\n",
       "    </tr>\n",
       "  </thead>\n",
       "  <tbody>\n",
       "    <tr>\n",
       "      <th>38</th>\n",
       "      <td>775</td>\n",
       "      <td>206</td>\n",
       "      <td>0.528646</td>\n",
       "      <td>[0.013972368519644753, 0.13972368519644754, 0....</td>\n",
       "      <td>1.000000</td>\n",
       "      <td>0.903403</td>\n",
       "      <td>0.988817</td>\n",
       "      <td>34</td>\n",
       "      <td>[0, 4]</td>\n",
       "      <td>2.432049</td>\n",
       "    </tr>\n",
       "    <tr>\n",
       "      <th>33</th>\n",
       "      <td>775</td>\n",
       "      <td>208</td>\n",
       "      <td>0.484665</td>\n",
       "      <td>[0.02088597029033065, 0.13923980193553767, 0.0...</td>\n",
       "      <td>1.000000</td>\n",
       "      <td>0.685836</td>\n",
       "      <td>0.618584</td>\n",
       "      <td>30</td>\n",
       "      <td>[4]</td>\n",
       "      <td>2.170501</td>\n",
       "    </tr>\n",
       "    <tr>\n",
       "      <th>31</th>\n",
       "      <td>775</td>\n",
       "      <td>214</td>\n",
       "      <td>0.617411</td>\n",
       "      <td>[0.014909525935815035, 0.04969841978605012, 0....</td>\n",
       "      <td>1.000000</td>\n",
       "      <td>0.949640</td>\n",
       "      <td>0.686718</td>\n",
       "      <td>77</td>\n",
       "      <td>[2]</td>\n",
       "      <td>2.567052</td>\n",
       "    </tr>\n",
       "    <tr>\n",
       "      <th>45</th>\n",
       "      <td>775</td>\n",
       "      <td>222</td>\n",
       "      <td>0.632038</td>\n",
       "      <td>[0.022302696143133578, 0.07434232047711194, 0....</td>\n",
       "      <td>0.771429</td>\n",
       "      <td>0.999805</td>\n",
       "      <td>0.872721</td>\n",
       "      <td>123</td>\n",
       "      <td>[0, 4]</td>\n",
       "      <td>2.403272</td>\n",
       "    </tr>\n",
       "    <tr>\n",
       "      <th>46</th>\n",
       "      <td>775</td>\n",
       "      <td>224</td>\n",
       "      <td>0.632038</td>\n",
       "      <td>[0.022302696143133578, 0.07434232047711194, 0....</td>\n",
       "      <td>1.000000</td>\n",
       "      <td>0.641686</td>\n",
       "      <td>0.819704</td>\n",
       "      <td>49</td>\n",
       "      <td>[0, 4]</td>\n",
       "      <td>2.273724</td>\n",
       "    </tr>\n",
       "    <tr>\n",
       "      <th>48</th>\n",
       "      <td>775</td>\n",
       "      <td>227</td>\n",
       "      <td>0.097419</td>\n",
       "      <td>[0.03404920730373373, 0.0, 0.0, 0.0, 0.0, 0.01...</td>\n",
       "      <td>1.000000</td>\n",
       "      <td>0.000000</td>\n",
       "      <td>0.000000</td>\n",
       "      <td>2</td>\n",
       "      <td>[2]</td>\n",
       "      <td>1.097419</td>\n",
       "    </tr>\n",
       "  </tbody>\n",
       "</table>\n",
       "</div>"
      ],
      "text/plain": [
       "    PATIENT_ID  PROTOCOL_ID       PPF  \\\n",
       "38         775          206  0.528646   \n",
       "33         775          208  0.484665   \n",
       "31         775          214  0.617411   \n",
       "45         775          222  0.632038   \n",
       "46         775          224  0.632038   \n",
       "48         775          227  0.097419   \n",
       "\n",
       "                                              CONTRIB  ADHERENCE  DM_VALUE  \\\n",
       "38  [0.013972368519644753, 0.13972368519644754, 0....   1.000000  0.903403   \n",
       "33  [0.02088597029033065, 0.13923980193553767, 0.0...   1.000000  0.685836   \n",
       "31  [0.014909525935815035, 0.04969841978605012, 0....   1.000000  0.949640   \n",
       "45  [0.022302696143133578, 0.07434232047711194, 0....   0.771429  0.999805   \n",
       "46  [0.022302696143133578, 0.07434232047711194, 0....   1.000000  0.641686   \n",
       "48  [0.03404920730373373, 0.0, 0.0, 0.0, 0.0, 0.01...   1.000000  0.000000   \n",
       "\n",
       "    PE_VALUE  USAGE    DAYS     SCORE  \n",
       "38  0.988817     34  [0, 4]  2.432049  \n",
       "33  0.618584     30     [4]  2.170501  \n",
       "31  0.686718     77     [2]  2.567052  \n",
       "45  0.872721    123  [0, 4]  2.403272  \n",
       "46  0.819704     49  [0, 4]  2.273724  \n",
       "48  0.000000      2     [2]  1.097419  "
      ]
     },
     "metadata": {},
     "output_type": "display_data"
    },
    {
     "name": "stdout",
     "output_type": "stream",
     "text": [
      "-----------------\n"
     ]
    },
    {
     "data": {
      "application/vnd.microsoft.datawrangler.viewer.v0+json": {
       "columns": [
        {
         "name": "index",
         "rawType": "int64",
         "type": "integer"
        },
        {
         "name": "PATIENT_ID",
         "rawType": "int64",
         "type": "integer"
        },
        {
         "name": "PROTOCOL_ID",
         "rawType": "int64",
         "type": "integer"
        },
        {
         "name": "PPF",
         "rawType": "float64",
         "type": "float"
        },
        {
         "name": "CONTRIB",
         "rawType": "object",
         "type": "unknown"
        },
        {
         "name": "ADHERENCE",
         "rawType": "float64",
         "type": "float"
        },
        {
         "name": "DM_VALUE",
         "rawType": "float64",
         "type": "float"
        },
        {
         "name": "PE_VALUE",
         "rawType": "float64",
         "type": "float"
        },
        {
         "name": "USAGE",
         "rawType": "int64",
         "type": "integer"
        },
        {
         "name": "DAYS",
         "rawType": "object",
         "type": "unknown"
        },
        {
         "name": "SCORE",
         "rawType": "float64",
         "type": "float"
        }
       ],
       "conversionMethod": "pd.DataFrame",
       "ref": "18d98877-1e20-4f27-b970-e5dcdc3befb0",
       "rows": [
        [
         "0",
         "775",
         "206",
         "0.5286464783448132",
         "[0.01397237 0.13972369 0.         0.06653509 0.09780658 0.01746546\n 0.00931491 0.         0.03881213 0.00529256 0.         0.13972369]",
         "1.0",
         "0.903402539204528",
         "0.9888169031016608",
         "34",
         "[0, 4]",
         "2.432049017549341"
        ],
        [
         "1",
         "775",
         "208",
         "0.48466451620689727",
         "[0.02088597 0.1392398  0.05221493 0.07459275 0.14620179 0.01740498\n 0.00696199 0.         0.02320663 0.00395568 0.         0.        ]",
         "1.0",
         "0.6858364663754338",
         "0.6185837433535303",
         "30",
         "[4]",
         "2.170500982582331"
        ],
        [
         "2",
         "775",
         "214",
         "0.6174114293550534",
         "[0.01490953 0.04969842 0.07454763 0.10649661 0.20873336 0.\n 0.         0.         0.00828307 0.00564755 0.         0.14909526]",
         "1.0",
         "0.9496400958712492",
         "0.6867182415460924",
         "77",
         "[2]",
         "2.5670515252263026"
        ],
        [
         "3",
         "775",
         "222",
         "0.632038455346321",
         "[0.0223027  0.07434232 0.05575674 0.07965249 0.15611887 0.\n 0.         0.         0.01239039 0.00844799 0.         0.22302696]",
         "0.7714285714285715",
         "0.9998046875",
         "0.8727205829843878",
         "123",
         "[0, 4]",
         "2.4032717142748927"
        ],
        [
         "4",
         "775",
         "224",
         "0.632038455346321",
         "[0.0223027  0.07434232 0.05575674 0.07965249 0.15611887 0.\n 0.         0.         0.01239039 0.00844799 0.         0.22302696]",
         "1.0",
         "0.6416859341433009",
         "0.8197040408918216",
         "49",
         "[0, 4]",
         "2.2737243894896215"
        ],
        [
         "5",
         "775",
         "225",
         "0.08465493220420263",
         "[0.04036527 0.         0.         0.         0.         0.00840943\n 0.01345509 0.         0.02242515 0.         0.         0.        ]",
         "0.0",
         "0.0",
         "0.0",
         "0",
         "[2]",
         "0.08465493220420263"
        ]
       ],
       "shape": {
        "columns": 10,
        "rows": 6
       }
      },
      "text/html": [
       "<div>\n",
       "<style scoped>\n",
       "    .dataframe tbody tr th:only-of-type {\n",
       "        vertical-align: middle;\n",
       "    }\n",
       "\n",
       "    .dataframe tbody tr th {\n",
       "        vertical-align: top;\n",
       "    }\n",
       "\n",
       "    .dataframe thead th {\n",
       "        text-align: right;\n",
       "    }\n",
       "</style>\n",
       "<table border=\"1\" class=\"dataframe\">\n",
       "  <thead>\n",
       "    <tr style=\"text-align: right;\">\n",
       "      <th></th>\n",
       "      <th>PATIENT_ID</th>\n",
       "      <th>PROTOCOL_ID</th>\n",
       "      <th>PPF</th>\n",
       "      <th>CONTRIB</th>\n",
       "      <th>ADHERENCE</th>\n",
       "      <th>DM_VALUE</th>\n",
       "      <th>PE_VALUE</th>\n",
       "      <th>USAGE</th>\n",
       "      <th>DAYS</th>\n",
       "      <th>SCORE</th>\n",
       "    </tr>\n",
       "  </thead>\n",
       "  <tbody>\n",
       "    <tr>\n",
       "      <th>0</th>\n",
       "      <td>775</td>\n",
       "      <td>206</td>\n",
       "      <td>0.528646</td>\n",
       "      <td>[0.013972368519644753, 0.13972368519644754, 0....</td>\n",
       "      <td>1.000000</td>\n",
       "      <td>0.903403</td>\n",
       "      <td>0.988817</td>\n",
       "      <td>34</td>\n",
       "      <td>[0, 4]</td>\n",
       "      <td>2.432049</td>\n",
       "    </tr>\n",
       "    <tr>\n",
       "      <th>1</th>\n",
       "      <td>775</td>\n",
       "      <td>208</td>\n",
       "      <td>0.484665</td>\n",
       "      <td>[0.02088597029033065, 0.13923980193553767, 0.0...</td>\n",
       "      <td>1.000000</td>\n",
       "      <td>0.685836</td>\n",
       "      <td>0.618584</td>\n",
       "      <td>30</td>\n",
       "      <td>[4]</td>\n",
       "      <td>2.170501</td>\n",
       "    </tr>\n",
       "    <tr>\n",
       "      <th>2</th>\n",
       "      <td>775</td>\n",
       "      <td>214</td>\n",
       "      <td>0.617411</td>\n",
       "      <td>[0.014909525935815035, 0.04969841978605012, 0....</td>\n",
       "      <td>1.000000</td>\n",
       "      <td>0.949640</td>\n",
       "      <td>0.686718</td>\n",
       "      <td>77</td>\n",
       "      <td>[2]</td>\n",
       "      <td>2.567052</td>\n",
       "    </tr>\n",
       "    <tr>\n",
       "      <th>3</th>\n",
       "      <td>775</td>\n",
       "      <td>222</td>\n",
       "      <td>0.632038</td>\n",
       "      <td>[0.022302696143133578, 0.07434232047711194, 0....</td>\n",
       "      <td>0.771429</td>\n",
       "      <td>0.999805</td>\n",
       "      <td>0.872721</td>\n",
       "      <td>123</td>\n",
       "      <td>[0, 4]</td>\n",
       "      <td>2.403272</td>\n",
       "    </tr>\n",
       "    <tr>\n",
       "      <th>4</th>\n",
       "      <td>775</td>\n",
       "      <td>224</td>\n",
       "      <td>0.632038</td>\n",
       "      <td>[0.022302696143133578, 0.07434232047711194, 0....</td>\n",
       "      <td>1.000000</td>\n",
       "      <td>0.641686</td>\n",
       "      <td>0.819704</td>\n",
       "      <td>49</td>\n",
       "      <td>[0, 4]</td>\n",
       "      <td>2.273724</td>\n",
       "    </tr>\n",
       "    <tr>\n",
       "      <th>5</th>\n",
       "      <td>775</td>\n",
       "      <td>225</td>\n",
       "      <td>0.084655</td>\n",
       "      <td>[0.040365265686772116, 0.0, 0.0, 0.0, 0.0, 0.0...</td>\n",
       "      <td>0.000000</td>\n",
       "      <td>0.000000</td>\n",
       "      <td>0.000000</td>\n",
       "      <td>0</td>\n",
       "      <td>[2]</td>\n",
       "      <td>0.084655</td>\n",
       "    </tr>\n",
       "  </tbody>\n",
       "</table>\n",
       "</div>"
      ],
      "text/plain": [
       "   PATIENT_ID  PROTOCOL_ID       PPF  \\\n",
       "0         775          206  0.528646   \n",
       "1         775          208  0.484665   \n",
       "2         775          214  0.617411   \n",
       "3         775          222  0.632038   \n",
       "4         775          224  0.632038   \n",
       "5         775          225  0.084655   \n",
       "\n",
       "                                             CONTRIB  ADHERENCE  DM_VALUE  \\\n",
       "0  [0.013972368519644753, 0.13972368519644754, 0....   1.000000  0.903403   \n",
       "1  [0.02088597029033065, 0.13923980193553767, 0.0...   1.000000  0.685836   \n",
       "2  [0.014909525935815035, 0.04969841978605012, 0....   1.000000  0.949640   \n",
       "3  [0.022302696143133578, 0.07434232047711194, 0....   0.771429  0.999805   \n",
       "4  [0.022302696143133578, 0.07434232047711194, 0....   1.000000  0.641686   \n",
       "5  [0.040365265686772116, 0.0, 0.0, 0.0, 0.0, 0.0...   0.000000  0.000000   \n",
       "\n",
       "   PE_VALUE  USAGE    DAYS     SCORE  \n",
       "0  0.988817     34  [0, 4]  2.432049  \n",
       "1  0.618584     30     [4]  2.170501  \n",
       "2  0.686718     77     [2]  2.567052  \n",
       "3  0.872721    123  [0, 4]  2.403272  \n",
       "4  0.819704     49  [0, 4]  2.273724  \n",
       "5  0.000000      0     [2]  0.084655  "
      ]
     },
     "metadata": {},
     "output_type": "display_data"
    },
    {
     "name": "stdout",
     "output_type": "stream",
     "text": [
      "2024-17\n"
     ]
    },
    {
     "data": {
      "image/png": "[encoded data removed]",
      "text/plain": [
       "<Figure size 640x480 with 1 Axes>"
      ]
     },
     "metadata": {},
     "output_type": "display_data"
    },
    {
     "data": {
      "application/vnd.microsoft.datawrangler.viewer.v0+json": {
       "columns": [
        {
         "name": "index",
         "rawType": "int64",
         "type": "integer"
        },
        {
         "name": "PATIENT_ID",
         "rawType": "int64",
         "type": "integer"
        },
        {
         "name": "PROTOCOL_ID",
         "rawType": "int64",
         "type": "integer"
        },
        {
         "name": "PPF",
         "rawType": "float64",
         "type": "float"
        },
        {
         "name": "CONTRIB",
         "rawType": "object",
         "type": "unknown"
        },
        {
         "name": "ADHERENCE",
         "rawType": "float64",
         "type": "float"
        },
        {
         "name": "DM_VALUE",
         "rawType": "float64",
         "type": "float"
        },
        {
         "name": "PE_VALUE",
         "rawType": "float64",
         "type": "float"
        },
        {
         "name": "USAGE",
         "rawType": "Int64",
         "type": "integer"
        },
        {
         "name": "DAYS",
         "rawType": "object",
         "type": "unknown"
        },
        {
         "name": "SCORE",
         "rawType": "float64",
         "type": "float"
        }
       ],
       "conversionMethod": "pd.DataFrame",
       "ref": "c55daabb-b7fa-4010-92c7-cae87fc41a27",
       "rows": [
        [
         "38",
         "775",
         "206",
         "0.5286464783448132",
         "[0.01397237 0.13972369 0.         0.06653509 0.09780658 0.01746546\n 0.00931491 0.         0.03881213 0.00529256 0.         0.13972369]",
         "1.0",
         "0.9999056665422359",
         "0.9934851727569373",
         "45",
         "[0, 4]",
         "2.528552144887049"
        ],
        [
         "33",
         "775",
         "208",
         "0.48466451620689727",
         "[0.02088597 0.1392398  0.05221493 0.07459275 0.14620179 0.01740498\n 0.00696199 0.         0.02320663 0.00395568 0.         0.        ]",
         "0.9088888888888889",
         "0.5474198678142667",
         "0.7898294642980425",
         "64",
         "[0, 4]",
         "1.9409732729100528"
        ],
        [
         "31",
         "775",
         "214",
         "0.6174114293550534",
         "[0.01490953 0.04969842 0.07454763 0.10649661 0.20873336 0.\n 0.         0.         0.00828307 0.00564755 0.         0.14909526]",
         "1.0",
         "0.9496400958712492",
         "0.6867182415460924",
         "77",
         "[2]",
         "2.5670515252263026"
        ],
        [
         "45",
         "775",
         "222",
         "0.632038455346321",
         "[0.0223027  0.07434232 0.05575674 0.07965249 0.15611887 0.\n 0.         0.         0.01239039 0.00844799 0.         0.22302696]",
         "0.9435294117647058",
         "0.9999999999999887",
         "0.990234345190269",
         "158",
         "[0, 4]",
         "2.5755678671110154"
        ],
        [
         "46",
         "775",
         "224",
         "0.632038455346321",
         "[0.0223027  0.07434232 0.05575674 0.07965249 0.15611887 0.\n 0.         0.         0.01239039 0.00844799 0.         0.22302696]",
         "1.0",
         "0.6447912854909384",
         "0.5987245285650771",
         "65",
         "[0, 4]",
         "2.2768297408372593"
        ],
        [
         "48",
         "775",
         "227",
         "0.09741856534123819",
         "[0.03404921 0.         0.         0.         0.         0.01418717\n 0.01134974 0.         0.03783245 0.         0.         0.        ]",
         "1.0",
         "0.0",
         "0.0",
         "2",
         "[2]",
         "1.0974185653412383"
        ]
       ],
       "shape": {
        "columns": 10,
        "rows": 6
       }
      },
      "text/html": [
       "<div>\n",
       "<style scoped>\n",
       "    .dataframe tbody tr th:only-of-type {\n",
       "        vertical-align: middle;\n",
       "    }\n",
       "\n",
       "    .dataframe tbody tr th {\n",
       "        vertical-align: top;\n",
       "    }\n",
       "\n",
       "    .dataframe thead th {\n",
       "        text-align: right;\n",
       "    }\n",
       "</style>\n",
       "<table border=\"1\" class=\"dataframe\">\n",
       "  <thead>\n",
       "    <tr style=\"text-align: right;\">\n",
       "      <th></th>\n",
       "      <th>PATIENT_ID</th>\n",
       "      <th>PROTOCOL_ID</th>\n",
       "      <th>PPF</th>\n",
       "      <th>CONTRIB</th>\n",
       "      <th>ADHERENCE</th>\n",
       "      <th>DM_VALUE</th>\n",
       "      <th>PE_VALUE</th>\n",
       "      <th>USAGE</th>\n",
       "      <th>DAYS</th>\n",
       "      <th>SCORE</th>\n",
       "    </tr>\n",
       "  </thead>\n",
       "  <tbody>\n",
       "    <tr>\n",
       "      <th>38</th>\n",
       "      <td>775</td>\n",
       "      <td>206</td>\n",
       "      <td>0.528646</td>\n",
       "      <td>[0.013972368519644753, 0.13972368519644754, 0....</td>\n",
       "      <td>1.000000</td>\n",
       "      <td>0.999906</td>\n",
       "      <td>0.993485</td>\n",
       "      <td>45</td>\n",
       "      <td>[0, 4]</td>\n",
       "      <td>2.528552</td>\n",
       "    </tr>\n",
       "    <tr>\n",
       "      <th>33</th>\n",
       "      <td>775</td>\n",
       "      <td>208</td>\n",
       "      <td>0.484665</td>\n",
       "      <td>[0.02088597029033065, 0.13923980193553767, 0.0...</td>\n",
       "      <td>0.908889</td>\n",
       "      <td>0.547420</td>\n",
       "      <td>0.789829</td>\n",
       "      <td>64</td>\n",
       "      <td>[0, 4]</td>\n",
       "      <td>1.940973</td>\n",
       "    </tr>\n",
       "    <tr>\n",
       "      <th>31</th>\n",
       "      <td>775</td>\n",
       "      <td>214</td>\n",
       "      <td>0.617411</td>\n",
       "      <td>[0.014909525935815035, 0.04969841978605012, 0....</td>\n",
       "      <td>1.000000</td>\n",
       "      <td>0.949640</td>\n",
       "      <td>0.686718</td>\n",
       "      <td>77</td>\n",
       "      <td>[2]</td>\n",
       "      <td>2.567052</td>\n",
       "    </tr>\n",
       "    <tr>\n",
       "      <th>45</th>\n",
       "      <td>775</td>\n",
       "      <td>222</td>\n",
       "      <td>0.632038</td>\n",
       "      <td>[0.022302696143133578, 0.07434232047711194, 0....</td>\n",
       "      <td>0.943529</td>\n",
       "      <td>1.000000</td>\n",
       "      <td>0.990234</td>\n",
       "      <td>158</td>\n",
       "      <td>[0, 4]</td>\n",
       "      <td>2.575568</td>\n",
       "    </tr>\n",
       "    <tr>\n",
       "      <th>46</th>\n",
       "      <td>775</td>\n",
       "      <td>224</td>\n",
       "      <td>0.632038</td>\n",
       "      <td>[0.022302696143133578, 0.07434232047711194, 0....</td>\n",
       "      <td>1.000000</td>\n",
       "      <td>0.644791</td>\n",
       "      <td>0.598725</td>\n",
       "      <td>65</td>\n",
       "      <td>[0, 4]</td>\n",
       "      <td>2.276830</td>\n",
       "    </tr>\n",
       "    <tr>\n",
       "      <th>48</th>\n",
       "      <td>775</td>\n",
       "      <td>227</td>\n",
       "      <td>0.097419</td>\n",
       "      <td>[0.03404920730373373, 0.0, 0.0, 0.0, 0.0, 0.01...</td>\n",
       "      <td>1.000000</td>\n",
       "      <td>0.000000</td>\n",
       "      <td>0.000000</td>\n",
       "      <td>2</td>\n",
       "      <td>[2]</td>\n",
       "      <td>1.097419</td>\n",
       "    </tr>\n",
       "  </tbody>\n",
       "</table>\n",
       "</div>"
      ],
      "text/plain": [
       "    PATIENT_ID  PROTOCOL_ID       PPF  \\\n",
       "38         775          206  0.528646   \n",
       "33         775          208  0.484665   \n",
       "31         775          214  0.617411   \n",
       "45         775          222  0.632038   \n",
       "46         775          224  0.632038   \n",
       "48         775          227  0.097419   \n",
       "\n",
       "                                              CONTRIB  ADHERENCE  DM_VALUE  \\\n",
       "38  [0.013972368519644753, 0.13972368519644754, 0....   1.000000  0.999906   \n",
       "33  [0.02088597029033065, 0.13923980193553767, 0.0...   0.908889  0.547420   \n",
       "31  [0.014909525935815035, 0.04969841978605012, 0....   1.000000  0.949640   \n",
       "45  [0.022302696143133578, 0.07434232047711194, 0....   0.943529  1.000000   \n",
       "46  [0.022302696143133578, 0.07434232047711194, 0....   1.000000  0.644791   \n",
       "48  [0.03404920730373373, 0.0, 0.0, 0.0, 0.0, 0.01...   1.000000  0.000000   \n",
       "\n",
       "    PE_VALUE  USAGE    DAYS     SCORE  \n",
       "38  0.993485     45  [0, 4]  2.528552  \n",
       "33  0.789829     64  [0, 4]  1.940973  \n",
       "31  0.686718     77     [2]  2.567052  \n",
       "45  0.990234    158  [0, 4]  2.575568  \n",
       "46  0.598725     65  [0, 4]  2.276830  \n",
       "48  0.000000      2     [2]  1.097419  "
      ]
     },
     "metadata": {},
     "output_type": "display_data"
    },
    {
     "name": "stdout",
     "output_type": "stream",
     "text": [
      "-----------------\n"
     ]
    },
    {
     "data": {
      "application/vnd.microsoft.datawrangler.viewer.v0+json": {
       "columns": [
        {
         "name": "index",
         "rawType": "int64",
         "type": "integer"
        },
        {
         "name": "PATIENT_ID",
         "rawType": "int64",
         "type": "integer"
        },
        {
         "name": "PROTOCOL_ID",
         "rawType": "int64",
         "type": "integer"
        },
        {
         "name": "PPF",
         "rawType": "float64",
         "type": "float"
        },
        {
         "name": "CONTRIB",
         "rawType": "object",
         "type": "unknown"
        },
        {
         "name": "ADHERENCE",
         "rawType": "float64",
         "type": "float"
        },
        {
         "name": "DM_VALUE",
         "rawType": "float64",
         "type": "float"
        },
        {
         "name": "PE_VALUE",
         "rawType": "float64",
         "type": "float"
        },
        {
         "name": "USAGE",
         "rawType": "int64",
         "type": "integer"
        },
        {
         "name": "DAYS",
         "rawType": "object",
         "type": "unknown"
        },
        {
         "name": "SCORE",
         "rawType": "float64",
         "type": "float"
        }
       ],
       "conversionMethod": "pd.DataFrame",
       "ref": "f0e02c76-52b1-42f4-8a6f-09038ed94be6",
       "rows": [
        [
         "0",
         "775",
         "206",
         "0.5286464783448132",
         "[0.01397237 0.13972369 0.         0.06653509 0.09780658 0.01746546\n 0.00931491 0.         0.03881213 0.00529256 0.         0.13972369]",
         "1.0",
         "0.9999056665422359",
         "0.9934851727569373",
         "45",
         "[0, 4]",
         "2.528552144887049"
        ],
        [
         "1",
         "775",
         "214",
         "0.6174114293550534",
         "[0.01490953 0.04969842 0.07454763 0.10649661 0.20873336 0.\n 0.         0.         0.00828307 0.00564755 0.         0.14909526]",
         "1.0",
         "0.9496400958712492",
         "0.6867182415460924",
         "77",
         "[2]",
         "2.5670515252263026"
        ],
        [
         "2",
         "775",
         "219",
         "0.6313709539339453",
         "[0.01678424 0.16784244 0.04196061 0.05994373 0.11748971 0.01398687\n 0.0111895  0.         0.02797374 0.00635767 0.         0.16784244]",
         "0.0",
         "0.0",
         "0.0",
         "0",
         "[0, 4]",
         "0.6313709539339453"
        ],
        [
         "3",
         "775",
         "222",
         "0.632038455346321",
         "[0.0223027  0.07434232 0.05575674 0.07965249 0.15611887 0.\n 0.         0.         0.01239039 0.00844799 0.         0.22302696]",
         "0.9435294117647058",
         "0.9999999999999887",
         "0.990234345190269",
         "158",
         "[0, 4]",
         "2.5755678671110154"
        ],
        [
         "4",
         "775",
         "224",
         "0.632038455346321",
         "[0.0223027  0.07434232 0.05575674 0.07965249 0.15611887 0.\n 0.         0.         0.01239039 0.00844799 0.         0.22302696]",
         "1.0",
         "0.6447912854909384",
         "0.5987245285650771",
         "65",
         "[0, 4]",
         "2.2768297408372593"
        ],
        [
         "5",
         "775",
         "225",
         "0.08465493220420263",
         "[0.04036527 0.         0.         0.         0.         0.00840943\n 0.01345509 0.         0.02242515 0.         0.         0.        ]",
         "0.0",
         "0.0",
         "0.0",
         "0",
         "[2]",
         "0.08465493220420263"
        ]
       ],
       "shape": {
        "columns": 10,
        "rows": 6
       }
      },
      "text/html": [
       "<div>\n",
       "<style scoped>\n",
       "    .dataframe tbody tr th:only-of-type {\n",
       "        vertical-align: middle;\n",
       "    }\n",
       "\n",
       "    .dataframe tbody tr th {\n",
       "        vertical-align: top;\n",
       "    }\n",
       "\n",
       "    .dataframe thead th {\n",
       "        text-align: right;\n",
       "    }\n",
       "</style>\n",
       "<table border=\"1\" class=\"dataframe\">\n",
       "  <thead>\n",
       "    <tr style=\"text-align: right;\">\n",
       "      <th></th>\n",
       "      <th>PATIENT_ID</th>\n",
       "      <th>PROTOCOL_ID</th>\n",
       "      <th>PPF</th>\n",
       "      <th>CONTRIB</th>\n",
       "      <th>ADHERENCE</th>\n",
       "      <th>DM_VALUE</th>\n",
       "      <th>PE_VALUE</th>\n",
       "      <th>USAGE</th>\n",
       "      <th>DAYS</th>\n",
       "      <th>SCORE</th>\n",
       "    </tr>\n",
       "  </thead>\n",
       "  <tbody>\n",
       "    <tr>\n",
       "      <th>0</th>\n",
       "      <td>775</td>\n",
       "      <td>206</td>\n",
       "      <td>0.528646</td>\n",
       "      <td>[0.013972368519644753, 0.13972368519644754, 0....</td>\n",
       "      <td>1.000000</td>\n",
       "      <td>0.999906</td>\n",
       "      <td>0.993485</td>\n",
       "      <td>45</td>\n",
       "      <td>[0, 4]</td>\n",
       "      <td>2.528552</td>\n",
       "    </tr>\n",
       "    <tr>\n",
       "      <th>1</th>\n",
       "      <td>775</td>\n",
       "      <td>214</td>\n",
       "      <td>0.617411</td>\n",
       "      <td>[0.014909525935815035, 0.04969841978605012, 0....</td>\n",
       "      <td>1.000000</td>\n",
       "      <td>0.949640</td>\n",
       "      <td>0.686718</td>\n",
       "      <td>77</td>\n",
       "      <td>[2]</td>\n",
       "      <td>2.567052</td>\n",
       "    </tr>\n",
       "    <tr>\n",
       "      <th>2</th>\n",
       "      <td>775</td>\n",
       "      <td>219</td>\n",
       "      <td>0.631371</td>\n",
       "      <td>[0.016784244244057927, 0.16784244244057928, 0....</td>\n",
       "      <td>0.000000</td>\n",
       "      <td>0.000000</td>\n",
       "      <td>0.000000</td>\n",
       "      <td>0</td>\n",
       "      <td>[0, 4]</td>\n",
       "      <td>0.631371</td>\n",
       "    </tr>\n",
       "    <tr>\n",
       "      <th>3</th>\n",
       "      <td>775</td>\n",
       "      <td>222</td>\n",
       "      <td>0.632038</td>\n",
       "      <td>[0.022302696143133578, 0.07434232047711194, 0....</td>\n",
       "      <td>0.943529</td>\n",
       "      <td>1.000000</td>\n",
       "      <td>0.990234</td>\n",
       "      <td>158</td>\n",
       "      <td>[0, 4]</td>\n",
       "      <td>2.575568</td>\n",
       "    </tr>\n",
       "    <tr>\n",
       "      <th>4</th>\n",
       "      <td>775</td>\n",
       "      <td>224</td>\n",
       "      <td>0.632038</td>\n",
       "      <td>[0.022302696143133578, 0.07434232047711194, 0....</td>\n",
       "      <td>1.000000</td>\n",
       "      <td>0.644791</td>\n",
       "      <td>0.598725</td>\n",
       "      <td>65</td>\n",
       "      <td>[0, 4]</td>\n",
       "      <td>2.276830</td>\n",
       "    </tr>\n",
       "    <tr>\n",
       "      <th>5</th>\n",
       "      <td>775</td>\n",
       "      <td>225</td>\n",
       "      <td>0.084655</td>\n",
       "      <td>[0.040365265686772116, 0.0, 0.0, 0.0, 0.0, 0.0...</td>\n",
       "      <td>0.000000</td>\n",
       "      <td>0.000000</td>\n",
       "      <td>0.000000</td>\n",
       "      <td>0</td>\n",
       "      <td>[2]</td>\n",
       "      <td>0.084655</td>\n",
       "    </tr>\n",
       "  </tbody>\n",
       "</table>\n",
       "</div>"
      ],
      "text/plain": [
       "   PATIENT_ID  PROTOCOL_ID       PPF  \\\n",
       "0         775          206  0.528646   \n",
       "1         775          214  0.617411   \n",
       "2         775          219  0.631371   \n",
       "3         775          222  0.632038   \n",
       "4         775          224  0.632038   \n",
       "5         775          225  0.084655   \n",
       "\n",
       "                                             CONTRIB  ADHERENCE  DM_VALUE  \\\n",
       "0  [0.013972368519644753, 0.13972368519644754, 0....   1.000000  0.999906   \n",
       "1  [0.014909525935815035, 0.04969841978605012, 0....   1.000000  0.949640   \n",
       "2  [0.016784244244057927, 0.16784244244057928, 0....   0.000000  0.000000   \n",
       "3  [0.022302696143133578, 0.07434232047711194, 0....   0.943529  1.000000   \n",
       "4  [0.022302696143133578, 0.07434232047711194, 0....   1.000000  0.644791   \n",
       "5  [0.040365265686772116, 0.0, 0.0, 0.0, 0.0, 0.0...   0.000000  0.000000   \n",
       "\n",
       "   PE_VALUE  USAGE    DAYS     SCORE  \n",
       "0  0.993485     45  [0, 4]  2.528552  \n",
       "1  0.686718     77     [2]  2.567052  \n",
       "2  0.000000      0  [0, 4]  0.631371  \n",
       "3  0.990234    158  [0, 4]  2.575568  \n",
       "4  0.598725     65  [0, 4]  2.276830  \n",
       "5  0.000000      0     [2]  0.084655  "
      ]
     },
     "metadata": {},
     "output_type": "display_data"
    }
   ],
   "source": [
    "i = 0\n",
    "for week, cumulative_week_data in iterate_cumulative_weekly_data(data):\n",
    "    # display(cumulative_week_data)  # Show last few rows\n",
    "    # display(cumulative_week_data.tail())\n",
    "    print(week)\n",
    "    \n",
    "    score = processor.compute_patient_protocol_scores(data=cumulative_week_data, ppf_data=ppf)\n",
    "    \n",
    "\n",
    "    \n",
    "    plt.hist(score[score.PATIENT_ID == 1123].PPF.values, bins=25)\n",
    "    plt.show()\n",
    "\n",
    "    cdss = CDSS(scoring=score, n=n, days=days, protocols_per_day=protocols_per_day)\n",
    "\n",
    "    display(cdss.get_prescriptions(775))\n",
    "\n",
    "    recommendation = cdss.recommend(775, protocol_similarity=protocol_similarity)\n",
    "\n",
    "    print(\"-----------------\")\n",
    "\n",
    "    display(recommendation)\n",
    "\n",
    "    i += 1\n",
    "    if i==5:\n",
    "        break"
   ]
  },
  {
   "cell_type": "markdown",
   "metadata": {},
   "source": [
    "### Comparison"
   ]
  },
  {
   "cell_type": "markdown",
   "metadata": {},
   "source": [
    "Trim by week, get prescriptions clinicians on sunday, get recommended prescriptions, compare"
   ]
  },
  {
   "cell_type": "code",
   "execution_count": null,
   "metadata": {},
   "outputs": [],
   "source": []
  }
 ],
 "metadata": {
  "kernelspec": {
   "display_name": "test-cdss",
   "language": "python",
   "name": "python3"
  },
  "language_info": {
   "codemirror_mode": {
    "name": "ipython",
    "version": 3
   },
   "file_extension": ".py",
   "mimetype": "text/x-python",
   "name": "python",
   "nbconvert_exporter": "python",
   "pygments_lexer": "ipython3",
   "version": "3.12.9"
  }
 },
 "nbformat": 4,
 "nbformat_minor": 2
}
