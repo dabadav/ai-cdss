{
 "cells": [
  {
   "cell_type": "code",
   "execution_count": 1,
   "metadata": {},
   "outputs": [],
   "source": [
    "%load_ext autoreload\n",
    "%autoreload 2\n",
    "import pandas as pd\n",
    "from ai_cdss.data_loader import DataLoader\n",
    "from ai_cdss.data_processor import DataProcessor"
   ]
  },
  {
   "cell_type": "code",
   "execution_count": 2,
   "metadata": {},
   "outputs": [],
   "source": [
    "rgs_mode = \"app\"\n",
    "scoring_weights = [1,1,1]\n",
    "ewma_alpha = 0.5"
   ]
  },
  {
   "cell_type": "code",
   "execution_count": 3,
   "metadata": {},
   "outputs": [],
   "source": [
    "patient_list = [\n",
    "    775,  787,  788, 1123, 1169, 1170, 1171, 1172, 1173, 1983, 2110, 2195,\n",
    "    2955, 2956, 2957, 2958, 2959, 2960, 2961, 2962, 2963, 3081, 3229, 3318, 3432\n",
    "]"
   ]
  },
  {
   "cell_type": "code",
   "execution_count": 4,
   "metadata": {},
   "outputs": [],
   "source": [
    "loader = DataLoader(rgs_mode=rgs_mode)\n",
    "processor = DataProcessor(weights=scoring_weights, alpha=ewma_alpha)"
   ]
  },
  {
   "cell_type": "code",
   "execution_count": 5,
   "metadata": {},
   "outputs": [
    {
     "name": "stdout",
     "output_type": "stream",
     "text": [
      "Database engine created successfully\n"
     ]
    },
    {
     "name": "stderr",
     "output_type": "stream",
     "text": [
      "INFO:ai_cdss.data_loader:Session data loaded successfully.\n"
     ]
    },
    {
     "name": "stdout",
     "output_type": "stream",
     "text": [
      "Database engine closed\n",
      "Database engine created successfully\n",
      "Database engine closed\n",
      "Database engine created successfully\n"
     ]
    },
    {
     "name": "stderr",
     "output_type": "stream",
     "text": [
      "INFO:ai_cdss.data_loader:PPF data loaded successfully.\n"
     ]
    },
    {
     "name": "stdout",
     "output_type": "stream",
     "text": [
      "Database engine closed\n"
     ]
    }
   ],
   "source": [
    "session = loader.load_session_data(patient_list=patient_list)\n",
    "timeseries = loader.load_timeseries_data(patient_list=patient_list)\n",
    "ppf = loader.load_ppf_data(patient_list=patient_list)"
   ]
  },
  {
   "cell_type": "code",
   "execution_count": 6,
   "metadata": {},
   "outputs": [],
   "source": [
    "scoring = processor.process_data(session_data=session, timeseries_data=timeseries, ppf_data=ppf)"
   ]
  },
  {
   "cell_type": "markdown",
   "metadata": {},
   "source": [
    "#### CDSS"
   ]
  },
  {
   "cell_type": "code",
   "execution_count": 7,
   "metadata": {},
   "outputs": [],
   "source": [
    "from ai_cdss.cdss import CDSS"
   ]
  },
  {
   "cell_type": "code",
   "execution_count": 37,
   "metadata": {},
   "outputs": [
    {
     "name": "stderr",
     "output_type": "stream",
     "text": [
      "INFO:ai_cdss.data_loader:Protocol similarity data loaded successfully.\n"
     ]
    }
   ],
   "source": [
    "protocol_similarity = loader.load_protocol_similarity()"
   ]
  },
  {
   "cell_type": "code",
   "execution_count": 38,
   "metadata": {},
   "outputs": [],
   "source": [
    "cdss = CDSS(\n",
    "    scoring=scoring\n",
    ")"
   ]
  },
  {
   "cell_type": "code",
   "execution_count": 41,
   "metadata": {},
   "outputs": [
    {
     "name": "stdout",
     "output_type": "stream",
     "text": [
      "775, {227: 225}\n",
      "787, {201: 222, 225: 216, 227: 216}\n",
      "788, {211: 215, 227: 225}\n",
      "1123, {205: 217, 206: 219, 209: 219, 227: 225}\n",
      "1169, {214: 203, 223: 204, 224: 201, 225: 227}\n",
      "1170, {211: 215, 225: 227}\n",
      "1171, {211: 215, 219: 206, 224: 201, 225: 227}\n",
      "1172, {226: 217, 227: 225}\n",
      "1173, {211: 215}\n",
      "1983, {225: 227}\n",
      "2110, {205: 217, 211: 215, 219: 206, 223: 214, 227: 225}\n",
      "2195, {211: 215, 219: 208}\n",
      "2955, {205: 217, 208: 217, 219: 209, 221: 217, 223: 214}\n",
      "2956, {211: 215, 219: 209, 224: 203, 225: 227}\n",
      "2957, {205: 217, 206: 217, 211: 215}\n",
      "2958, {208: 217, 211: 215, 219: 209, 223: 204, 225: 227}\n",
      "2959, {211: 215, 223: 204, 225: 227}\n",
      "2960, {205: 217, 211: 215, 219: 204, 223: 204, 225: 216, 227: 216}\n",
      "2961, {201: 203, 208: 217, 225: 216, 227: 216}\n",
      "2962, {219: 209, 225: 227}\n",
      "2963, {205: 217, 209: 219, 223: 204, 226: 217, 227: 225}\n",
      "3081, {205: 217, 219: 209, 227: 225}\n",
      "3229, {219: 209, 225: 227}\n",
      "3318, {211: 215, 225: 227}\n",
      "3432, {217: 217, 226: 226, 203: 203, 204: 204, 202: 202, 223: 223, 209: 209, 214: 214, 219: 219, 221: 221, 201: 201, 222: 222}\n"
     ]
    }
   ],
   "source": [
    "for patient_id in patient_list:\n",
    "    recommendation = cdss.recommend_prescriptions(patient_id=patient_id, protocol_similarity=protocol_similarity)\n",
    "    print(f\"{patient_id}, {recommendation}\")"
   ]
  }
 ],
 "metadata": {
  "kernelspec": {
   "display_name": "ai-cdss",
   "language": "python",
   "name": "python3"
  },
  "language_info": {
   "codemirror_mode": {
    "name": "ipython",
    "version": 3
   },
   "file_extension": ".py",
   "mimetype": "text/x-python",
   "name": "python",
   "nbconvert_exporter": "python",
   "pygments_lexer": "ipython3",
   "version": "3.12.9"
  }
 },
 "nbformat": 4,
 "nbformat_minor": 2
}
