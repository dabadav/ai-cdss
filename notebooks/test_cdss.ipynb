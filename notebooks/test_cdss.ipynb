{
 "cells": [
  {
   "cell_type": "code",
   "execution_count": 10,
   "metadata": {},
   "outputs": [
    {
     "name": "stdout",
     "output_type": "stream",
     "text": [
      "The autoreload extension is already loaded. To reload it, use:\n",
      "  %reload_ext autoreload\n"
     ]
    }
   ],
   "source": [
    "%load_ext autoreload\n",
    "%autoreload 2\n",
    "import pandas as pd\n",
    "from ai_cdss.data_loader import DataLoader\n",
    "from ai_cdss.data_processor import DataProcessor"
   ]
  },
  {
   "cell_type": "code",
   "execution_count": 11,
   "metadata": {},
   "outputs": [],
   "source": [
    "rgs_mode = \"app\"\n",
    "scoring_weights = [1,1,1]\n",
    "ewma_alpha = 0.5"
   ]
  },
  {
   "cell_type": "code",
   "execution_count": 12,
   "metadata": {},
   "outputs": [],
   "source": [
    "patient_list = [\n",
    "    775,  787,  788, 1123, 1169, 1170, 1171, 1172, 1173, 1983, 2110, 2195,\n",
    "    2955, 2956, 2957, 2958, 2959, 2960, 2961, 2962, 2963, 3081, 3229, 3318, 3432\n",
    "]"
   ]
  },
  {
   "cell_type": "code",
   "execution_count": 13,
   "metadata": {},
   "outputs": [],
   "source": [
    "loader = DataLoader(rgs_mode=rgs_mode)\n",
    "processor = DataProcessor(weights=scoring_weights, alpha=ewma_alpha)"
   ]
  },
  {
   "cell_type": "code",
   "execution_count": 14,
   "metadata": {},
   "outputs": [
    {
     "name": "stdout",
     "output_type": "stream",
     "text": [
      "Database engine created successfully\n"
     ]
    },
    {
     "name": "stderr",
     "output_type": "stream",
     "text": [
      "INFO:ai_cdss.data_loader:Session data loaded successfully.\n"
     ]
    },
    {
     "name": "stdout",
     "output_type": "stream",
     "text": [
      "Database engine closed\n",
      "Database engine created successfully\n",
      "Database engine closed\n",
      "Database engine created successfully\n"
     ]
    },
    {
     "name": "stderr",
     "output_type": "stream",
     "text": [
      "INFO:ai_cdss.data_loader:PPF data loaded successfully.\n"
     ]
    },
    {
     "name": "stdout",
     "output_type": "stream",
     "text": [
      "Database engine closed\n"
     ]
    }
   ],
   "source": [
    "session = loader.load_session_data(patient_list=patient_list)\n",
    "timeseries = loader.load_timeseries_data(patient_list=patient_list)\n",
    "ppf = loader.load_ppf_data(patient_list=patient_list)"
   ]
  },
  {
   "cell_type": "code",
   "execution_count": 15,
   "metadata": {},
   "outputs": [],
   "source": [
    "scoring = processor.process_data(session_data=session, timeseries_data=timeseries, ppf_data=ppf)"
   ]
  },
  {
   "cell_type": "markdown",
   "metadata": {},
   "source": [
    "#### CDSS"
   ]
  },
  {
   "cell_type": "code",
   "execution_count": 16,
   "metadata": {},
   "outputs": [],
   "source": [
    "from ai_cdss.cdss import CDSS"
   ]
  },
  {
   "cell_type": "code",
   "execution_count": 17,
   "metadata": {},
   "outputs": [
    {
     "name": "stderr",
     "output_type": "stream",
     "text": [
      "INFO:ai_cdss.data_loader:Protocol similarity data loaded successfully.\n"
     ]
    }
   ],
   "source": [
    "protocol_similarity = loader.load_protocol_similarity()"
   ]
  },
  {
   "cell_type": "code",
   "execution_count": 18,
   "metadata": {},
   "outputs": [],
   "source": [
    "cdss = CDSS(\n",
    "    scoring=scoring\n",
    ")"
   ]
  },
  {
   "cell_type": "code",
   "execution_count": 19,
   "metadata": {},
   "outputs": [],
   "source": [
    "patient_id = 775\n",
    "protocol_id = 227"
   ]
  },
  {
   "cell_type": "code",
   "execution_count": 20,
   "metadata": {},
   "outputs": [],
   "source": [
    "score_row = scoring[\n",
    "    (scoring[\"PATIENT_ID\"] == patient_id) & (scoring[\"PROTOCOL_ID\"] == protocol_id)\n",
    "]"
   ]
  },
  {
   "cell_type": "code",
   "execution_count": 21,
   "metadata": {},
   "outputs": [],
   "source": [
    "for patient_id in patient_list:\n",
    "    recommendation = cdss.recommend(patient_id=patient_id, protocol_similarity=protocol_similarity)\n",
    "    break"
   ]
  },
  {
   "cell_type": "code",
   "execution_count": 22,
   "metadata": {},
   "outputs": [
    {
     "data": {
      "application/vnd.microsoft.datawrangler.viewer.v0+json": {
       "columns": [
        {
         "name": "index",
         "rawType": "int64",
         "type": "integer"
        },
        {
         "name": "PATIENT_ID",
         "rawType": "int64",
         "type": "integer"
        },
        {
         "name": "PROTOCOL_ID",
         "rawType": "int64",
         "type": "integer"
        },
        {
         "name": "PPF",
         "rawType": "float64",
         "type": "float"
        },
        {
         "name": "CONTRIB",
         "rawType": "object",
         "type": "unknown"
        },
        {
         "name": "ADHERENCE",
         "rawType": "float64",
         "type": "float"
        },
        {
         "name": "DM_VALUE",
         "rawType": "float64",
         "type": "float"
        },
        {
         "name": "PE_VALUE",
         "rawType": "float64",
         "type": "float"
        },
        {
         "name": "USAGE",
         "rawType": "Int64",
         "type": "integer"
        },
        {
         "name": "DAYS",
         "rawType": "object",
         "type": "unknown"
        },
        {
         "name": "SCORE",
         "rawType": "float64",
         "type": "float"
        }
       ],
       "conversionMethod": "pd.DataFrame",
       "ref": "9266b063-1843-4e5d-b2ff-25783188cf2c",
       "rows": [
        [
         "38",
         "775",
         "206",
         "0.5286464783448132",
         "[0.013972368519644753, 0.13972368519644754, 0.0, 0.06653508818878455, 0.09780657963751328, 0.017465460649555953, 0.009314912346429836, 0.0, 0.03881213477679098, 0.005292563833198774, 0.0, 0.13972368519644754]",
         "0.7707773707773707",
         "0.9999999999976352",
         "0.8327682694158225",
         "87",
         "[0, 4]",
         "2.2994238491198193"
        ],
        [
         "33",
         "775",
         "208",
         "0.48466451620689727",
         "[0.02088597029033065, 0.13923980193553767, 0.05221492572582663, 0.07459275103689518, 0.14620179203231454, 0.017404975241942216, 0.006961990096776883, 0.0, 0.02320663365592294, 0.003955676191350505, 0.0, 0.0]",
         "0.6746910866910866",
         "0.994969902537775",
         "0.9742054045128621",
         "242",
         "[0, 2, 4]",
         "2.1543255054357586"
        ],
        [
         "31",
         "775",
         "214",
         "0.6174114293550534",
         "[0.014909525935815035, 0.04969841978605012, 0.07454762967907519, 0.10649661382725026, 0.2087333631014105, 0.0, 0.0, 0.0, 0.008283069964341685, 0.005647547702960245, 0.0, 0.14909525935815038]",
         "0.6094623655913979",
         "0.9494628904794808",
         "0.9349062394835934",
         "142",
         "[2]",
         "2.176336685425932"
        ],
        [
         "45",
         "775",
         "222",
         "0.632038455346321",
         "[0.022302696143133578, 0.07434232047711194, 0.055756740357833956, 0.07965248622547708, 0.15611887300193505, 0.0, 0.0, 0.0, 0.01239038674618532, 0.00844799096330818, 0.0, 0.22302696143133582]",
         "0.9859237536656892",
         "1.0",
         "0.9999998761231836",
         "225",
         "[0, 4]",
         "2.61796220901201"
        ],
        [
         "46",
         "775",
         "224",
         "0.632038455346321",
         "[0.022302696143133578, 0.07434232047711194, 0.055756740357833956, 0.07965248622547708, 0.15611887300193505, 0.0, 0.0, 0.0, 0.01239038674618532, 0.00844799096330818, 0.0, 0.22302696143133582]",
         "1.0",
         "0.6727851222686388",
         "0.7094695202631173",
         "95",
         "[0, 4]",
         "2.30482357761496"
        ],
        [
         "48",
         "775",
         "227",
         "0.09741856534123819",
         "[0.03404920730373373, 0.0, 0.0, 0.0, 0.0, 0.014187169709889064, 0.011349735767911245, 0.0, 0.03783245255970414, 0.0, 0.0, 0.0]",
         "1.0",
         "0.0",
         "0.0",
         "4",
         "[2]",
         "1.0974185653412383"
        ]
       ],
       "shape": {
        "columns": 10,
        "rows": 6
       }
      },
      "text/html": [
       "<div>\n",
       "<style scoped>\n",
       "    .dataframe tbody tr th:only-of-type {\n",
       "        vertical-align: middle;\n",
       "    }\n",
       "\n",
       "    .dataframe tbody tr th {\n",
       "        vertical-align: top;\n",
       "    }\n",
       "\n",
       "    .dataframe thead th {\n",
       "        text-align: right;\n",
       "    }\n",
       "</style>\n",
       "<table border=\"1\" class=\"dataframe\">\n",
       "  <thead>\n",
       "    <tr style=\"text-align: right;\">\n",
       "      <th></th>\n",
       "      <th>PATIENT_ID</th>\n",
       "      <th>PROTOCOL_ID</th>\n",
       "      <th>PPF</th>\n",
       "      <th>CONTRIB</th>\n",
       "      <th>ADHERENCE</th>\n",
       "      <th>DM_VALUE</th>\n",
       "      <th>PE_VALUE</th>\n",
       "      <th>USAGE</th>\n",
       "      <th>DAYS</th>\n",
       "      <th>SCORE</th>\n",
       "    </tr>\n",
       "  </thead>\n",
       "  <tbody>\n",
       "    <tr>\n",
       "      <th>38</th>\n",
       "      <td>775</td>\n",
       "      <td>206</td>\n",
       "      <td>0.528646</td>\n",
       "      <td>[0.013972368519644753, 0.13972368519644754, 0....</td>\n",
       "      <td>0.770777</td>\n",
       "      <td>1.000000</td>\n",
       "      <td>0.832768</td>\n",
       "      <td>87</td>\n",
       "      <td>[0, 4]</td>\n",
       "      <td>2.299424</td>\n",
       "    </tr>\n",
       "    <tr>\n",
       "      <th>33</th>\n",
       "      <td>775</td>\n",
       "      <td>208</td>\n",
       "      <td>0.484665</td>\n",
       "      <td>[0.02088597029033065, 0.13923980193553767, 0.0...</td>\n",
       "      <td>0.674691</td>\n",
       "      <td>0.994970</td>\n",
       "      <td>0.974205</td>\n",
       "      <td>242</td>\n",
       "      <td>[0, 2, 4]</td>\n",
       "      <td>2.154326</td>\n",
       "    </tr>\n",
       "    <tr>\n",
       "      <th>31</th>\n",
       "      <td>775</td>\n",
       "      <td>214</td>\n",
       "      <td>0.617411</td>\n",
       "      <td>[0.014909525935815035, 0.04969841978605012, 0....</td>\n",
       "      <td>0.609462</td>\n",
       "      <td>0.949463</td>\n",
       "      <td>0.934906</td>\n",
       "      <td>142</td>\n",
       "      <td>[2]</td>\n",
       "      <td>2.176337</td>\n",
       "    </tr>\n",
       "    <tr>\n",
       "      <th>45</th>\n",
       "      <td>775</td>\n",
       "      <td>222</td>\n",
       "      <td>0.632038</td>\n",
       "      <td>[0.022302696143133578, 0.07434232047711194, 0....</td>\n",
       "      <td>0.985924</td>\n",
       "      <td>1.000000</td>\n",
       "      <td>1.000000</td>\n",
       "      <td>225</td>\n",
       "      <td>[0, 4]</td>\n",
       "      <td>2.617962</td>\n",
       "    </tr>\n",
       "    <tr>\n",
       "      <th>46</th>\n",
       "      <td>775</td>\n",
       "      <td>224</td>\n",
       "      <td>0.632038</td>\n",
       "      <td>[0.022302696143133578, 0.07434232047711194, 0....</td>\n",
       "      <td>1.000000</td>\n",
       "      <td>0.672785</td>\n",
       "      <td>0.709470</td>\n",
       "      <td>95</td>\n",
       "      <td>[0, 4]</td>\n",
       "      <td>2.304824</td>\n",
       "    </tr>\n",
       "    <tr>\n",
       "      <th>48</th>\n",
       "      <td>775</td>\n",
       "      <td>227</td>\n",
       "      <td>0.097419</td>\n",
       "      <td>[0.03404920730373373, 0.0, 0.0, 0.0, 0.0, 0.01...</td>\n",
       "      <td>1.000000</td>\n",
       "      <td>0.000000</td>\n",
       "      <td>0.000000</td>\n",
       "      <td>4</td>\n",
       "      <td>[2]</td>\n",
       "      <td>1.097419</td>\n",
       "    </tr>\n",
       "  </tbody>\n",
       "</table>\n",
       "</div>"
      ],
      "text/plain": [
       "    PATIENT_ID  PROTOCOL_ID       PPF  \\\n",
       "38         775          206  0.528646   \n",
       "33         775          208  0.484665   \n",
       "31         775          214  0.617411   \n",
       "45         775          222  0.632038   \n",
       "46         775          224  0.632038   \n",
       "48         775          227  0.097419   \n",
       "\n",
       "                                              CONTRIB  ADHERENCE  DM_VALUE  \\\n",
       "38  [0.013972368519644753, 0.13972368519644754, 0....   0.770777  1.000000   \n",
       "33  [0.02088597029033065, 0.13923980193553767, 0.0...   0.674691  0.994970   \n",
       "31  [0.014909525935815035, 0.04969841978605012, 0....   0.609462  0.949463   \n",
       "45  [0.022302696143133578, 0.07434232047711194, 0....   0.985924  1.000000   \n",
       "46  [0.022302696143133578, 0.07434232047711194, 0....   1.000000  0.672785   \n",
       "48  [0.03404920730373373, 0.0, 0.0, 0.0, 0.0, 0.01...   1.000000  0.000000   \n",
       "\n",
       "    PE_VALUE  USAGE       DAYS     SCORE  \n",
       "38  0.832768     87     [0, 4]  2.299424  \n",
       "33  0.974205    242  [0, 2, 4]  2.154326  \n",
       "31  0.934906    142        [2]  2.176337  \n",
       "45  1.000000    225     [0, 4]  2.617962  \n",
       "46  0.709470     95     [0, 4]  2.304824  \n",
       "48  0.000000      4        [2]  1.097419  "
      ]
     },
     "execution_count": 22,
     "metadata": {},
     "output_type": "execute_result"
    }
   ],
   "source": [
    "cdss.get_prescriptions(patient_id)"
   ]
  },
  {
   "cell_type": "code",
   "execution_count": 23,
   "metadata": {},
   "outputs": [],
   "source": [
    "recommendation.to_parquet(\"recommendation.parquet\")"
   ]
  },
  {
   "cell_type": "code",
   "execution_count": 38,
   "metadata": {},
   "outputs": [
    {
     "data": {
      "text/plain": [
       "[0, 4, 0, 2, 4, 2, 0, 4, 0, 4, 2]"
      ]
     },
     "execution_count": 38,
     "metadata": {},
     "output_type": "execute_result"
    }
   ],
   "source": [
    "list(recommendation['DAYS'].explode())"
   ]
  },
  {
   "cell_type": "code",
   "execution_count": 40,
   "metadata": {},
   "outputs": [],
   "source": [
    "from collections import Counter"
   ]
  },
  {
   "cell_type": "code",
   "execution_count": 42,
   "metadata": {},
   "outputs": [],
   "source": [
    "# Flatten all day assignments for this patient\n",
    "collapsed_days_list = list(recommendation['DAYS'].explode())\n",
    "\n",
    "# Count how many times each day appears\n",
    "day_counts = Counter(collapsed_days_list)"
   ]
  },
  {
   "cell_type": "code",
   "execution_count": 43,
   "metadata": {},
   "outputs": [
    {
     "data": {
      "text/plain": [
       "Counter({0: 4, 4: 4, 2: 3})"
      ]
     },
     "execution_count": 43,
     "metadata": {},
     "output_type": "execute_result"
    }
   ],
   "source": [
    "day_counts"
   ]
  },
  {
   "cell_type": "code",
   "execution_count": null,
   "metadata": {},
   "outputs": [
    {
     "ename": "AssertionError",
     "evalue": "Day 0 has 4 prescriptions (expected 2)",
     "output_type": "error",
     "traceback": [
      "\u001b[31m---------------------------------------------------------------------------\u001b[39m",
      "\u001b[31mAssertionError\u001b[39m                            Traceback (most recent call last)",
      "\u001b[36mCell\u001b[39m\u001b[36m \u001b[39m\u001b[32mIn[44]\u001b[39m\u001b[32m, line 3\u001b[39m\n\u001b[32m      1\u001b[39m \u001b[38;5;66;03m# ✅ Assert each day (0–6) appears exactly 2 times\u001b[39;00m\n\u001b[32m      2\u001b[39m \u001b[38;5;28;01mfor\u001b[39;00m day \u001b[38;5;129;01min\u001b[39;00m \u001b[38;5;28mrange\u001b[39m(\u001b[32m7\u001b[39m):\n\u001b[32m----> \u001b[39m\u001b[32m3\u001b[39m     \u001b[38;5;28;01massert\u001b[39;00m day_counts[day] == \u001b[32m2\u001b[39m, \u001b[33mf\u001b[39m\u001b[33m\"\u001b[39m\u001b[33mDay \u001b[39m\u001b[38;5;132;01m{\u001b[39;00mday\u001b[38;5;132;01m}\u001b[39;00m\u001b[33m has \u001b[39m\u001b[38;5;132;01m{\u001b[39;00mday_counts[day]\u001b[38;5;132;01m}\u001b[39;00m\u001b[33m prescriptions (expected 2)\u001b[39m\u001b[33m\"\u001b[39m\n",
      "\u001b[31mAssertionError\u001b[39m: Day 0 has 4 prescriptions (expected 2)"
     ]
    }
   ],
   "source": [
    "# ✅ Assert each day (0–6) appears exactly 2 times\n",
    "for day in range(7):\n",
    "    assert day_counts[day] == 2, f\"Day {day} has {day_counts[day]} prescriptions (expected 2)\""
   ]
  },
  {
   "cell_type": "code",
   "execution_count": 46,
   "metadata": {},
   "outputs": [
    {
     "data": {
      "text/plain": [
       "{0, 1, 2, 3, 4, 5, 6}"
      ]
     },
     "execution_count": 46,
     "metadata": {},
     "output_type": "execute_result"
    }
   ],
   "source": [
    "import numpy as np\n",
    "set(np.arange(0,7,1))"
   ]
  },
  {
   "cell_type": "code",
   "execution_count": 33,
   "metadata": {},
   "outputs": [
    {
     "name": "stdout",
     "output_type": "stream",
     "text": [
      "[0, 4]\n",
      "[0, 2, 4]\n",
      "[2]\n",
      "[0, 4]\n",
      "[0, 4]\n",
      "[2]\n"
     ]
    }
   ],
   "source": [
    "for row in recommendation['DAYS']:\n",
    "    print(row)"
   ]
  }
 ],
 "metadata": {
  "kernelspec": {
   "display_name": "ai-cdss",
   "language": "python",
   "name": "python3"
  },
  "language_info": {
   "codemirror_mode": {
    "name": "ipython",
    "version": 3
   },
   "file_extension": ".py",
   "mimetype": "text/x-python",
   "name": "python",
   "nbconvert_exporter": "python",
   "pygments_lexer": "ipython3",
   "version": "3.12.9"
  }
 },
 "nbformat": 4,
 "nbformat_minor": 2
}
