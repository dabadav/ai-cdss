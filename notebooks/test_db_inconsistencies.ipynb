{
 "cells": [
  {
   "cell_type": "code",
   "execution_count": 1,
   "metadata": {},
   "outputs": [],
   "source": [
    "from rgs_interface.data.interface import fetch_rgs_data, fetch_timeseries_data"
   ]
  },
  {
   "cell_type": "code",
   "execution_count": 2,
   "metadata": {},
   "outputs": [],
   "source": [
    "patient_ids = [1]\n",
    "rgs_mode = \"app\"\n",
    "output_file = None"
   ]
  },
  {
   "cell_type": "code",
   "execution_count": null,
   "metadata": {},
   "outputs": [],
   "source": [
    "from pathlib import Path\n",
    "# query_file = Path(\"query.sql\").resolve()  # this makes it an absolute path\n",
    "\n",
    "df =  _fetch(\n",
    "    query=query_file,\n",
    "    params={\"patient_ids\": tuple(patient_ids)},\n",
    "    rgs_mode=rgs_mode,\n",
    "    output_file=output_file\n",
    ")"
   ]
  },
  {
   "cell_type": "code",
   "execution_count": 3,
   "metadata": {},
   "outputs": [
    {
     "name": "stdout",
     "output_type": "stream",
     "text": [
      "Database engine created successfully\n",
      "Database engine closed\n",
      "Database engine created successfully\n",
      "Database engine closed\n"
     ]
    }
   ],
   "source": [
    "df = fetch_timeseries_data(\n",
    "    patient_ids=patient_ids,\n",
    "    rgs_mode=\"app\",\n",
    "    output_file=\"\"\n",
    ")"
   ]
  },
  {
   "cell_type": "code",
   "execution_count": null,
   "metadata": {},
   "outputs": [],
   "source": [
    "df"
   ]
  },
  {
   "cell_type": "code",
   "execution_count": 4,
   "metadata": {},
   "outputs": [],
   "source": [
    "from ai_cdss.data_loader import DataLoader"
   ]
  },
  {
   "cell_type": "code",
   "execution_count": 5,
   "metadata": {},
   "outputs": [],
   "source": [
    "loader = DataLoader(rgs_mode = \"app\")"
   ]
  },
  {
   "cell_type": "code",
   "execution_count": 6,
   "metadata": {},
   "outputs": [
    {
     "name": "stdout",
     "output_type": "stream",
     "text": [
      "Database engine created successfully\n"
     ]
    },
    {
     "name": "stderr",
     "output_type": "stream",
     "text": [
      "INFO:ai_cdss.data_loader:Session data loaded successfully.\n",
      "2025-04-01 10:18:13,865 - INFO - Skipping dtype check for nullable columns with all null values: AGE, VIDEOGAME_EXP, COMPUTER_EXP, COMMENTS, PRESCRIPTION_ID, SESSION_ID, PROTOCOL_ID, PRESCRIPTION_STARTING_DATE, PRESCRIPTION_ENDING_DATE, SESSION_DATE, STARTING_HOUR, STARTING_TIME_CATEGORY, WEEKDAY_INDEX, STATUS, PROTOCOL_TYPE, AR_MODE, REAL_SESSION_DURATION, PRESCRIBED_SESSION_DURATION, SESSION_DURATION, ADHERENCE, TOTAL_SUCCESS, TOTAL_ERRORS, SCORE\n"
     ]
    },
    {
     "name": "stdout",
     "output_type": "stream",
     "text": [
      "Database engine closed\n"
     ]
    }
   ],
   "source": [
    "df = loader.load_session_data(\n",
    "    [1]\n",
    ")"
   ]
  },
  {
   "cell_type": "code",
   "execution_count": null,
   "metadata": {},
   "outputs": [],
   "source": [
    "loader.load_timeseries_data(\n",
    "    [1]\n",
    ")"
   ]
  },
  {
   "cell_type": "code",
   "execution_count": null,
   "metadata": {},
   "outputs": [],
   "source": [
    "df"
   ]
  },
  {
   "cell_type": "code",
   "execution_count": null,
   "metadata": {},
   "outputs": [],
   "source": [
    "from ai_cdss.models import SessionSchema, safe_check_types\n",
    "import pandas as pd"
   ]
  },
  {
   "cell_type": "code",
   "execution_count": null,
   "metadata": {},
   "outputs": [],
   "source": [
    "@safe_check_types(SessionSchema)\n",
    "def test_all_null_columns():\n",
    "    # All values NaN/null for nullable columns\n",
    "    columns = SessionSchema.to_schema().columns.keys()\n",
    "    df = pd.DataFrame({col: [None, None] for col in columns})\n",
    "    return df"
   ]
  },
  {
   "cell_type": "code",
   "execution_count": null,
   "metadata": {},
   "outputs": [],
   "source": [
    "test_all_null_columns()"
   ]
  },
  {
   "cell_type": "code",
   "execution_count": null,
   "metadata": {},
   "outputs": [],
   "source": [
    "pd.DataFrame({\n",
    "        'PATIENT_ID': [1, 2],\n",
    "        'HOSPITAL_ID': [None, 10],\n",
    "        'AGE': [25, None],\n",
    "        'SESSION_DATE': [pd.Timestamp('2023-01-01'), None],\n",
    "        'STARTING_HOUR': [9, None],\n",
    "        'STATUS': ['CLOSED', None],\n",
    "        'ADHERENCE': [0.9, None],\n",
    "        'SCORE': [100, None],\n",
    "        # other columns filled with None\n",
    "        **{col: [None, None] for col in SessionSchema.to_schema().columns.keys()\n",
    "           if col not in ['PATIENT_ID', 'HOSPITAL_ID', 'AGE', 'SESSION_DATE', 'STARTING_HOUR', 'STATUS', 'ADHERENCE', 'SCORE']}\n",
    "    })"
   ]
  }
 ],
 "metadata": {
  "kernelspec": {
   "display_name": "ai-cdss",
   "language": "python",
   "name": "python3"
  },
  "language_info": {
   "codemirror_mode": {
    "name": "ipython",
    "version": 3
   },
   "file_extension": ".py",
   "mimetype": "text/x-python",
   "name": "python",
   "nbconvert_exporter": "python",
   "pygments_lexer": "ipython3",
   "version": "3.12.9"
  }
 },
 "nbformat": 4,
 "nbformat_minor": 2
}
